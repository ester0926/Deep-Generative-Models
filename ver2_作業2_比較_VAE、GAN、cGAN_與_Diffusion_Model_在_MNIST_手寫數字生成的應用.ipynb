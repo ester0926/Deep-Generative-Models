{
  "nbformat": 4,
  "nbformat_minor": 0,
  "metadata": {
    "colab": {
      "provenance": [],
      "gpuType": "T4",
      "authorship_tag": "ABX9TyMDqiBlJHlF22O+hWijp/S1",
      "include_colab_link": true
    },
    "kernelspec": {
      "name": "python3",
      "display_name": "Python 3"
    },
    "language_info": {
      "name": "python"
    },
    "accelerator": "GPU"
  },
  "cells": [
    {
      "cell_type": "markdown",
      "metadata": {
        "id": "view-in-github",
        "colab_type": "text"
      },
      "source": [
        "<a href=\"https://colab.research.google.com/github/ester0926/Deep-Generative-Models/blob/main/ver2_%E4%BD%9C%E6%A5%AD2_%E6%AF%94%E8%BC%83_VAE%E3%80%81GAN%E3%80%81cGAN_%E8%88%87_Diffusion_Model_%E5%9C%A8_MNIST_%E6%89%8B%E5%AF%AB%E6%95%B8%E5%AD%97%E7%94%9F%E6%88%90%E7%9A%84%E6%87%89%E7%94%A8.ipynb\" target=\"_parent\"><img src=\"https://colab.research.google.com/assets/colab-badge.svg\" alt=\"Open In Colab\"/></a>"
      ]
    },
    {
      "cell_type": "code",
      "source": [
        "# Colab 進行matplotlib繪圖時顯示繁體中文\n",
        "# 下載台北思源黑體並命名taipei_sans_tc_beta.ttf，移至指定路徑\n",
        "!wget -O TaipeiSansTCBeta-Regular.ttf https://drive.google.com/uc?id=1eGAsTN1HBpJAkeVM57_C7ccp7hbgSz3_&export=download\n",
        "\n",
        "import matplotlib\n",
        "\n",
        "# 改style要在改font之前\n",
        "# plt.style.use('seaborn')\n",
        "\n",
        "matplotlib.font_manager.fontManager.addfont('TaipeiSansTCBeta-Regular.ttf')\n",
        "matplotlib.rc('font', family='Taipei Sans TC Beta')"
      ],
      "metadata": {
        "colab": {
          "base_uri": "https://localhost:8080/"
        },
        "id": "rQ39GNjyUesb",
        "outputId": "5e93ff3b-eaec-438d-af3f-64b7fbdb94a7"
      },
      "execution_count": 1,
      "outputs": [
        {
          "output_type": "stream",
          "name": "stdout",
          "text": [
            "--2025-10-06 00:06:48--  https://drive.google.com/uc?id=1eGAsTN1HBpJAkeVM57_C7ccp7hbgSz3_\n",
            "Resolving drive.google.com (drive.google.com)... 142.250.141.113, 142.250.141.139, 142.250.141.100, ...\n",
            "Connecting to drive.google.com (drive.google.com)|142.250.141.113|:443... connected.\n",
            "HTTP request sent, awaiting response... 303 See Other\n",
            "Location: https://drive.usercontent.google.com/download?id=1eGAsTN1HBpJAkeVM57_C7ccp7hbgSz3_ [following]\n",
            "--2025-10-06 00:06:48--  https://drive.usercontent.google.com/download?id=1eGAsTN1HBpJAkeVM57_C7ccp7hbgSz3_\n",
            "Resolving drive.usercontent.google.com (drive.usercontent.google.com)... 74.125.137.132, 2607:f8b0:4023:c03::84\n",
            "Connecting to drive.usercontent.google.com (drive.usercontent.google.com)|74.125.137.132|:443... connected.\n",
            "HTTP request sent, awaiting response... 200 OK\n",
            "Length: 20659344 (20M) [application/octet-stream]\n",
            "Saving to: ‘TaipeiSansTCBeta-Regular.ttf’\n",
            "\n",
            "TaipeiSansTCBeta-Re 100%[===================>]  19.70M  60.2MB/s    in 0.3s    \n",
            "\n",
            "2025-10-06 00:06:50 (60.2 MB/s) - ‘TaipeiSansTCBeta-Regular.ttf’ saved [20659344/20659344]\n",
            "\n"
          ]
        }
      ]
    },
    {
      "cell_type": "code",
      "source": [
        "# 前置設定\n",
        "import os\n",
        "os.environ['CUDA_LAUNCH_BLOCKING'] = '1'\n",
        "os.environ['TORCH_USE_CUDA_DSA'] = '1'\n",
        "\n",
        "# 匯入必要套件\n",
        "import torch\n",
        "import torch.nn as nn\n",
        "import torch.optim as optim\n",
        "import torch.nn.functional as F\n",
        "from torchvision import datasets, transforms\n",
        "from torch.utils.data import DataLoader, random_split\n",
        "import matplotlib.pyplot as plt\n",
        "import numpy as np\n",
        "import random, time\n",
        "from tqdm import tqdm\n",
        "import torchvision.utils as vutils\n",
        "\n",
        "# 設定隨機種子以確保可重現性\n",
        "torch.manual_seed(42)\n",
        "np.random.seed(42)\n",
        "random.seed(42)\n",
        "\n",
        "# 裝置設定\n",
        "device = torch.device('cuda' if torch.cuda.is_available() else 'cpu')\n",
        "\n",
        "# 超參數\n",
        "batch_size = 128\n",
        "image_size = 28\n",
        "channels = 1\n",
        "latent_dim = 20  # 用於 VAE\n",
        "noise_dim = 100  # 用於 GAN 和 cGAN\n",
        "num_classes = 10  # 用於 cGAN\n",
        "epochs_vae = 50\n",
        "epochs_gan = 50\n",
        "epochs_cgan = 50\n",
        "epochs_diffusion = 200\n",
        "lr_vae = 1e-3\n",
        "lr_gan = 2e-4\n",
        "lr_cgan = 2e-4\n",
        "lr_diffusion = 2e-4\n",
        "beta1 = 0.5\n",
        "patience = 10\n",
        "\n",
        "# 資料載入\n",
        "transform = transforms.Compose([\n",
        "    transforms.ToTensor(),\n",
        "    transforms.Normalize((0.5,), (0.5,))\n",
        "])\n",
        "\n",
        "full_train_dataset = datasets.MNIST(root='./data', train=True, download=True, transform=transform)\n",
        "test_dataset = datasets.MNIST(root='./data', train=False, download=True, transform=transform)\n",
        "\n",
        "# train/valid split\n",
        "train_size = int(0.8 * len(full_train_dataset))\n",
        "valid_size = len(full_train_dataset) - train_size\n",
        "train_dataset, valid_dataset = random_split(full_train_dataset, [train_size, valid_size])\n",
        "\n",
        "train_loader = DataLoader(train_dataset, batch_size=batch_size, shuffle=True, drop_last=True)\n",
        "valid_loader = DataLoader(valid_dataset, batch_size=batch_size, shuffle=False, drop_last=False)\n",
        "test_loader = DataLoader(test_dataset, batch_size=batch_size, shuffle=False, drop_last=False)\n",
        "\n",
        "# 顯示影像的函數\n",
        "def show_images(images, title, nrow=10):\n",
        "    grid = vutils.make_grid(images, nrow=nrow, normalize=True)\n",
        "    plt.figure(figsize=(10, 10))\n",
        "    plt.imshow(grid.permute(1, 2, 0).cpu().numpy())\n",
        "    plt.title(title)\n",
        "    plt.axis('off')\n",
        "    plt.show()\n",
        "\n",
        "# Diffusion 超參數\n",
        "timesteps = 300\n",
        "betas = torch.linspace(1e-4, 0.02, timesteps).to(device)\n",
        "alphas = 1 - betas\n",
        "alphas_cumprod = torch.cumprod(alphas, dim=0)\n",
        "alphas_cumprod_prev = F.pad(alphas_cumprod[:-1], (1, 0), value=1.0)\n",
        "sqrt_alphas_cumprod = torch.sqrt(alphas_cumprod)\n",
        "sqrt_one_minus_alphas_cumprod = torch.sqrt(1 - alphas_cumprod)\n",
        "sqrt_recip_alphas = torch.sqrt(1.0 / alphas)\n",
        "posterior_variance = betas * (1.0 - alphas_cumprod_prev) / (1.0 - alphas_cumprod)\n",
        "\n",
        "def extract(a, t, x_shape):\n",
        "    b = t.shape[0]\n",
        "    out = a.gather(-1, t).reshape(b, *((1,) * (len(x_shape) - 1)))\n",
        "    return out\n",
        "\n",
        "def q_sample(x0, t, noise=None):\n",
        "    if noise is None:\n",
        "        noise = torch.randn_like(x0)\n",
        "    return extract(sqrt_alphas_cumprod, t, x0.shape) * x0 + extract(sqrt_one_minus_alphas_cumprod, t, x0.shape) * noise"
      ],
      "metadata": {
        "colab": {
          "base_uri": "https://localhost:8080/"
        },
        "id": "w8DGYliyUhJ2",
        "outputId": "cbdf18a8-defc-4944-885d-77a90fb5b3d1"
      },
      "execution_count": 2,
      "outputs": [
        {
          "output_type": "stream",
          "name": "stderr",
          "text": [
            "100%|██████████| 9.91M/9.91M [00:00<00:00, 20.6MB/s]\n",
            "100%|██████████| 28.9k/28.9k [00:00<00:00, 498kB/s]\n",
            "100%|██████████| 1.65M/1.65M [00:00<00:00, 4.61MB/s]\n",
            "100%|██████████| 4.54k/4.54k [00:00<00:00, 8.75MB/s]\n"
          ]
        }
      ]
    },
    {
      "cell_type": "code",
      "source": [
        "# VAE 模型\n",
        "class VAE(nn.Module):\n",
        "    def __init__(self):\n",
        "        super(VAE, self).__init__()\n",
        "        # 編碼器\n",
        "        self.encoder = nn.Sequential(\n",
        "            nn.Conv2d(1, 32, kernel_size=3, stride=2, padding=1),\n",
        "            nn.ReLU(),\n",
        "            nn.Conv2d(32, 64, kernel_size=3, stride=2, padding=1),\n",
        "            nn.ReLU(),\n",
        "            nn.Flatten(),\n",
        "            nn.Linear(64 * 7 * 7, 128),\n",
        "            nn.ReLU()\n",
        "        )\n",
        "        self.fc_mu = nn.Linear(128, latent_dim)\n",
        "        self.fc_logvar = nn.Linear(128, latent_dim)\n",
        "\n",
        "        # 解碼器\n",
        "        self.decoder = nn.Sequential(\n",
        "            nn.Linear(latent_dim, 128),\n",
        "            nn.ReLU(),\n",
        "            nn.Linear(128, 64 * 7 * 7),\n",
        "            nn.ReLU(),\n",
        "            nn.Unflatten(1, (64, 7, 7)),\n",
        "            nn.ConvTranspose2d(64, 32, kernel_size=3, stride=2, padding=1, output_padding=1),\n",
        "            nn.ReLU(),\n",
        "            nn.ConvTranspose2d(32, 1, kernel_size=3, stride=2, padding=1, output_padding=1),\n",
        "            nn.Sigmoid()\n",
        "        )\n",
        "\n",
        "    def encode(self, x):\n",
        "        h = self.encoder(x)\n",
        "        return self.fc_mu(h), self.fc_logvar(h)\n",
        "\n",
        "    def reparameterize(self, mu, logvar):\n",
        "        std = torch.exp(0.5 * logvar)\n",
        "        eps = torch.randn_like(std)\n",
        "        return mu + eps * std\n",
        "\n",
        "    def decode(self, z):\n",
        "        return self.decoder(z)\n",
        "\n",
        "    def forward(self, x):\n",
        "        mu, logvar = self.encode(x)\n",
        "        z = self.reparameterize(mu, logvar)\n",
        "        return self.decode(z), mu, logvar\n",
        "\n",
        "# VAE 損失函數\n",
        "def vae_loss(recon_x, x, mu, logvar):\n",
        "    target = (x + 1) / 2\n",
        "    BCE = F.binary_cross_entropy(recon_x, target, reduction='sum')\n",
        "    KLD = -0.5 * torch.sum(1 + logvar - mu.pow(2) - logvar.exp())\n",
        "    return BCE + KLD\n",
        "\n",
        "# 初始化模型\n",
        "vae = VAE().to(device)\n",
        "optimizer_vae = optim.Adam(vae.parameters(), lr=lr_vae)\n",
        "\n",
        "# 訓練 VAE\n",
        "def vae_loss_batch(x):\n",
        "    recon_batch, mu, logvar = vae(x)\n",
        "    loss = vae_loss(recon_batch, x, mu, logvar)\n",
        "    return loss / x.size(0)  # 平均損失\n",
        "\n",
        "best_val = float('inf')\n",
        "early = 0\n",
        "best_model_path = \"vae_best.pth\"\n",
        "train_losses, valid_losses = [], []\n",
        "\n",
        "print(\"訓練 VAE...\")\n",
        "total_start = time.time()\n",
        "for epoch in range(1, epochs_vae + 1):\n",
        "    ep_start = time.time()\n",
        "    vae.train()\n",
        "    train_loss_sum = 0.0\n",
        "    for data, _ in tqdm(train_loader):\n",
        "        data = data.to(device)\n",
        "        loss = vae_loss_batch(data)\n",
        "        optimizer_vae.zero_grad()\n",
        "        loss.backward()\n",
        "        optimizer_vae.step()\n",
        "        train_loss_sum += loss.item()\n",
        "    avg_train = train_loss_sum / len(train_loader.dataset)\n",
        "    train_losses.append(avg_train)\n",
        "\n",
        "    # validation\n",
        "    vae.eval()\n",
        "    val_sum = 0.0\n",
        "    with torch.no_grad():\n",
        "        for data, _ in valid_loader:\n",
        "            data = data.to(device)\n",
        "            val_sum += vae_loss_batch(data).item()\n",
        "    avg_val = val_sum / len(valid_loader.dataset)\n",
        "    valid_losses.append(avg_val)\n",
        "\n",
        "    ep_time = time.time() - ep_start\n",
        "    print(f\"VAE Epoch {epoch}/{epochs_vae}, Loss: {avg_train:.4f} | Val: {avg_val:.4f} | Time: {ep_time:.2f}s\")\n",
        "\n",
        "    if avg_val < best_val:\n",
        "        best_val = avg_val\n",
        "        torch.save(vae.state_dict(), best_model_path)\n",
        "        print(\"儲存最佳模型\")\n",
        "        early = 0\n",
        "    else:\n",
        "        early += 1\n",
        "        if early >= patience:\n",
        "            print(\"早停觸發\")\n",
        "            break\n",
        "\n",
        "total_time = time.time() - total_start\n",
        "print(f\"總訓練時間: {total_time:.2f}s\")\n",
        "\n",
        "# 生成 VAE 影像\n",
        "with torch.no_grad():\n",
        "    z = torch.randn(10, latent_dim).to(device)\n",
        "    vae_samples = vae.decode(z)\n",
        "show_images(vae_samples, \"VAE 生成的影像\", nrow=5)"
      ],
      "metadata": {
        "colab": {
          "base_uri": "https://localhost:8080/",
          "height": 1000
        },
        "id": "lPjDfD4OUxq7",
        "outputId": "a7db2ddb-88ef-48a0-84f9-b0daf61a69d6"
      },
      "execution_count": 3,
      "outputs": [
        {
          "output_type": "stream",
          "name": "stdout",
          "text": [
            "訓練 VAE...\n"
          ]
        },
        {
          "output_type": "stream",
          "name": "stderr",
          "text": [
            "100%|██████████| 375/375 [00:16<00:00, 22.87it/s]\n"
          ]
        },
        {
          "output_type": "stream",
          "name": "stdout",
          "text": [
            "VAE Epoch 1/50, Loss: 1.4924 | Val: 1.1271 | Time: 18.72s\n",
            "儲存最佳模型\n"
          ]
        },
        {
          "output_type": "stream",
          "name": "stderr",
          "text": [
            "100%|██████████| 375/375 [00:12<00:00, 30.45it/s]\n"
          ]
        },
        {
          "output_type": "stream",
          "name": "stdout",
          "text": [
            "VAE Epoch 2/50, Loss: 1.0238 | Val: 0.9478 | Time: 14.68s\n",
            "儲存最佳模型\n"
          ]
        },
        {
          "output_type": "stream",
          "name": "stderr",
          "text": [
            "100%|██████████| 375/375 [00:12<00:00, 29.99it/s]\n"
          ]
        },
        {
          "output_type": "stream",
          "name": "stdout",
          "text": [
            "VAE Epoch 3/50, Loss: 0.9081 | Val: 0.8835 | Time: 14.84s\n",
            "儲存最佳模型\n"
          ]
        },
        {
          "output_type": "stream",
          "name": "stderr",
          "text": [
            "100%|██████████| 375/375 [00:12<00:00, 30.41it/s]\n"
          ]
        },
        {
          "output_type": "stream",
          "name": "stdout",
          "text": [
            "VAE Epoch 4/50, Loss: 0.8650 | Val: 0.8550 | Time: 15.08s\n",
            "儲存最佳模型\n"
          ]
        },
        {
          "output_type": "stream",
          "name": "stderr",
          "text": [
            "100%|██████████| 375/375 [00:12<00:00, 29.89it/s]\n"
          ]
        },
        {
          "output_type": "stream",
          "name": "stdout",
          "text": [
            "VAE Epoch 5/50, Loss: 0.8446 | Val: 0.8415 | Time: 15.00s\n",
            "儲存最佳模型\n"
          ]
        },
        {
          "output_type": "stream",
          "name": "stderr",
          "text": [
            "100%|██████████| 375/375 [00:12<00:00, 28.94it/s]\n"
          ]
        },
        {
          "output_type": "stream",
          "name": "stdout",
          "text": [
            "VAE Epoch 6/50, Loss: 0.8325 | Val: 0.8312 | Time: 15.35s\n",
            "儲存最佳模型\n"
          ]
        },
        {
          "output_type": "stream",
          "name": "stderr",
          "text": [
            "100%|██████████| 375/375 [00:12<00:00, 30.36it/s]\n"
          ]
        },
        {
          "output_type": "stream",
          "name": "stdout",
          "text": [
            "VAE Epoch 7/50, Loss: 0.8240 | Val: 0.8254 | Time: 14.69s\n",
            "儲存最佳模型\n"
          ]
        },
        {
          "output_type": "stream",
          "name": "stderr",
          "text": [
            "100%|██████████| 375/375 [00:12<00:00, 30.22it/s]\n"
          ]
        },
        {
          "output_type": "stream",
          "name": "stdout",
          "text": [
            "VAE Epoch 8/50, Loss: 0.8176 | Val: 0.8232 | Time: 16.04s\n",
            "儲存最佳模型\n"
          ]
        },
        {
          "output_type": "stream",
          "name": "stderr",
          "text": [
            "100%|██████████| 375/375 [00:12<00:00, 30.09it/s]\n"
          ]
        },
        {
          "output_type": "stream",
          "name": "stdout",
          "text": [
            "VAE Epoch 9/50, Loss: 0.8125 | Val: 0.8173 | Time: 14.80s\n",
            "儲存最佳模型\n"
          ]
        },
        {
          "output_type": "stream",
          "name": "stderr",
          "text": [
            "100%|██████████| 375/375 [00:12<00:00, 29.83it/s]\n"
          ]
        },
        {
          "output_type": "stream",
          "name": "stdout",
          "text": [
            "VAE Epoch 10/50, Loss: 0.8084 | Val: 0.8131 | Time: 14.99s\n",
            "儲存最佳模型\n"
          ]
        },
        {
          "output_type": "stream",
          "name": "stderr",
          "text": [
            "100%|██████████| 375/375 [00:12<00:00, 30.34it/s]\n"
          ]
        },
        {
          "output_type": "stream",
          "name": "stdout",
          "text": [
            "VAE Epoch 11/50, Loss: 0.8044 | Val: 0.8130 | Time: 14.71s\n",
            "儲存最佳模型\n"
          ]
        },
        {
          "output_type": "stream",
          "name": "stderr",
          "text": [
            "100%|██████████| 375/375 [00:12<00:00, 30.45it/s]\n"
          ]
        },
        {
          "output_type": "stream",
          "name": "stdout",
          "text": [
            "VAE Epoch 12/50, Loss: 0.8007 | Val: 0.8075 | Time: 15.02s\n",
            "儲存最佳模型\n"
          ]
        },
        {
          "output_type": "stream",
          "name": "stderr",
          "text": [
            "100%|██████████| 375/375 [00:12<00:00, 29.87it/s]\n"
          ]
        },
        {
          "output_type": "stream",
          "name": "stdout",
          "text": [
            "VAE Epoch 13/50, Loss: 0.7980 | Val: 0.8062 | Time: 15.08s\n",
            "儲存最佳模型\n"
          ]
        },
        {
          "output_type": "stream",
          "name": "stderr",
          "text": [
            "100%|██████████| 375/375 [00:12<00:00, 30.41it/s]\n"
          ]
        },
        {
          "output_type": "stream",
          "name": "stdout",
          "text": [
            "VAE Epoch 14/50, Loss: 0.7958 | Val: 0.8046 | Time: 14.71s\n",
            "儲存最佳模型\n"
          ]
        },
        {
          "output_type": "stream",
          "name": "stderr",
          "text": [
            "100%|██████████| 375/375 [00:12<00:00, 30.27it/s]\n"
          ]
        },
        {
          "output_type": "stream",
          "name": "stdout",
          "text": [
            "VAE Epoch 15/50, Loss: 0.7935 | Val: 0.8002 | Time: 14.76s\n",
            "儲存最佳模型\n"
          ]
        },
        {
          "output_type": "stream",
          "name": "stderr",
          "text": [
            "100%|██████████| 375/375 [00:12<00:00, 30.47it/s]\n"
          ]
        },
        {
          "output_type": "stream",
          "name": "stdout",
          "text": [
            "VAE Epoch 16/50, Loss: 0.7906 | Val: 0.8004 | Time: 14.80s\n"
          ]
        },
        {
          "output_type": "stream",
          "name": "stderr",
          "text": [
            "100%|██████████| 375/375 [00:12<00:00, 30.07it/s]\n"
          ]
        },
        {
          "output_type": "stream",
          "name": "stdout",
          "text": [
            "VAE Epoch 17/50, Loss: 0.7894 | Val: 0.7973 | Time: 15.24s\n",
            "儲存最佳模型\n"
          ]
        },
        {
          "output_type": "stream",
          "name": "stderr",
          "text": [
            "100%|██████████| 375/375 [00:12<00:00, 29.26it/s]\n"
          ]
        },
        {
          "output_type": "stream",
          "name": "stdout",
          "text": [
            "VAE Epoch 18/50, Loss: 0.7875 | Val: 0.7952 | Time: 15.24s\n",
            "儲存最佳模型\n"
          ]
        },
        {
          "output_type": "stream",
          "name": "stderr",
          "text": [
            "100%|██████████| 375/375 [00:12<00:00, 30.31it/s]\n"
          ]
        },
        {
          "output_type": "stream",
          "name": "stdout",
          "text": [
            "VAE Epoch 19/50, Loss: 0.7863 | Val: 0.7947 | Time: 14.78s\n",
            "儲存最佳模型\n"
          ]
        },
        {
          "output_type": "stream",
          "name": "stderr",
          "text": [
            "100%|██████████| 375/375 [00:12<00:00, 30.24it/s]\n"
          ]
        },
        {
          "output_type": "stream",
          "name": "stdout",
          "text": [
            "VAE Epoch 20/50, Loss: 0.7847 | Val: 0.7955 | Time: 14.87s\n"
          ]
        },
        {
          "output_type": "stream",
          "name": "stderr",
          "text": [
            "100%|██████████| 375/375 [00:12<00:00, 29.96it/s]\n"
          ]
        },
        {
          "output_type": "stream",
          "name": "stdout",
          "text": [
            "VAE Epoch 21/50, Loss: 0.7836 | Val: 0.7916 | Time: 15.33s\n",
            "儲存最佳模型\n"
          ]
        },
        {
          "output_type": "stream",
          "name": "stderr",
          "text": [
            "100%|██████████| 375/375 [00:12<00:00, 30.23it/s]\n"
          ]
        },
        {
          "output_type": "stream",
          "name": "stdout",
          "text": [
            "VAE Epoch 22/50, Loss: 0.7819 | Val: 0.7927 | Time: 14.77s\n"
          ]
        },
        {
          "output_type": "stream",
          "name": "stderr",
          "text": [
            "100%|██████████| 375/375 [00:12<00:00, 30.11it/s]\n"
          ]
        },
        {
          "output_type": "stream",
          "name": "stdout",
          "text": [
            "VAE Epoch 23/50, Loss: 0.7809 | Val: 0.7920 | Time: 14.86s\n"
          ]
        },
        {
          "output_type": "stream",
          "name": "stderr",
          "text": [
            "100%|██████████| 375/375 [00:12<00:00, 30.26it/s]\n"
          ]
        },
        {
          "output_type": "stream",
          "name": "stdout",
          "text": [
            "VAE Epoch 24/50, Loss: 0.7798 | Val: 0.7908 | Time: 14.74s\n",
            "儲存最佳模型\n"
          ]
        },
        {
          "output_type": "stream",
          "name": "stderr",
          "text": [
            "100%|██████████| 375/375 [00:12<00:00, 29.93it/s]\n"
          ]
        },
        {
          "output_type": "stream",
          "name": "stdout",
          "text": [
            "VAE Epoch 25/50, Loss: 0.7790 | Val: 0.7910 | Time: 15.52s\n"
          ]
        },
        {
          "output_type": "stream",
          "name": "stderr",
          "text": [
            "100%|██████████| 375/375 [00:12<00:00, 30.29it/s]\n"
          ]
        },
        {
          "output_type": "stream",
          "name": "stdout",
          "text": [
            "VAE Epoch 26/50, Loss: 0.7778 | Val: 0.7866 | Time: 14.76s\n",
            "儲存最佳模型\n"
          ]
        },
        {
          "output_type": "stream",
          "name": "stderr",
          "text": [
            "100%|██████████| 375/375 [00:12<00:00, 30.26it/s]\n"
          ]
        },
        {
          "output_type": "stream",
          "name": "stdout",
          "text": [
            "VAE Epoch 27/50, Loss: 0.7770 | Val: 0.7912 | Time: 14.76s\n"
          ]
        },
        {
          "output_type": "stream",
          "name": "stderr",
          "text": [
            "100%|██████████| 375/375 [00:12<00:00, 29.49it/s]\n"
          ]
        },
        {
          "output_type": "stream",
          "name": "stdout",
          "text": [
            "VAE Epoch 28/50, Loss: 0.7763 | Val: 0.7868 | Time: 15.45s\n"
          ]
        },
        {
          "output_type": "stream",
          "name": "stderr",
          "text": [
            "100%|██████████| 375/375 [00:12<00:00, 30.09it/s]\n"
          ]
        },
        {
          "output_type": "stream",
          "name": "stdout",
          "text": [
            "VAE Epoch 29/50, Loss: 0.7752 | Val: 0.7870 | Time: 15.39s\n"
          ]
        },
        {
          "output_type": "stream",
          "name": "stderr",
          "text": [
            "100%|██████████| 375/375 [00:12<00:00, 30.39it/s]\n"
          ]
        },
        {
          "output_type": "stream",
          "name": "stdout",
          "text": [
            "VAE Epoch 30/50, Loss: 0.7746 | Val: 0.7853 | Time: 14.78s\n",
            "儲存最佳模型\n"
          ]
        },
        {
          "output_type": "stream",
          "name": "stderr",
          "text": [
            "100%|██████████| 375/375 [00:12<00:00, 29.37it/s]\n"
          ]
        },
        {
          "output_type": "stream",
          "name": "stdout",
          "text": [
            "VAE Epoch 31/50, Loss: 0.7738 | Val: 0.7867 | Time: 15.22s\n"
          ]
        },
        {
          "output_type": "stream",
          "name": "stderr",
          "text": [
            "100%|██████████| 375/375 [00:12<00:00, 30.07it/s]\n"
          ]
        },
        {
          "output_type": "stream",
          "name": "stdout",
          "text": [
            "VAE Epoch 32/50, Loss: 0.7729 | Val: 0.7862 | Time: 14.86s\n"
          ]
        },
        {
          "output_type": "stream",
          "name": "stderr",
          "text": [
            "100%|██████████| 375/375 [00:12<00:00, 30.07it/s]\n"
          ]
        },
        {
          "output_type": "stream",
          "name": "stdout",
          "text": [
            "VAE Epoch 33/50, Loss: 0.7720 | Val: 0.7833 | Time: 15.46s\n",
            "儲存最佳模型\n"
          ]
        },
        {
          "output_type": "stream",
          "name": "stderr",
          "text": [
            "100%|██████████| 375/375 [00:12<00:00, 30.24it/s]\n"
          ]
        },
        {
          "output_type": "stream",
          "name": "stdout",
          "text": [
            "VAE Epoch 34/50, Loss: 0.7720 | Val: 0.7840 | Time: 14.78s\n"
          ]
        },
        {
          "output_type": "stream",
          "name": "stderr",
          "text": [
            "100%|██████████| 375/375 [00:12<00:00, 30.27it/s]\n"
          ]
        },
        {
          "output_type": "stream",
          "name": "stdout",
          "text": [
            "VAE Epoch 35/50, Loss: 0.7714 | Val: 0.7844 | Time: 14.72s\n"
          ]
        },
        {
          "output_type": "stream",
          "name": "stderr",
          "text": [
            "100%|██████████| 375/375 [00:12<00:00, 30.51it/s]\n"
          ]
        },
        {
          "output_type": "stream",
          "name": "stdout",
          "text": [
            "VAE Epoch 36/50, Loss: 0.7703 | Val: 0.7840 | Time: 14.66s\n"
          ]
        },
        {
          "output_type": "stream",
          "name": "stderr",
          "text": [
            "100%|██████████| 375/375 [00:12<00:00, 30.34it/s]\n"
          ]
        },
        {
          "output_type": "stream",
          "name": "stdout",
          "text": [
            "VAE Epoch 37/50, Loss: 0.7698 | Val: 0.7819 | Time: 15.35s\n",
            "儲存最佳模型\n"
          ]
        },
        {
          "output_type": "stream",
          "name": "stderr",
          "text": [
            "100%|██████████| 375/375 [00:12<00:00, 30.26it/s]\n"
          ]
        },
        {
          "output_type": "stream",
          "name": "stdout",
          "text": [
            "VAE Epoch 38/50, Loss: 0.7693 | Val: 0.7831 | Time: 15.34s\n"
          ]
        },
        {
          "output_type": "stream",
          "name": "stderr",
          "text": [
            "100%|██████████| 375/375 [00:12<00:00, 30.36it/s]\n"
          ]
        },
        {
          "output_type": "stream",
          "name": "stdout",
          "text": [
            "VAE Epoch 39/50, Loss: 0.7679 | Val: 0.7809 | Time: 14.73s\n",
            "儲存最佳模型\n"
          ]
        },
        {
          "output_type": "stream",
          "name": "stderr",
          "text": [
            "100%|██████████| 375/375 [00:12<00:00, 30.40it/s]\n"
          ]
        },
        {
          "output_type": "stream",
          "name": "stdout",
          "text": [
            "VAE Epoch 40/50, Loss: 0.7677 | Val: 0.7829 | Time: 14.74s\n"
          ]
        },
        {
          "output_type": "stream",
          "name": "stderr",
          "text": [
            "100%|██████████| 375/375 [00:12<00:00, 30.37it/s]\n"
          ]
        },
        {
          "output_type": "stream",
          "name": "stdout",
          "text": [
            "VAE Epoch 41/50, Loss: 0.7669 | Val: 0.7804 | Time: 15.34s\n",
            "儲存最佳模型\n"
          ]
        },
        {
          "output_type": "stream",
          "name": "stderr",
          "text": [
            "100%|██████████| 375/375 [00:12<00:00, 30.43it/s]\n"
          ]
        },
        {
          "output_type": "stream",
          "name": "stdout",
          "text": [
            "VAE Epoch 42/50, Loss: 0.7670 | Val: 0.7814 | Time: 14.66s\n"
          ]
        },
        {
          "output_type": "stream",
          "name": "stderr",
          "text": [
            "100%|██████████| 375/375 [00:12<00:00, 30.33it/s]\n"
          ]
        },
        {
          "output_type": "stream",
          "name": "stdout",
          "text": [
            "VAE Epoch 43/50, Loss: 0.7665 | Val: 0.7815 | Time: 14.70s\n"
          ]
        },
        {
          "output_type": "stream",
          "name": "stderr",
          "text": [
            "100%|██████████| 375/375 [00:12<00:00, 30.38it/s]\n"
          ]
        },
        {
          "output_type": "stream",
          "name": "stdout",
          "text": [
            "VAE Epoch 44/50, Loss: 0.7660 | Val: 0.7803 | Time: 14.71s\n",
            "儲存最佳模型\n"
          ]
        },
        {
          "output_type": "stream",
          "name": "stderr",
          "text": [
            "100%|██████████| 375/375 [00:12<00:00, 30.44it/s]\n"
          ]
        },
        {
          "output_type": "stream",
          "name": "stdout",
          "text": [
            "VAE Epoch 45/50, Loss: 0.7654 | Val: 0.7810 | Time: 14.90s\n"
          ]
        },
        {
          "output_type": "stream",
          "name": "stderr",
          "text": [
            "100%|██████████| 375/375 [00:12<00:00, 30.05it/s]\n"
          ]
        },
        {
          "output_type": "stream",
          "name": "stdout",
          "text": [
            "VAE Epoch 46/50, Loss: 0.7652 | Val: 0.7792 | Time: 15.23s\n",
            "儲存最佳模型\n"
          ]
        },
        {
          "output_type": "stream",
          "name": "stderr",
          "text": [
            "100%|██████████| 375/375 [00:12<00:00, 30.31it/s]\n"
          ]
        },
        {
          "output_type": "stream",
          "name": "stdout",
          "text": [
            "VAE Epoch 47/50, Loss: 0.7645 | Val: 0.7786 | Time: 14.74s\n",
            "儲存最佳模型\n"
          ]
        },
        {
          "output_type": "stream",
          "name": "stderr",
          "text": [
            "100%|██████████| 375/375 [00:12<00:00, 30.22it/s]\n"
          ]
        },
        {
          "output_type": "stream",
          "name": "stdout",
          "text": [
            "VAE Epoch 48/50, Loss: 0.7641 | Val: 0.7826 | Time: 15.54s\n"
          ]
        },
        {
          "output_type": "stream",
          "name": "stderr",
          "text": [
            "100%|██████████| 375/375 [00:12<00:00, 29.91it/s]\n"
          ]
        },
        {
          "output_type": "stream",
          "name": "stdout",
          "text": [
            "VAE Epoch 49/50, Loss: 0.7636 | Val: 0.7805 | Time: 15.21s\n"
          ]
        },
        {
          "output_type": "stream",
          "name": "stderr",
          "text": [
            "100%|██████████| 375/375 [00:12<00:00, 28.94it/s]\n"
          ]
        },
        {
          "output_type": "stream",
          "name": "stdout",
          "text": [
            "VAE Epoch 50/50, Loss: 0.7635 | Val: 0.7800 | Time: 15.43s\n",
            "總訓練時間: 754.30s\n"
          ]
        },
        {
          "output_type": "display_data",
          "data": {
            "text/plain": [
              "<Figure size 1000x1000 with 1 Axes>"
            ],
            "image/png": "[encoded data removed]"
          },
          "metadata": {}
        }
      ]
    },
    {
      "cell_type": "code",
      "source": [
        "# GAN 模型 - 升級為 CNN 版本\n",
        "class GeneratorGAN(nn.Module):\n",
        "    def __init__(self):\n",
        "        super(GeneratorGAN, self).__init__()\n",
        "        self.model = nn.Sequential(\n",
        "            nn.Linear(noise_dim, 256 * 7 * 7),\n",
        "            nn.Unflatten(1, (256, 7, 7)),\n",
        "            nn.ConvTranspose2d(256, 128, kernel_size=3, stride=2, padding=1, output_padding=1),\n",
        "            nn.BatchNorm2d(128),\n",
        "            nn.LeakyReLU(0.2),\n",
        "            nn.ConvTranspose2d(128, 64, kernel_size=3, stride=2, padding=1, output_padding=1),\n",
        "            nn.BatchNorm2d(64),\n",
        "            nn.LeakyReLU(0.2),\n",
        "            nn.ConvTranspose2d(64, 1, kernel_size=3, stride=1, padding=1),\n",
        "            nn.Tanh()\n",
        "        )\n",
        "\n",
        "    def forward(self, z):\n",
        "        return self.model(z)\n",
        "\n",
        "class DiscriminatorGAN(nn.Module):\n",
        "    def __init__(self):\n",
        "        super(DiscriminatorGAN, self).__init__()\n",
        "        self.model = nn.Sequential(\n",
        "            nn.Conv2d(1, 64, kernel_size=3, stride=2, padding=1),\n",
        "            nn.LeakyReLU(0.2),\n",
        "            nn.Conv2d(64, 128, kernel_size=3, stride=2, padding=1),\n",
        "            nn.LeakyReLU(0.2),\n",
        "            nn.Flatten(),\n",
        "            nn.Linear(128 * 7 * 7, 1),\n",
        "            nn.Sigmoid()\n",
        "        )\n",
        "\n",
        "    def forward(self, x):\n",
        "        return self.model(x)\n",
        "\n",
        "# 初始化\n",
        "generator_gan = GeneratorGAN().to(device)\n",
        "discriminator_gan = DiscriminatorGAN().to(device)\n",
        "optimizer_g = optim.Adam(generator_gan.parameters(), lr=lr_gan, betas=(beta1, 0.999))\n",
        "optimizer_d = optim.Adam(discriminator_gan.parameters(), lr=lr_gan, betas=(beta1, 0.999))\n",
        "criterion = nn.BCELoss()\n",
        "\n",
        "# 訓練函數（包含參數更新）\n",
        "def gan_train_step(images):\n",
        "    images = images.to(device)\n",
        "    real = torch.ones(images.size(0), 1).to(device)\n",
        "    fake = torch.zeros(images.size(0), 1).to(device)\n",
        "\n",
        "    # 訓練判別器\n",
        "    optimizer_d.zero_grad()\n",
        "    output_real = discriminator_gan(images)\n",
        "    loss_real = criterion(output_real, real)\n",
        "    z = torch.randn(images.size(0), noise_dim).to(device)\n",
        "    fake_images = generator_gan(z)\n",
        "    output_fake = discriminator_gan(fake_images.detach())\n",
        "    loss_fake = criterion(output_fake, fake)\n",
        "    loss_d = loss_real + loss_fake\n",
        "    loss_d.backward()\n",
        "    optimizer_d.step()\n",
        "\n",
        "    # 訓練生成器\n",
        "    optimizer_g.zero_grad()\n",
        "    output_fake = discriminator_gan(fake_images)\n",
        "    loss_g = criterion(output_fake, real)\n",
        "    loss_g.backward()\n",
        "    optimizer_g.step()\n",
        "\n",
        "    return loss_d.item() + loss_g.item()\n",
        "\n",
        "# 驗證函數（只計算損失）\n",
        "def gan_valid_step(images):\n",
        "    images = images.to(device)\n",
        "    real = torch.ones(images.size(0), 1).to(device)\n",
        "    fake = torch.zeros(images.size(0), 1).to(device)\n",
        "\n",
        "    # 只做前向傳播，不更新參數\n",
        "    output_real = discriminator_gan(images)\n",
        "    loss_real = criterion(output_real, real)\n",
        "\n",
        "    z = torch.randn(images.size(0), noise_dim).to(device)\n",
        "    fake_images = generator_gan(z)\n",
        "    output_fake = discriminator_gan(fake_images)\n",
        "    loss_fake = criterion(output_fake, fake)\n",
        "\n",
        "    loss_d = loss_real + loss_fake\n",
        "\n",
        "    # 生成器損失\n",
        "    output_fake_for_g = discriminator_gan(fake_images)\n",
        "    loss_g = criterion(output_fake_for_g, real)\n",
        "\n",
        "    return (loss_d + loss_g).item()\n",
        "\n",
        "# 訓練循環\n",
        "best_val = float('inf')\n",
        "early = 0\n",
        "best_model_path_g = \"gan_generator_best.pth\"\n",
        "best_model_path_d = \"gan_discriminator_best.pth\"\n",
        "train_losses, valid_losses = [], []\n",
        "\n",
        "print(\"訓練 GAN...\")\n",
        "total_start = time.time()\n",
        "for epoch in range(1, epochs_gan + 1):\n",
        "    ep_start = time.time()\n",
        "    generator_gan.train()\n",
        "    discriminator_gan.train()\n",
        "    train_loss_sum = 0.0\n",
        "    for images, _ in tqdm(train_loader):\n",
        "        train_loss_sum += gan_train_step(images)\n",
        "    avg_train = train_loss_sum / len(train_loader.dataset)\n",
        "    train_losses.append(avg_train)\n",
        "\n",
        "    # validation\n",
        "    generator_gan.eval()\n",
        "    discriminator_gan.eval()\n",
        "    val_sum = 0.0\n",
        "    with torch.no_grad():\n",
        "        for images, _ in valid_loader:\n",
        "            val_sum += gan_valid_step(images)\n",
        "    avg_val = val_sum / len(valid_loader.dataset)\n",
        "    valid_losses.append(avg_val)\n",
        "\n",
        "    ep_time = time.time() - ep_start\n",
        "    print(f\"GAN Epoch {epoch}/{epochs_gan}, Loss: {avg_train:.4f} | Val: {avg_val:.4f} | Time: {ep_time:.2f}s\")\n",
        "\n",
        "    if avg_val < best_val:\n",
        "        best_val = avg_val\n",
        "        torch.save(generator_gan.state_dict(), best_model_path_g)\n",
        "        torch.save(discriminator_gan.state_dict(), best_model_path_d)\n",
        "        print(\"儲存最佳模型\")\n",
        "        early = 0\n",
        "    else:\n",
        "        early += 1\n",
        "        if early >= patience:\n",
        "            print(\"早停觸發\")\n",
        "            break\n",
        "\n",
        "total_time = time.time() - total_start\n",
        "print(f\"總訓練時間: {total_time:.2f}s\")\n",
        "\n",
        "# 生成 GAN 影像\n",
        "with torch.no_grad():\n",
        "    z = torch.randn(10, noise_dim).to(device)\n",
        "    gan_samples = generator_gan(z)\n",
        "show_images(gan_samples, \"GAN 生成的影像\", nrow=5)"
      ],
      "metadata": {
        "colab": {
          "base_uri": "https://localhost:8080/",
          "height": 878
        },
        "id": "ZTUcRpH4U1QI",
        "outputId": "3bda9ad4-2f91-4a30-8e53-3dbd46ee18d4"
      },
      "execution_count": 4,
      "outputs": [
        {
          "output_type": "stream",
          "name": "stdout",
          "text": [
            "訓練 GAN...\n"
          ]
        },
        {
          "output_type": "stream",
          "name": "stderr",
          "text": [
            "100%|██████████| 375/375 [00:18<00:00, 19.83it/s]\n"
          ]
        },
        {
          "output_type": "stream",
          "name": "stdout",
          "text": [
            "GAN Epoch 1/50, Loss: 0.0173 | Val: 0.0168 | Time: 22.47s\n",
            "儲存最佳模型\n"
          ]
        },
        {
          "output_type": "stream",
          "name": "stderr",
          "text": [
            "100%|██████████| 375/375 [00:19<00:00, 19.72it/s]\n"
          ]
        },
        {
          "output_type": "stream",
          "name": "stdout",
          "text": [
            "GAN Epoch 2/50, Loss: 0.0164 | Val: 0.0144 | Time: 22.34s\n",
            "儲存最佳模型\n"
          ]
        },
        {
          "output_type": "stream",
          "name": "stderr",
          "text": [
            "100%|██████████| 375/375 [00:19<00:00, 18.89it/s]\n"
          ]
        },
        {
          "output_type": "stream",
          "name": "stdout",
          "text": [
            "GAN Epoch 3/50, Loss: 0.0163 | Val: 0.0160 | Time: 22.90s\n"
          ]
        },
        {
          "output_type": "stream",
          "name": "stderr",
          "text": [
            "100%|██████████| 375/375 [00:20<00:00, 18.63it/s]\n"
          ]
        },
        {
          "output_type": "stream",
          "name": "stdout",
          "text": [
            "GAN Epoch 4/50, Loss: 0.0162 | Val: 0.0155 | Time: 23.23s\n"
          ]
        },
        {
          "output_type": "stream",
          "name": "stderr",
          "text": [
            "100%|██████████| 375/375 [00:19<00:00, 18.92it/s]\n"
          ]
        },
        {
          "output_type": "stream",
          "name": "stdout",
          "text": [
            "GAN Epoch 5/50, Loss: 0.0162 | Val: 0.0163 | Time: 22.83s\n"
          ]
        },
        {
          "output_type": "stream",
          "name": "stderr",
          "text": [
            "100%|██████████| 375/375 [00:19<00:00, 18.99it/s]\n"
          ]
        },
        {
          "output_type": "stream",
          "name": "stdout",
          "text": [
            "GAN Epoch 6/50, Loss: 0.0164 | Val: 0.0179 | Time: 22.74s\n"
          ]
        },
        {
          "output_type": "stream",
          "name": "stderr",
          "text": [
            "100%|██████████| 375/375 [00:19<00:00, 19.66it/s]\n"
          ]
        },
        {
          "output_type": "stream",
          "name": "stdout",
          "text": [
            "GAN Epoch 7/50, Loss: 0.0163 | Val: 0.0157 | Time: 22.10s\n"
          ]
        },
        {
          "output_type": "stream",
          "name": "stderr",
          "text": [
            "100%|██████████| 375/375 [00:18<00:00, 19.77it/s]\n"
          ]
        },
        {
          "output_type": "stream",
          "name": "stdout",
          "text": [
            "GAN Epoch 8/50, Loss: 0.0164 | Val: 0.0146 | Time: 22.46s\n"
          ]
        },
        {
          "output_type": "stream",
          "name": "stderr",
          "text": [
            "100%|██████████| 375/375 [00:18<00:00, 20.20it/s]\n"
          ]
        },
        {
          "output_type": "stream",
          "name": "stdout",
          "text": [
            "GAN Epoch 9/50, Loss: 0.0164 | Val: 0.0169 | Time: 22.12s\n"
          ]
        },
        {
          "output_type": "stream",
          "name": "stderr",
          "text": [
            "100%|██████████| 375/375 [00:18<00:00, 19.91it/s]\n"
          ]
        },
        {
          "output_type": "stream",
          "name": "stdout",
          "text": [
            "GAN Epoch 10/50, Loss: 0.0166 | Val: 0.0178 | Time: 21.98s\n"
          ]
        },
        {
          "output_type": "stream",
          "name": "stderr",
          "text": [
            "100%|██████████| 375/375 [00:19<00:00, 19.35it/s]\n"
          ]
        },
        {
          "output_type": "stream",
          "name": "stdout",
          "text": [
            "GAN Epoch 11/50, Loss: 0.0164 | Val: 0.0160 | Time: 22.34s\n"
          ]
        },
        {
          "output_type": "stream",
          "name": "stderr",
          "text": [
            "100%|██████████| 375/375 [00:19<00:00, 19.35it/s]\n"
          ]
        },
        {
          "output_type": "stream",
          "name": "stdout",
          "text": [
            "GAN Epoch 12/50, Loss: 0.0169 | Val: 0.0159 | Time: 22.43s\n",
            "早停觸發\n",
            "總訓練時間: 269.98s\n"
          ]
        },
        {
          "output_type": "display_data",
          "data": {
            "text/plain": [
              "<Figure size 1000x1000 with 1 Axes>"
            ],
            "image/png": "[encoded data removed]"
          },
          "metadata": {}
        }
      ]
    },
    {
      "cell_type": "code",
      "source": [
        "# cGAN 模型 - 升級為 CNN 版本\n",
        "class GeneratorCGAN(nn.Module):\n",
        "    def __init__(self):\n",
        "        super(GeneratorCGAN, self).__init__()\n",
        "        self.label_emb = nn.Embedding(num_classes, noise_dim)\n",
        "        self.model = nn.Sequential(\n",
        "            nn.Linear(noise_dim * 2, 256 * 7 * 7),\n",
        "            nn.Unflatten(1, (256, 7, 7)),\n",
        "            nn.ConvTranspose2d(256, 128, kernel_size=3, stride=2, padding=1, output_padding=1),\n",
        "            nn.BatchNorm2d(128),\n",
        "            nn.LeakyReLU(0.2),\n",
        "            nn.ConvTranspose2d(128, 64, kernel_size=3, stride=2, padding=1, output_padding=1),\n",
        "            nn.BatchNorm2d(64),\n",
        "            nn.LeakyReLU(0.2),\n",
        "            nn.ConvTranspose2d(64, 1, kernel_size=3, stride=1, padding=1),\n",
        "            nn.Tanh()\n",
        "        )\n",
        "\n",
        "    def forward(self, z, labels):\n",
        "        emb = self.label_emb(labels)\n",
        "        input = torch.cat((z, emb), dim=1)\n",
        "        return self.model(input)\n",
        "\n",
        "class DiscriminatorCGAN(nn.Module):\n",
        "    def __init__(self):\n",
        "        super(DiscriminatorCGAN, self).__init__()\n",
        "        self.label_emb = nn.Embedding(num_classes, 28 * 28)\n",
        "        self.model = nn.Sequential(\n",
        "            nn.Conv2d(2, 64, kernel_size=3, stride=2, padding=1),\n",
        "            nn.LeakyReLU(0.2),\n",
        "            nn.Conv2d(64, 128, kernel_size=3, stride=2, padding=1),\n",
        "            nn.LeakyReLU(0.2),\n",
        "            nn.Flatten(),\n",
        "            nn.Linear(128 * 7 * 7, 1),\n",
        "            nn.Sigmoid()\n",
        "        )\n",
        "\n",
        "    def forward(self, x, labels):\n",
        "        emb = self.label_emb(labels).view(labels.size(0), 1, 28, 28)\n",
        "        input = torch.cat((x, emb), dim=1)\n",
        "        return self.model(input)\n",
        "\n",
        "# 初始化\n",
        "generator_cgan = GeneratorCGAN().to(device)\n",
        "discriminator_cgan = DiscriminatorCGAN().to(device)\n",
        "optimizer_g_c = optim.Adam(generator_cgan.parameters(), lr=lr_cgan, betas=(beta1, 0.999))\n",
        "optimizer_d_c = optim.Adam(discriminator_cgan.parameters(), lr=lr_cgan, betas=(beta1, 0.999))\n",
        "criterion = nn.BCELoss()\n",
        "\n",
        "# 訓練函數（包含參數更新）\n",
        "def cgan_train_step(images, labels):\n",
        "    images, labels = images.to(device), labels.to(device)\n",
        "    real = torch.ones(images.size(0), 1).to(device) * 0.9  # 標籤平滑\n",
        "    fake = torch.zeros(images.size(0), 1).to(device)\n",
        "\n",
        "    # 訓練判別器\n",
        "    optimizer_d_c.zero_grad()\n",
        "    output_real = discriminator_cgan(images, labels)\n",
        "    loss_real = criterion(output_real, real)\n",
        "    z = torch.randn(images.size(0), noise_dim).to(device)\n",
        "    fake_labels = torch.randint(0, num_classes, (images.size(0),)).to(device)\n",
        "    fake_images = generator_cgan(z, fake_labels)\n",
        "    output_fake = discriminator_cgan(fake_images.detach(), fake_labels)\n",
        "    loss_fake = criterion(output_fake, fake)\n",
        "    loss_d = loss_real + loss_fake\n",
        "    loss_d.backward()\n",
        "    optimizer_d_c.step()\n",
        "\n",
        "    # 訓練生成器\n",
        "    optimizer_g_c.zero_grad()\n",
        "    output_fake = discriminator_cgan(fake_images, fake_labels)\n",
        "    loss_g = criterion(output_fake, real)\n",
        "    loss_g.backward()\n",
        "    optimizer_g_c.step()\n",
        "\n",
        "    return loss_d.item() + loss_g.item()\n",
        "\n",
        "# 驗證函數（只計算損失）\n",
        "def cgan_valid_step(images, labels):\n",
        "    images, labels = images.to(device), labels.to(device)\n",
        "    real = torch.ones(images.size(0), 1).to(device) * 0.9\n",
        "    fake = torch.zeros(images.size(0), 1).to(device)\n",
        "\n",
        "    # 只做前向傳播，不更新參數\n",
        "    output_real = discriminator_cgan(images, labels)\n",
        "    loss_real = criterion(output_real, real)\n",
        "\n",
        "    z = torch.randn(images.size(0), noise_dim).to(device)\n",
        "    fake_labels = torch.randint(0, num_classes, (images.size(0),)).to(device)\n",
        "    fake_images = generator_cgan(z, fake_labels)\n",
        "    output_fake = discriminator_cgan(fake_images, fake_labels)\n",
        "    loss_fake = criterion(output_fake, fake)\n",
        "\n",
        "    loss_d = loss_real + loss_fake\n",
        "\n",
        "    # 生成器損失\n",
        "    output_fake_for_g = discriminator_cgan(fake_images, fake_labels)\n",
        "    loss_g = criterion(output_fake_for_g, real)\n",
        "\n",
        "    return (loss_d + loss_g).item()\n",
        "\n",
        "# 訓練循環\n",
        "best_val = float('inf')\n",
        "early = 0\n",
        "best_model_path_g = \"cgan_generator_best.pth\"\n",
        "best_model_path_d = \"cgan_discriminator_best.pth\"\n",
        "train_losses, valid_losses = [], []\n",
        "\n",
        "print(\"訓練 cGAN...\")\n",
        "total_start = time.time()\n",
        "for epoch in range(1, epochs_cgan + 1):\n",
        "    ep_start = time.time()\n",
        "    generator_cgan.train()\n",
        "    discriminator_cgan.train()\n",
        "    train_loss_sum = 0.0\n",
        "    for images, labels in tqdm(train_loader):\n",
        "        train_loss_sum += cgan_train_step(images, labels)\n",
        "    avg_train = train_loss_sum / len(train_loader.dataset)\n",
        "    train_losses.append(avg_train)\n",
        "\n",
        "    # validation\n",
        "    generator_cgan.eval()\n",
        "    discriminator_cgan.eval()\n",
        "    val_sum = 0.0\n",
        "    with torch.no_grad():\n",
        "        for images, labels in valid_loader:\n",
        "            val_sum += cgan_valid_step(images, labels)\n",
        "    avg_val = val_sum / len(valid_loader.dataset)\n",
        "    valid_losses.append(avg_val)\n",
        "\n",
        "    ep_time = time.time() - ep_start\n",
        "    print(f\"cGAN Epoch {epoch}/{epochs_cgan}, Loss: {avg_train:.4f} | Val: {avg_val:.4f} | Time: {ep_time:.2f}s\")\n",
        "\n",
        "    if avg_val < best_val:\n",
        "        best_val = avg_val\n",
        "        torch.save(generator_cgan.state_dict(), best_model_path_g)\n",
        "        torch.save(discriminator_cgan.state_dict(), best_model_path_d)\n",
        "        print(\"儲存最佳模型\")\n",
        "        early = 0\n",
        "    else:\n",
        "        early += 1\n",
        "        if early >= patience:\n",
        "            print(\"早停觸發\")\n",
        "            break\n",
        "\n",
        "total_time = time.time() - total_start\n",
        "print(f\"總訓練時間: {total_time:.2f}s\")\n",
        "\n",
        "# 生成 cGAN 影像\n",
        "with torch.no_grad():\n",
        "    z = torch.randn(10, noise_dim).to(device)\n",
        "    labels = torch.randint(0, num_classes, (10,)).to(device)\n",
        "    cgan_samples = generator_cgan(z, labels)\n",
        "show_images(cgan_samples, \"cGAN 生成的影像\", nrow=5)"
      ],
      "metadata": {
        "colab": {
          "base_uri": "https://localhost:8080/",
          "height": 1000
        },
        "id": "eSMqlTgPU3Wu",
        "outputId": "06fdfbfa-3533-4301-a1fd-dcc1ad2766c7"
      },
      "execution_count": 5,
      "outputs": [
        {
          "output_type": "stream",
          "name": "stdout",
          "text": [
            "訓練 cGAN...\n"
          ]
        },
        {
          "output_type": "stream",
          "name": "stderr",
          "text": [
            "100%|██████████| 375/375 [00:21<00:00, 17.73it/s]\n"
          ]
        },
        {
          "output_type": "stream",
          "name": "stdout",
          "text": [
            "cGAN Epoch 1/50, Loss: 0.0172 | Val: 0.0169 | Time: 24.25s\n",
            "儲存最佳模型\n"
          ]
        },
        {
          "output_type": "stream",
          "name": "stderr",
          "text": [
            "100%|██████████| 375/375 [00:19<00:00, 18.77it/s]\n"
          ]
        },
        {
          "output_type": "stream",
          "name": "stdout",
          "text": [
            "cGAN Epoch 2/50, Loss: 0.0170 | Val: 0.0167 | Time: 23.10s\n",
            "儲存最佳模型\n"
          ]
        },
        {
          "output_type": "stream",
          "name": "stderr",
          "text": [
            "100%|██████████| 375/375 [00:20<00:00, 18.55it/s]\n"
          ]
        },
        {
          "output_type": "stream",
          "name": "stdout",
          "text": [
            "cGAN Epoch 3/50, Loss: 0.0171 | Val: 0.0166 | Time: 23.41s\n",
            "儲存最佳模型\n"
          ]
        },
        {
          "output_type": "stream",
          "name": "stderr",
          "text": [
            "100%|██████████| 375/375 [00:19<00:00, 19.04it/s]\n"
          ]
        },
        {
          "output_type": "stream",
          "name": "stdout",
          "text": [
            "cGAN Epoch 4/50, Loss: 0.0171 | Val: 0.0164 | Time: 23.09s\n",
            "儲存最佳模型\n"
          ]
        },
        {
          "output_type": "stream",
          "name": "stderr",
          "text": [
            "100%|██████████| 375/375 [00:19<00:00, 19.58it/s]\n"
          ]
        },
        {
          "output_type": "stream",
          "name": "stdout",
          "text": [
            "cGAN Epoch 5/50, Loss: 0.0172 | Val: 0.0181 | Time: 22.83s\n"
          ]
        },
        {
          "output_type": "stream",
          "name": "stderr",
          "text": [
            "100%|██████████| 375/375 [00:19<00:00, 19.27it/s]\n"
          ]
        },
        {
          "output_type": "stream",
          "name": "stdout",
          "text": [
            "cGAN Epoch 6/50, Loss: 0.0172 | Val: 0.0169 | Time: 23.12s\n"
          ]
        },
        {
          "output_type": "stream",
          "name": "stderr",
          "text": [
            "100%|██████████| 375/375 [00:20<00:00, 18.73it/s]\n"
          ]
        },
        {
          "output_type": "stream",
          "name": "stdout",
          "text": [
            "cGAN Epoch 7/50, Loss: 0.0171 | Val: 0.0166 | Time: 23.64s\n"
          ]
        },
        {
          "output_type": "stream",
          "name": "stderr",
          "text": [
            "100%|██████████| 375/375 [00:19<00:00, 19.56it/s]\n"
          ]
        },
        {
          "output_type": "stream",
          "name": "stdout",
          "text": [
            "cGAN Epoch 8/50, Loss: 0.0172 | Val: 0.0165 | Time: 22.44s\n"
          ]
        },
        {
          "output_type": "stream",
          "name": "stderr",
          "text": [
            "100%|██████████| 375/375 [00:20<00:00, 18.74it/s]\n"
          ]
        },
        {
          "output_type": "stream",
          "name": "stdout",
          "text": [
            "cGAN Epoch 9/50, Loss: 0.0172 | Val: 0.0169 | Time: 23.10s\n"
          ]
        },
        {
          "output_type": "stream",
          "name": "stderr",
          "text": [
            "100%|██████████| 375/375 [00:19<00:00, 18.86it/s]\n"
          ]
        },
        {
          "output_type": "stream",
          "name": "stdout",
          "text": [
            "cGAN Epoch 10/50, Loss: 0.0173 | Val: 0.0169 | Time: 23.06s\n"
          ]
        },
        {
          "output_type": "stream",
          "name": "stderr",
          "text": [
            "100%|██████████| 375/375 [00:20<00:00, 18.41it/s]\n"
          ]
        },
        {
          "output_type": "stream",
          "name": "stdout",
          "text": [
            "cGAN Epoch 11/50, Loss: 0.0173 | Val: 0.0167 | Time: 23.49s\n"
          ]
        },
        {
          "output_type": "stream",
          "name": "stderr",
          "text": [
            "100%|██████████| 375/375 [00:20<00:00, 18.59it/s]\n"
          ]
        },
        {
          "output_type": "stream",
          "name": "stdout",
          "text": [
            "cGAN Epoch 12/50, Loss: 0.0173 | Val: 0.0179 | Time: 23.25s\n"
          ]
        },
        {
          "output_type": "stream",
          "name": "stderr",
          "text": [
            "100%|██████████| 375/375 [00:20<00:00, 18.08it/s]\n"
          ]
        },
        {
          "output_type": "stream",
          "name": "stdout",
          "text": [
            "cGAN Epoch 13/50, Loss: 0.0173 | Val: 0.0164 | Time: 23.93s\n",
            "儲存最佳模型\n"
          ]
        },
        {
          "output_type": "stream",
          "name": "stderr",
          "text": [
            "100%|██████████| 375/375 [00:21<00:00, 17.41it/s]\n"
          ]
        },
        {
          "output_type": "stream",
          "name": "stdout",
          "text": [
            "cGAN Epoch 14/50, Loss: 0.0174 | Val: 0.0178 | Time: 24.72s\n"
          ]
        },
        {
          "output_type": "stream",
          "name": "stderr",
          "text": [
            "100%|██████████| 375/375 [00:20<00:00, 17.87it/s]\n"
          ]
        },
        {
          "output_type": "stream",
          "name": "stdout",
          "text": [
            "cGAN Epoch 15/50, Loss: 0.0173 | Val: 0.0163 | Time: 24.17s\n",
            "儲存最佳模型\n"
          ]
        },
        {
          "output_type": "stream",
          "name": "stderr",
          "text": [
            "100%|██████████| 375/375 [00:21<00:00, 17.81it/s]\n"
          ]
        },
        {
          "output_type": "stream",
          "name": "stdout",
          "text": [
            "cGAN Epoch 16/50, Loss: 0.0173 | Val: 0.0173 | Time: 24.24s\n"
          ]
        },
        {
          "output_type": "stream",
          "name": "stderr",
          "text": [
            "100%|██████████| 375/375 [00:20<00:00, 17.93it/s]\n"
          ]
        },
        {
          "output_type": "stream",
          "name": "stdout",
          "text": [
            "cGAN Epoch 17/50, Loss: 0.0173 | Val: 0.0171 | Time: 24.08s\n"
          ]
        },
        {
          "output_type": "stream",
          "name": "stderr",
          "text": [
            "100%|██████████| 375/375 [00:20<00:00, 17.95it/s]\n"
          ]
        },
        {
          "output_type": "stream",
          "name": "stdout",
          "text": [
            "cGAN Epoch 18/50, Loss: 0.0174 | Val: 0.0165 | Time: 24.08s\n"
          ]
        },
        {
          "output_type": "stream",
          "name": "stderr",
          "text": [
            "100%|██████████| 375/375 [00:20<00:00, 17.96it/s]\n"
          ]
        },
        {
          "output_type": "stream",
          "name": "stdout",
          "text": [
            "cGAN Epoch 19/50, Loss: 0.0174 | Val: 0.0162 | Time: 24.01s\n",
            "儲存最佳模型\n"
          ]
        },
        {
          "output_type": "stream",
          "name": "stderr",
          "text": [
            "100%|██████████| 375/375 [00:21<00:00, 17.54it/s]\n"
          ]
        },
        {
          "output_type": "stream",
          "name": "stdout",
          "text": [
            "cGAN Epoch 20/50, Loss: 0.0175 | Val: 0.0163 | Time: 24.58s\n"
          ]
        },
        {
          "output_type": "stream",
          "name": "stderr",
          "text": [
            "100%|██████████| 375/375 [00:21<00:00, 17.81it/s]\n"
          ]
        },
        {
          "output_type": "stream",
          "name": "stdout",
          "text": [
            "cGAN Epoch 21/50, Loss: 0.0174 | Val: 0.0164 | Time: 24.25s\n"
          ]
        },
        {
          "output_type": "stream",
          "name": "stderr",
          "text": [
            "100%|██████████| 375/375 [00:20<00:00, 18.02it/s]\n"
          ]
        },
        {
          "output_type": "stream",
          "name": "stdout",
          "text": [
            "cGAN Epoch 22/50, Loss: 0.0174 | Val: 0.0179 | Time: 23.97s\n"
          ]
        },
        {
          "output_type": "stream",
          "name": "stderr",
          "text": [
            "100%|██████████| 375/375 [00:20<00:00, 17.93it/s]\n"
          ]
        },
        {
          "output_type": "stream",
          "name": "stdout",
          "text": [
            "cGAN Epoch 23/50, Loss: 0.0175 | Val: 0.0164 | Time: 24.07s\n"
          ]
        },
        {
          "output_type": "stream",
          "name": "stderr",
          "text": [
            "100%|██████████| 375/375 [00:20<00:00, 17.94it/s]\n"
          ]
        },
        {
          "output_type": "stream",
          "name": "stdout",
          "text": [
            "cGAN Epoch 24/50, Loss: 0.0175 | Val: 0.0165 | Time: 24.09s\n"
          ]
        },
        {
          "output_type": "stream",
          "name": "stderr",
          "text": [
            "100%|██████████| 375/375 [00:20<00:00, 17.94it/s]\n"
          ]
        },
        {
          "output_type": "stream",
          "name": "stdout",
          "text": [
            "cGAN Epoch 25/50, Loss: 0.0175 | Val: 0.0166 | Time: 24.05s\n"
          ]
        },
        {
          "output_type": "stream",
          "name": "stderr",
          "text": [
            "100%|██████████| 375/375 [00:20<00:00, 17.89it/s]\n"
          ]
        },
        {
          "output_type": "stream",
          "name": "stdout",
          "text": [
            "cGAN Epoch 26/50, Loss: 0.0174 | Val: 0.0176 | Time: 24.13s\n"
          ]
        },
        {
          "output_type": "stream",
          "name": "stderr",
          "text": [
            "100%|██████████| 375/375 [00:21<00:00, 17.52it/s]\n"
          ]
        },
        {
          "output_type": "stream",
          "name": "stdout",
          "text": [
            "cGAN Epoch 27/50, Loss: 0.0175 | Val: 0.0166 | Time: 24.58s\n"
          ]
        },
        {
          "output_type": "stream",
          "name": "stderr",
          "text": [
            "100%|██████████| 375/375 [00:21<00:00, 17.85it/s]\n"
          ]
        },
        {
          "output_type": "stream",
          "name": "stdout",
          "text": [
            "cGAN Epoch 28/50, Loss: 0.0176 | Val: 0.0161 | Time: 24.27s\n",
            "儲存最佳模型\n"
          ]
        },
        {
          "output_type": "stream",
          "name": "stderr",
          "text": [
            "100%|██████████| 375/375 [00:21<00:00, 17.83it/s]\n"
          ]
        },
        {
          "output_type": "stream",
          "name": "stdout",
          "text": [
            "cGAN Epoch 29/50, Loss: 0.0175 | Val: 0.0168 | Time: 24.22s\n"
          ]
        },
        {
          "output_type": "stream",
          "name": "stderr",
          "text": [
            "100%|██████████| 375/375 [00:20<00:00, 18.08it/s]\n"
          ]
        },
        {
          "output_type": "stream",
          "name": "stdout",
          "text": [
            "cGAN Epoch 30/50, Loss: 0.0176 | Val: 0.0165 | Time: 23.88s\n"
          ]
        },
        {
          "output_type": "stream",
          "name": "stderr",
          "text": [
            "100%|██████████| 375/375 [00:20<00:00, 17.93it/s]\n"
          ]
        },
        {
          "output_type": "stream",
          "name": "stdout",
          "text": [
            "cGAN Epoch 31/50, Loss: 0.0176 | Val: 0.0195 | Time: 24.10s\n"
          ]
        },
        {
          "output_type": "stream",
          "name": "stderr",
          "text": [
            "100%|██████████| 375/375 [00:20<00:00, 18.05it/s]\n"
          ]
        },
        {
          "output_type": "stream",
          "name": "stdout",
          "text": [
            "cGAN Epoch 32/50, Loss: 0.0177 | Val: 0.0155 | Time: 23.98s\n",
            "儲存最佳模型\n"
          ]
        },
        {
          "output_type": "stream",
          "name": "stderr",
          "text": [
            "100%|██████████| 375/375 [00:21<00:00, 17.49it/s]\n"
          ]
        },
        {
          "output_type": "stream",
          "name": "stdout",
          "text": [
            "cGAN Epoch 33/50, Loss: 0.0178 | Val: 0.0173 | Time: 24.75s\n"
          ]
        },
        {
          "output_type": "stream",
          "name": "stderr",
          "text": [
            "100%|██████████| 375/375 [00:20<00:00, 17.96it/s]\n"
          ]
        },
        {
          "output_type": "stream",
          "name": "stdout",
          "text": [
            "cGAN Epoch 34/50, Loss: 0.0176 | Val: 0.0161 | Time: 24.05s\n"
          ]
        },
        {
          "output_type": "stream",
          "name": "stderr",
          "text": [
            "100%|██████████| 375/375 [00:20<00:00, 18.37it/s]\n"
          ]
        },
        {
          "output_type": "stream",
          "name": "stdout",
          "text": [
            "cGAN Epoch 35/50, Loss: 0.0177 | Val: 0.0185 | Time: 23.45s\n"
          ]
        },
        {
          "output_type": "stream",
          "name": "stderr",
          "text": [
            "100%|██████████| 375/375 [00:20<00:00, 18.60it/s]\n"
          ]
        },
        {
          "output_type": "stream",
          "name": "stdout",
          "text": [
            "cGAN Epoch 36/50, Loss: 0.0176 | Val: 0.0175 | Time: 23.18s\n"
          ]
        },
        {
          "output_type": "stream",
          "name": "stderr",
          "text": [
            "100%|██████████| 375/375 [00:20<00:00, 17.96it/s]\n"
          ]
        },
        {
          "output_type": "stream",
          "name": "stdout",
          "text": [
            "cGAN Epoch 37/50, Loss: 0.0177 | Val: 0.0181 | Time: 24.08s\n"
          ]
        },
        {
          "output_type": "stream",
          "name": "stderr",
          "text": [
            "100%|██████████| 375/375 [00:20<00:00, 18.06it/s]\n"
          ]
        },
        {
          "output_type": "stream",
          "name": "stdout",
          "text": [
            "cGAN Epoch 38/50, Loss: 0.0178 | Val: 0.0164 | Time: 23.92s\n"
          ]
        },
        {
          "output_type": "stream",
          "name": "stderr",
          "text": [
            "100%|██████████| 375/375 [00:20<00:00, 17.96it/s]\n"
          ]
        },
        {
          "output_type": "stream",
          "name": "stdout",
          "text": [
            "cGAN Epoch 39/50, Loss: 0.0177 | Val: 0.0182 | Time: 24.08s\n"
          ]
        },
        {
          "output_type": "stream",
          "name": "stderr",
          "text": [
            "100%|██████████| 375/375 [00:21<00:00, 17.63it/s]\n"
          ]
        },
        {
          "output_type": "stream",
          "name": "stdout",
          "text": [
            "cGAN Epoch 40/50, Loss: 0.0178 | Val: 0.0164 | Time: 24.41s\n"
          ]
        },
        {
          "output_type": "stream",
          "name": "stderr",
          "text": [
            "100%|██████████| 375/375 [00:20<00:00, 17.94it/s]\n"
          ]
        },
        {
          "output_type": "stream",
          "name": "stdout",
          "text": [
            "cGAN Epoch 41/50, Loss: 0.0178 | Val: 0.0161 | Time: 24.06s\n"
          ]
        },
        {
          "output_type": "stream",
          "name": "stderr",
          "text": [
            "100%|██████████| 375/375 [00:21<00:00, 17.82it/s]\n"
          ]
        },
        {
          "output_type": "stream",
          "name": "stdout",
          "text": [
            "cGAN Epoch 42/50, Loss: 0.0179 | Val: 0.0173 | Time: 24.20s\n",
            "早停觸發\n",
            "總訓練時間: 1002.54s\n"
          ]
        },
        {
          "output_type": "display_data",
          "data": {
            "text/plain": [
              "<Figure size 1000x1000 with 1 Axes>"
            ],
            "image/png": "[encoded data removed]"
          },
          "metadata": {}
        }
      ]
    },
    {
      "cell_type": "code",
      "source": [
        "# Diffusion 模型\n",
        "class SinusoidalPosEmb(nn.Module):\n",
        "    def __init__(self, dim):\n",
        "        super().__init__()\n",
        "        self.dim = dim\n",
        "\n",
        "    def forward(self, t):\n",
        "        device = t.device\n",
        "        half = self.dim // 2\n",
        "        freqs = torch.exp(\n",
        "            torch.linspace(np.log(1.0), np.log(10000.0), steps=half, device=device)\n",
        "        )\n",
        "        args = t[:, None].float() * freqs[None, :]\n",
        "        emb = torch.cat([torch.sin(args), torch.cos(args)], dim=-1)\n",
        "        return emb\n",
        "\n",
        "class ResBlock(nn.Module):\n",
        "    def __init__(self, in_ch, out_ch, t_emb_dim):\n",
        "        super().__init__()\n",
        "        self.mlp = nn.Sequential(nn.SiLU(), nn.Linear(t_emb_dim, out_ch))\n",
        "        self.block1 = nn.Sequential(\n",
        "            nn.Conv2d(in_ch, out_ch, 3, 1, 1), nn.GroupNorm(8, out_ch), nn.SiLU()\n",
        "        )\n",
        "        self.block2 = nn.Sequential(\n",
        "            nn.Conv2d(out_ch, out_ch, 3, 1, 1), nn.GroupNorm(8, out_ch), nn.SiLU()\n",
        "        )\n",
        "        self.res_conv = nn.Conv2d(in_ch, out_ch, 1) if in_ch != out_ch else nn.Identity()\n",
        "\n",
        "    def forward(self, x, t_emb):\n",
        "        h = self.block1(x)\n",
        "        h += self.mlp(t_emb)[:, :, None, None]\n",
        "        h = self.block2(h)\n",
        "        return h + self.res_conv(x)\n",
        "\n",
        "class TinyUNet(nn.Module):\n",
        "    def __init__(self, in_ch=1, base_ch=64, t_emb_dim=128):\n",
        "        super().__init__()\n",
        "        self.time_mlp = nn.Sequential(\n",
        "            SinusoidalPosEmb(t_emb_dim), nn.Linear(t_emb_dim, t_emb_dim*4), nn.SiLU(),\n",
        "            nn.Linear(t_emb_dim*4, t_emb_dim)\n",
        "        )\n",
        "        # down\n",
        "        self.conv_in = nn.Conv2d(in_ch, base_ch, 3, 1, 1)\n",
        "        self.rb1 = ResBlock(base_ch, base_ch, t_emb_dim)\n",
        "        self.down1 = nn.Conv2d(base_ch, base_ch*2, 4, 2, 1)  # 28->14\n",
        "        self.rb2 = ResBlock(base_ch*2, base_ch*2, t_emb_dim)\n",
        "        self.down2 = nn.Conv2d(base_ch*2, base_ch*4, 4, 2, 1)  # 14->7\n",
        "        self.rb3 = ResBlock(base_ch*4, base_ch*4, t_emb_dim)\n",
        "        # bottleneck\n",
        "        self.rb_mid = ResBlock(base_ch*4, base_ch*4, t_emb_dim)\n",
        "        # up\n",
        "        self.up1 = nn.ConvTranspose2d(base_ch*4, base_ch*2, 4, 2, 1)  # 7->14\n",
        "        self.rb4 = ResBlock(base_ch*4, base_ch*2, t_emb_dim)\n",
        "        self.up2 = nn.ConvTranspose2d(base_ch*2, base_ch, 4, 2, 1)  # 14->28\n",
        "        self.rb5 = ResBlock(base_ch*2, base_ch, t_emb_dim)\n",
        "        self.conv_out = nn.Conv2d(base_ch, in_ch, 3, 1, 1)\n",
        "\n",
        "    def forward(self, x, t):\n",
        "        t_emb = self.time_mlp(t)\n",
        "        h1 = self.conv_in(x); h1 = self.rb1(h1, t_emb)\n",
        "        h2 = self.down1(h1);  h2 = self.rb2(h2, t_emb)\n",
        "        h3 = self.down2(h2);  h3 = self.rb3(h3, t_emb)\n",
        "        h = self.rb_mid(h3, t_emb)\n",
        "        h = self.up1(h);     h = torch.cat([h, h2], dim=1); h = self.rb4(h, t_emb)\n",
        "        h = self.up2(h);     h = torch.cat([h, h1], dim=1); h = self.rb5(h, t_emb)\n",
        "        out = self.conv_out(h)\n",
        "        return out  # 預測噪音\n",
        "\n",
        "# 初始化模型\n",
        "model_diff = TinyUNet(in_ch=channels, base_ch=64, t_emb_dim=128).to(device)\n",
        "optimizer_diff = optim.Adam(model_diff.parameters(), lr=lr_diffusion)\n",
        "criterion_diff = nn.MSELoss()"
      ],
      "metadata": {
        "id": "OMm5A47iU5nG"
      },
      "execution_count": 6,
      "outputs": []
    },
    {
      "cell_type": "code",
      "source": [
        "# 訓練 Diffusion\n",
        "def diffusion_loss_batch(x0):\n",
        "    b = x0.size(0)\n",
        "    t = torch.randint(0, timesteps, (b,), device=device).long()\n",
        "    noise = torch.randn_like(x0)\n",
        "    xt = q_sample(x0, t, noise)\n",
        "    predicted_noise = model_diff(xt, t)\n",
        "    loss = criterion_diff(predicted_noise, noise)\n",
        "    return loss\n",
        "\n",
        "best_val = float('inf')\n",
        "early = 0\n",
        "best_model_path = \"diffusion_best.pth\"\n",
        "train_losses, valid_losses = [], []\n",
        "\n",
        "print(\"訓練 Diffusion 模型...\")\n",
        "total_start = time.time()\n",
        "for epoch in range(1, epochs_diffusion + 1):\n",
        "    ep_start = time.time()\n",
        "    model_diff.train()\n",
        "    train_loss_sum = 0.0\n",
        "    for data, _ in tqdm(train_loader):\n",
        "        data = data.to(device)\n",
        "        loss = diffusion_loss_batch(data)\n",
        "        optimizer_diff.zero_grad()\n",
        "        loss.backward()\n",
        "        optimizer_diff.step()\n",
        "        train_loss_sum += loss.item()\n",
        "    avg_train = train_loss_sum / len(train_loader.dataset)\n",
        "    train_losses.append(avg_train)\n",
        "\n",
        "    # validation\n",
        "    model_diff.eval()\n",
        "    val_sum = 0.0\n",
        "    with torch.no_grad():\n",
        "        for data, _ in valid_loader:\n",
        "            data = data.to(device)\n",
        "            val_sum += diffusion_loss_batch(data).item()\n",
        "    avg_val = val_sum / len(valid_loader.dataset)\n",
        "    valid_losses.append(avg_val)\n",
        "\n",
        "    ep_time = time.time() - ep_start\n",
        "    print(f\"Diffusion Epoch {epoch}/{epochs_diffusion}, Loss: {avg_train:.4f} | Val: {avg_val:.4f} | Time: {ep_time:.2f}s\")\n",
        "\n",
        "    if avg_val < best_val:\n",
        "        best_val = avg_val\n",
        "        torch.save(model_diff.state_dict(), best_model_path)\n",
        "        print(\"儲存最佳模型\")\n",
        "        early = 0\n",
        "    else:\n",
        "        early += 1\n",
        "        if early >= patience:\n",
        "            print(\"早停觸發\")\n",
        "            break\n",
        "\n",
        "total_time = time.time() - total_start\n",
        "print(f\"總訓練時間: {total_time:.2f}s\")"
      ],
      "metadata": {
        "colab": {
          "base_uri": "https://localhost:8080/"
        },
        "id": "alEDzUuZVAH2",
        "outputId": "ab0a77d7-d2f5-4848-fcf4-84eddef9a408"
      },
      "execution_count": 7,
      "outputs": [
        {
          "output_type": "stream",
          "name": "stdout",
          "text": [
            "訓練 Diffusion 模型...\n"
          ]
        },
        {
          "output_type": "stream",
          "name": "stderr",
          "text": [
            "100%|██████████| 375/375 [00:52<00:00,  7.20it/s]\n"
          ]
        },
        {
          "output_type": "stream",
          "name": "stdout",
          "text": [
            "Diffusion Epoch 1/200, Loss: 0.0009 | Val: 0.0005 | Time: 57.88s\n",
            "儲存最佳模型\n"
          ]
        },
        {
          "output_type": "stream",
          "name": "stderr",
          "text": [
            "100%|██████████| 375/375 [00:51<00:00,  7.33it/s]\n"
          ]
        },
        {
          "output_type": "stream",
          "name": "stdout",
          "text": [
            "Diffusion Epoch 2/200, Loss: 0.0005 | Val: 0.0005 | Time: 56.96s\n",
            "儲存最佳模型\n"
          ]
        },
        {
          "output_type": "stream",
          "name": "stderr",
          "text": [
            "100%|██████████| 375/375 [00:50<00:00,  7.38it/s]\n"
          ]
        },
        {
          "output_type": "stream",
          "name": "stdout",
          "text": [
            "Diffusion Epoch 3/200, Loss: 0.0004 | Val: 0.0004 | Time: 56.21s\n",
            "儲存最佳模型\n"
          ]
        },
        {
          "output_type": "stream",
          "name": "stderr",
          "text": [
            "100%|██████████| 375/375 [00:51<00:00,  7.35it/s]\n"
          ]
        },
        {
          "output_type": "stream",
          "name": "stdout",
          "text": [
            "Diffusion Epoch 4/200, Loss: 0.0004 | Val: 0.0004 | Time: 56.68s\n",
            "儲存最佳模型\n"
          ]
        },
        {
          "output_type": "stream",
          "name": "stderr",
          "text": [
            "100%|██████████| 375/375 [00:51<00:00,  7.31it/s]\n"
          ]
        },
        {
          "output_type": "stream",
          "name": "stdout",
          "text": [
            "Diffusion Epoch 5/200, Loss: 0.0004 | Val: 0.0004 | Time: 57.20s\n",
            "儲存最佳模型\n"
          ]
        },
        {
          "output_type": "stream",
          "name": "stderr",
          "text": [
            "100%|██████████| 375/375 [00:51<00:00,  7.31it/s]\n"
          ]
        },
        {
          "output_type": "stream",
          "name": "stdout",
          "text": [
            "Diffusion Epoch 6/200, Loss: 0.0004 | Val: 0.0004 | Time: 56.69s\n",
            "儲存最佳模型\n"
          ]
        },
        {
          "output_type": "stream",
          "name": "stderr",
          "text": [
            "100%|██████████| 375/375 [00:51<00:00,  7.34it/s]\n"
          ]
        },
        {
          "output_type": "stream",
          "name": "stdout",
          "text": [
            "Diffusion Epoch 7/200, Loss: 0.0004 | Val: 0.0004 | Time: 56.45s\n",
            "儲存最佳模型\n"
          ]
        },
        {
          "output_type": "stream",
          "name": "stderr",
          "text": [
            "100%|██████████| 375/375 [00:51<00:00,  7.27it/s]\n"
          ]
        },
        {
          "output_type": "stream",
          "name": "stdout",
          "text": [
            "Diffusion Epoch 8/200, Loss: 0.0003 | Val: 0.0003 | Time: 57.44s\n",
            "儲存最佳模型\n"
          ]
        },
        {
          "output_type": "stream",
          "name": "stderr",
          "text": [
            "100%|██████████| 375/375 [00:50<00:00,  7.37it/s]\n"
          ]
        },
        {
          "output_type": "stream",
          "name": "stdout",
          "text": [
            "Diffusion Epoch 9/200, Loss: 0.0003 | Val: 0.0003 | Time: 56.30s\n",
            "儲存最佳模型\n"
          ]
        },
        {
          "output_type": "stream",
          "name": "stderr",
          "text": [
            "100%|██████████| 375/375 [00:51<00:00,  7.31it/s]\n"
          ]
        },
        {
          "output_type": "stream",
          "name": "stdout",
          "text": [
            "Diffusion Epoch 10/200, Loss: 0.0003 | Val: 0.0003 | Time: 56.80s\n",
            "儲存最佳模型\n"
          ]
        },
        {
          "output_type": "stream",
          "name": "stderr",
          "text": [
            "100%|██████████| 375/375 [00:51<00:00,  7.30it/s]\n"
          ]
        },
        {
          "output_type": "stream",
          "name": "stdout",
          "text": [
            "Diffusion Epoch 11/200, Loss: 0.0003 | Val: 0.0003 | Time: 57.27s\n"
          ]
        },
        {
          "output_type": "stream",
          "name": "stderr",
          "text": [
            "100%|██████████| 375/375 [00:51<00:00,  7.34it/s]\n"
          ]
        },
        {
          "output_type": "stream",
          "name": "stdout",
          "text": [
            "Diffusion Epoch 12/200, Loss: 0.0003 | Val: 0.0003 | Time: 56.71s\n",
            "儲存最佳模型\n"
          ]
        },
        {
          "output_type": "stream",
          "name": "stderr",
          "text": [
            "100%|██████████| 375/375 [00:51<00:00,  7.33it/s]\n"
          ]
        },
        {
          "output_type": "stream",
          "name": "stdout",
          "text": [
            "Diffusion Epoch 13/200, Loss: 0.0003 | Val: 0.0003 | Time: 56.86s\n"
          ]
        },
        {
          "output_type": "stream",
          "name": "stderr",
          "text": [
            "100%|██████████| 375/375 [00:51<00:00,  7.31it/s]\n"
          ]
        },
        {
          "output_type": "stream",
          "name": "stdout",
          "text": [
            "Diffusion Epoch 14/200, Loss: 0.0003 | Val: 0.0003 | Time: 57.06s\n",
            "儲存最佳模型\n"
          ]
        },
        {
          "output_type": "stream",
          "name": "stderr",
          "text": [
            "100%|██████████| 375/375 [00:50<00:00,  7.36it/s]\n"
          ]
        },
        {
          "output_type": "stream",
          "name": "stdout",
          "text": [
            "Diffusion Epoch 15/200, Loss: 0.0003 | Val: 0.0003 | Time: 56.80s\n",
            "儲存最佳模型\n"
          ]
        },
        {
          "output_type": "stream",
          "name": "stderr",
          "text": [
            "100%|██████████| 375/375 [00:51<00:00,  7.33it/s]\n"
          ]
        },
        {
          "output_type": "stream",
          "name": "stdout",
          "text": [
            "Diffusion Epoch 16/200, Loss: 0.0003 | Val: 0.0003 | Time: 56.75s\n",
            "儲存最佳模型\n"
          ]
        },
        {
          "output_type": "stream",
          "name": "stderr",
          "text": [
            "100%|██████████| 375/375 [00:51<00:00,  7.29it/s]\n"
          ]
        },
        {
          "output_type": "stream",
          "name": "stdout",
          "text": [
            "Diffusion Epoch 17/200, Loss: 0.0003 | Val: 0.0003 | Time: 56.94s\n"
          ]
        },
        {
          "output_type": "stream",
          "name": "stderr",
          "text": [
            "100%|██████████| 375/375 [00:51<00:00,  7.33it/s]\n"
          ]
        },
        {
          "output_type": "stream",
          "name": "stdout",
          "text": [
            "Diffusion Epoch 18/200, Loss: 0.0003 | Val: 0.0003 | Time: 56.95s\n"
          ]
        },
        {
          "output_type": "stream",
          "name": "stderr",
          "text": [
            "100%|██████████| 375/375 [00:51<00:00,  7.29it/s]\n"
          ]
        },
        {
          "output_type": "stream",
          "name": "stdout",
          "text": [
            "Diffusion Epoch 19/200, Loss: 0.0003 | Val: 0.0003 | Time: 56.93s\n",
            "儲存最佳模型\n"
          ]
        },
        {
          "output_type": "stream",
          "name": "stderr",
          "text": [
            "100%|██████████| 375/375 [00:51<00:00,  7.31it/s]\n"
          ]
        },
        {
          "output_type": "stream",
          "name": "stdout",
          "text": [
            "Diffusion Epoch 20/200, Loss: 0.0003 | Val: 0.0003 | Time: 56.67s\n",
            "儲存最佳模型\n"
          ]
        },
        {
          "output_type": "stream",
          "name": "stderr",
          "text": [
            "100%|██████████| 375/375 [00:50<00:00,  7.37it/s]\n"
          ]
        },
        {
          "output_type": "stream",
          "name": "stdout",
          "text": [
            "Diffusion Epoch 21/200, Loss: 0.0003 | Val: 0.0003 | Time: 56.71s\n"
          ]
        },
        {
          "output_type": "stream",
          "name": "stderr",
          "text": [
            "100%|██████████| 375/375 [00:51<00:00,  7.31it/s]\n"
          ]
        },
        {
          "output_type": "stream",
          "name": "stdout",
          "text": [
            "Diffusion Epoch 22/200, Loss: 0.0003 | Val: 0.0003 | Time: 56.90s\n"
          ]
        },
        {
          "output_type": "stream",
          "name": "stderr",
          "text": [
            "100%|██████████| 375/375 [00:50<00:00,  7.36it/s]\n"
          ]
        },
        {
          "output_type": "stream",
          "name": "stdout",
          "text": [
            "Diffusion Epoch 23/200, Loss: 0.0003 | Val: 0.0003 | Time: 56.35s\n",
            "儲存最佳模型\n"
          ]
        },
        {
          "output_type": "stream",
          "name": "stderr",
          "text": [
            "100%|██████████| 375/375 [00:50<00:00,  7.36it/s]\n"
          ]
        },
        {
          "output_type": "stream",
          "name": "stdout",
          "text": [
            "Diffusion Epoch 24/200, Loss: 0.0003 | Val: 0.0003 | Time: 56.70s\n",
            "儲存最佳模型\n"
          ]
        },
        {
          "output_type": "stream",
          "name": "stderr",
          "text": [
            "100%|██████████| 375/375 [00:51<00:00,  7.32it/s]\n"
          ]
        },
        {
          "output_type": "stream",
          "name": "stdout",
          "text": [
            "Diffusion Epoch 25/200, Loss: 0.0003 | Val: 0.0003 | Time: 57.04s\n"
          ]
        },
        {
          "output_type": "stream",
          "name": "stderr",
          "text": [
            "100%|██████████| 375/375 [00:50<00:00,  7.37it/s]\n"
          ]
        },
        {
          "output_type": "stream",
          "name": "stdout",
          "text": [
            "Diffusion Epoch 26/200, Loss: 0.0003 | Val: 0.0003 | Time: 56.28s\n"
          ]
        },
        {
          "output_type": "stream",
          "name": "stderr",
          "text": [
            "100%|██████████| 375/375 [00:51<00:00,  7.33it/s]\n"
          ]
        },
        {
          "output_type": "stream",
          "name": "stdout",
          "text": [
            "Diffusion Epoch 27/200, Loss: 0.0003 | Val: 0.0003 | Time: 56.76s\n"
          ]
        },
        {
          "output_type": "stream",
          "name": "stderr",
          "text": [
            "100%|██████████| 375/375 [00:51<00:00,  7.32it/s]\n"
          ]
        },
        {
          "output_type": "stream",
          "name": "stdout",
          "text": [
            "Diffusion Epoch 28/200, Loss: 0.0003 | Val: 0.0003 | Time: 57.04s\n",
            "儲存最佳模型\n"
          ]
        },
        {
          "output_type": "stream",
          "name": "stderr",
          "text": [
            "100%|██████████| 375/375 [00:50<00:00,  7.39it/s]\n"
          ]
        },
        {
          "output_type": "stream",
          "name": "stdout",
          "text": [
            "Diffusion Epoch 29/200, Loss: 0.0003 | Val: 0.0003 | Time: 56.17s\n"
          ]
        },
        {
          "output_type": "stream",
          "name": "stderr",
          "text": [
            "100%|██████████| 375/375 [00:51<00:00,  7.33it/s]\n"
          ]
        },
        {
          "output_type": "stream",
          "name": "stdout",
          "text": [
            "Diffusion Epoch 30/200, Loss: 0.0003 | Val: 0.0003 | Time: 56.56s\n"
          ]
        },
        {
          "output_type": "stream",
          "name": "stderr",
          "text": [
            "100%|██████████| 375/375 [00:51<00:00,  7.33it/s]\n"
          ]
        },
        {
          "output_type": "stream",
          "name": "stdout",
          "text": [
            "Diffusion Epoch 31/200, Loss: 0.0003 | Val: 0.0003 | Time: 57.03s\n"
          ]
        },
        {
          "output_type": "stream",
          "name": "stderr",
          "text": [
            "100%|██████████| 375/375 [00:50<00:00,  7.37it/s]\n"
          ]
        },
        {
          "output_type": "stream",
          "name": "stdout",
          "text": [
            "Diffusion Epoch 32/200, Loss: 0.0003 | Val: 0.0003 | Time: 56.39s\n",
            "儲存最佳模型\n"
          ]
        },
        {
          "output_type": "stream",
          "name": "stderr",
          "text": [
            "100%|██████████| 375/375 [00:51<00:00,  7.32it/s]\n"
          ]
        },
        {
          "output_type": "stream",
          "name": "stdout",
          "text": [
            "Diffusion Epoch 33/200, Loss: 0.0003 | Val: 0.0003 | Time: 56.62s\n",
            "儲存最佳模型\n"
          ]
        },
        {
          "output_type": "stream",
          "name": "stderr",
          "text": [
            "100%|██████████| 375/375 [00:51<00:00,  7.34it/s]\n"
          ]
        },
        {
          "output_type": "stream",
          "name": "stdout",
          "text": [
            "Diffusion Epoch 34/200, Loss: 0.0003 | Val: 0.0003 | Time: 56.86s\n"
          ]
        },
        {
          "output_type": "stream",
          "name": "stderr",
          "text": [
            "100%|██████████| 375/375 [00:51<00:00,  7.34it/s]\n"
          ]
        },
        {
          "output_type": "stream",
          "name": "stdout",
          "text": [
            "Diffusion Epoch 35/200, Loss: 0.0003 | Val: 0.0003 | Time: 56.67s\n"
          ]
        },
        {
          "output_type": "stream",
          "name": "stderr",
          "text": [
            "100%|██████████| 375/375 [00:51<00:00,  7.30it/s]\n"
          ]
        },
        {
          "output_type": "stream",
          "name": "stdout",
          "text": [
            "Diffusion Epoch 36/200, Loss: 0.0003 | Val: 0.0003 | Time: 56.80s\n"
          ]
        },
        {
          "output_type": "stream",
          "name": "stderr",
          "text": [
            "100%|██████████| 375/375 [00:51<00:00,  7.31it/s]\n"
          ]
        },
        {
          "output_type": "stream",
          "name": "stdout",
          "text": [
            "Diffusion Epoch 37/200, Loss: 0.0003 | Val: 0.0003 | Time: 57.00s\n",
            "儲存最佳模型\n"
          ]
        },
        {
          "output_type": "stream",
          "name": "stderr",
          "text": [
            "100%|██████████| 375/375 [00:50<00:00,  7.37it/s]\n"
          ]
        },
        {
          "output_type": "stream",
          "name": "stdout",
          "text": [
            "Diffusion Epoch 38/200, Loss: 0.0003 | Val: 0.0003 | Time: 56.65s\n"
          ]
        },
        {
          "output_type": "stream",
          "name": "stderr",
          "text": [
            "100%|██████████| 375/375 [00:51<00:00,  7.35it/s]\n"
          ]
        },
        {
          "output_type": "stream",
          "name": "stdout",
          "text": [
            "Diffusion Epoch 39/200, Loss: 0.0003 | Val: 0.0003 | Time: 56.45s\n",
            "儲存最佳模型\n"
          ]
        },
        {
          "output_type": "stream",
          "name": "stderr",
          "text": [
            "100%|██████████| 375/375 [00:51<00:00,  7.26it/s]\n"
          ]
        },
        {
          "output_type": "stream",
          "name": "stdout",
          "text": [
            "Diffusion Epoch 40/200, Loss: 0.0003 | Val: 0.0003 | Time: 57.33s\n"
          ]
        },
        {
          "output_type": "stream",
          "name": "stderr",
          "text": [
            "100%|██████████| 375/375 [00:50<00:00,  7.36it/s]\n"
          ]
        },
        {
          "output_type": "stream",
          "name": "stdout",
          "text": [
            "Diffusion Epoch 41/200, Loss: 0.0003 | Val: 0.0003 | Time: 56.69s\n",
            "儲存最佳模型\n"
          ]
        },
        {
          "output_type": "stream",
          "name": "stderr",
          "text": [
            "100%|██████████| 375/375 [00:50<00:00,  7.37it/s]\n"
          ]
        },
        {
          "output_type": "stream",
          "name": "stdout",
          "text": [
            "Diffusion Epoch 42/200, Loss: 0.0003 | Val: 0.0003 | Time: 56.25s\n"
          ]
        },
        {
          "output_type": "stream",
          "name": "stderr",
          "text": [
            "100%|██████████| 375/375 [00:51<00:00,  7.32it/s]\n"
          ]
        },
        {
          "output_type": "stream",
          "name": "stdout",
          "text": [
            "Diffusion Epoch 43/200, Loss: 0.0003 | Val: 0.0003 | Time: 56.79s\n"
          ]
        },
        {
          "output_type": "stream",
          "name": "stderr",
          "text": [
            "100%|██████████| 375/375 [00:50<00:00,  7.35it/s]\n"
          ]
        },
        {
          "output_type": "stream",
          "name": "stdout",
          "text": [
            "Diffusion Epoch 44/200, Loss: 0.0003 | Val: 0.0003 | Time: 56.79s\n"
          ]
        },
        {
          "output_type": "stream",
          "name": "stderr",
          "text": [
            "100%|██████████| 375/375 [00:50<00:00,  7.37it/s]\n"
          ]
        },
        {
          "output_type": "stream",
          "name": "stdout",
          "text": [
            "Diffusion Epoch 45/200, Loss: 0.0003 | Val: 0.0003 | Time: 56.28s\n"
          ]
        },
        {
          "output_type": "stream",
          "name": "stderr",
          "text": [
            "100%|██████████| 375/375 [00:51<00:00,  7.30it/s]\n"
          ]
        },
        {
          "output_type": "stream",
          "name": "stdout",
          "text": [
            "Diffusion Epoch 46/200, Loss: 0.0003 | Val: 0.0003 | Time: 56.85s\n"
          ]
        },
        {
          "output_type": "stream",
          "name": "stderr",
          "text": [
            "100%|██████████| 375/375 [00:51<00:00,  7.27it/s]\n"
          ]
        },
        {
          "output_type": "stream",
          "name": "stdout",
          "text": [
            "Diffusion Epoch 47/200, Loss: 0.0003 | Val: 0.0003 | Time: 57.43s\n"
          ]
        },
        {
          "output_type": "stream",
          "name": "stderr",
          "text": [
            "100%|██████████| 375/375 [00:51<00:00,  7.30it/s]\n"
          ]
        },
        {
          "output_type": "stream",
          "name": "stdout",
          "text": [
            "Diffusion Epoch 48/200, Loss: 0.0003 | Val: 0.0003 | Time: 56.90s\n"
          ]
        },
        {
          "output_type": "stream",
          "name": "stderr",
          "text": [
            "100%|██████████| 375/375 [00:52<00:00,  7.20it/s]\n"
          ]
        },
        {
          "output_type": "stream",
          "name": "stdout",
          "text": [
            "Diffusion Epoch 49/200, Loss: 0.0003 | Val: 0.0003 | Time: 57.64s\n",
            "儲存最佳模型\n"
          ]
        },
        {
          "output_type": "stream",
          "name": "stderr",
          "text": [
            "100%|██████████| 375/375 [00:51<00:00,  7.32it/s]\n"
          ]
        },
        {
          "output_type": "stream",
          "name": "stdout",
          "text": [
            "Diffusion Epoch 50/200, Loss: 0.0003 | Val: 0.0003 | Time: 57.12s\n"
          ]
        },
        {
          "output_type": "stream",
          "name": "stderr",
          "text": [
            "100%|██████████| 375/375 [00:51<00:00,  7.34it/s]\n"
          ]
        },
        {
          "output_type": "stream",
          "name": "stdout",
          "text": [
            "Diffusion Epoch 51/200, Loss: 0.0003 | Val: 0.0003 | Time: 56.71s\n"
          ]
        },
        {
          "output_type": "stream",
          "name": "stderr",
          "text": [
            "100%|██████████| 375/375 [00:51<00:00,  7.31it/s]\n"
          ]
        },
        {
          "output_type": "stream",
          "name": "stdout",
          "text": [
            "Diffusion Epoch 52/200, Loss: 0.0003 | Val: 0.0003 | Time: 57.13s\n"
          ]
        },
        {
          "output_type": "stream",
          "name": "stderr",
          "text": [
            "100%|██████████| 375/375 [00:51<00:00,  7.33it/s]\n"
          ]
        },
        {
          "output_type": "stream",
          "name": "stdout",
          "text": [
            "Diffusion Epoch 53/200, Loss: 0.0003 | Val: 0.0003 | Time: 56.84s\n"
          ]
        },
        {
          "output_type": "stream",
          "name": "stderr",
          "text": [
            "100%|██████████| 375/375 [00:51<00:00,  7.35it/s]\n"
          ]
        },
        {
          "output_type": "stream",
          "name": "stdout",
          "text": [
            "Diffusion Epoch 54/200, Loss: 0.0003 | Val: 0.0003 | Time: 56.93s\n"
          ]
        },
        {
          "output_type": "stream",
          "name": "stderr",
          "text": [
            "100%|██████████| 375/375 [00:51<00:00,  7.32it/s]\n"
          ]
        },
        {
          "output_type": "stream",
          "name": "stdout",
          "text": [
            "Diffusion Epoch 55/200, Loss: 0.0003 | Val: 0.0003 | Time: 56.62s\n"
          ]
        },
        {
          "output_type": "stream",
          "name": "stderr",
          "text": [
            "100%|██████████| 375/375 [00:51<00:00,  7.27it/s]\n"
          ]
        },
        {
          "output_type": "stream",
          "name": "stdout",
          "text": [
            "Diffusion Epoch 56/200, Loss: 0.0003 | Val: 0.0003 | Time: 57.04s\n"
          ]
        },
        {
          "output_type": "stream",
          "name": "stderr",
          "text": [
            "100%|██████████| 375/375 [00:51<00:00,  7.32it/s]\n"
          ]
        },
        {
          "output_type": "stream",
          "name": "stdout",
          "text": [
            "Diffusion Epoch 57/200, Loss: 0.0003 | Val: 0.0003 | Time: 57.03s\n"
          ]
        },
        {
          "output_type": "stream",
          "name": "stderr",
          "text": [
            "100%|██████████| 375/375 [00:51<00:00,  7.34it/s]\n"
          ]
        },
        {
          "output_type": "stream",
          "name": "stdout",
          "text": [
            "Diffusion Epoch 58/200, Loss: 0.0003 | Val: 0.0003 | Time: 56.59s\n"
          ]
        },
        {
          "output_type": "stream",
          "name": "stderr",
          "text": [
            "100%|██████████| 375/375 [00:51<00:00,  7.25it/s]\n"
          ]
        },
        {
          "output_type": "stream",
          "name": "stdout",
          "text": [
            "Diffusion Epoch 59/200, Loss: 0.0003 | Val: 0.0003 | Time: 57.17s\n",
            "早停觸發\n",
            "總訓練時間: 3353.67s\n"
          ]
        }
      ]
    },
    {
      "cell_type": "code",
      "source": [
        "# Diffusion 取樣\n",
        "@torch.no_grad()\n",
        "def sample_diffusion(num_samples):\n",
        "    model_diff.eval()\n",
        "    x = torch.randn(num_samples, channels, image_size, image_size).to(device)\n",
        "    for t in reversed(range(timesteps)):\n",
        "        t_tensor = torch.full((num_samples,), t, dtype=torch.long, device=device)\n",
        "        predicted_noise = model_diff(x, t_tensor)\n",
        "        alpha = alphas[t]\n",
        "        alpha_cumprod = alphas_cumprod[t]\n",
        "        beta = betas[t]\n",
        "        if t > 0:\n",
        "            noise = torch.randn_like(x)\n",
        "        else:\n",
        "            noise = torch.zeros_like(x)\n",
        "        alpha = alpha.expand(num_samples, channels, image_size, image_size)\n",
        "        alpha_cumprod = alpha_cumprod.expand(num_samples, channels, image_size, image_size)\n",
        "        beta = beta.expand(num_samples, channels, image_size, image_size)\n",
        "        x = (1 / torch.sqrt(alpha)) * (x - ((1 - alpha) / torch.sqrt(1 - alpha_cumprod)) * predicted_noise) + torch.sqrt(beta) * noise\n",
        "    return x.clamp(-1, 1)\n",
        "\n",
        "diff_samples = sample_diffusion(10)\n",
        "show_images(diff_samples, \"Diffusion 生成的影像\", nrow=5)"
      ],
      "metadata": {
        "id": "76gGtDrCVBc6",
        "colab": {
          "base_uri": "https://localhost:8080/",
          "height": 375
        },
        "outputId": "d3faebc1-39e6-4ebc-870b-9fe2ed2a84a8"
      },
      "execution_count": 8,
      "outputs": [
        {
          "output_type": "display_data",
          "data": {
            "text/plain": [
              "<Figure size 1000x1000 with 1 Axes>"
            ],
            "image/png": "[encoded data removed]"
          },
          "metadata": {}
        }
      ]
    },
    {
      "cell_type": "code",
      "source": [
        "# 比較\n",
        "# 生成比較用的影像（每個模型生成 0-9 每個數字 1 張）\n",
        "with torch.no_grad():\n",
        "    # VAE 生成（使用 latent_dim=20）\n",
        "    z_vae = torch.randn(10, latent_dim).to(device)\n",
        "    vae_comp = vae.decode(z_vae)\n",
        "\n",
        "    # GAN 生成（使用 noise_dim=100）\n",
        "    z_gan = torch.randn(10, noise_dim).to(device)\n",
        "    gan_comp = generator_gan(z_gan)\n",
        "\n",
        "    # cGAN 生成，指定 0-9 的標籤（使用 noise_dim=100）\n",
        "    labels_cgan = torch.arange(10, dtype=torch.long).to(device)\n",
        "    z_cgan = torch.randn(10, noise_dim).to(device)\n",
        "    cgan_comp = generator_cgan(z_cgan, labels_cgan)\n",
        "\n",
        "    # Diffusion 生成（直接生成 10 張）\n",
        "    diff_comp = sample_diffusion(10)\n",
        "\n",
        "# 繪製比較圖\n",
        "comp_images = torch.cat([vae_comp, gan_comp, cgan_comp, diff_comp])\n",
        "show_images(comp_images, \"比較: VAE | GAN | cGAN | Diffusion (由上至下, 每列 10 張)\", nrow=10)\n",
        "\n",
        "# 注意：分析部分請觀察清晰度、穩定性（GAN 是否有模式崩潰）、可控性（cGAN 可指定類別）、效率（訓練/推理時間）。"
      ],
      "metadata": {
        "id": "MHmriDqPVDxM",
        "colab": {
          "base_uri": "https://localhost:8080/",
          "height": 373
        },
        "outputId": "aaaa85d1-e823-478c-ea9b-7f671acbe40e"
      },
      "execution_count": 10,
      "outputs": [
        {
          "output_type": "display_data",
          "data": {
            "text/plain": [
              "<Figure size 1000x1000 with 1 Axes>"
            ],
            "image/png": "[encoded data removed]"
          },
          "metadata": {}
        }
      ]
    }
  ]
}