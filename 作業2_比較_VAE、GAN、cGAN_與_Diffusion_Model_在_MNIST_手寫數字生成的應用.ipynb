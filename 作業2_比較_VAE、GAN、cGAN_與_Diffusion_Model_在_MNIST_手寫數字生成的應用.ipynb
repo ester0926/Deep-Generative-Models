{
  "cells": [
    {
      "cell_type": "markdown",
      "metadata": {
        "id": "view-in-github",
        "colab_type": "text"
      },
      "source": [
        "<a href=\"https://colab.research.google.com/github/ester0926/Deep-Generative-Models/blob/main/%E4%BD%9C%E6%A5%AD2_%E6%AF%94%E8%BC%83_VAE%E3%80%81GAN%E3%80%81cGAN_%E8%88%87_Diffusion_Model_%E5%9C%A8_MNIST_%E6%89%8B%E5%AF%AB%E6%95%B8%E5%AD%97%E7%94%9F%E6%88%90%E7%9A%84%E6%87%89%E7%94%A8.ipynb\" target=\"_parent\"><img src=\"https://colab.research.google.com/assets/colab-badge.svg\" alt=\"Open In Colab\"/></a>"
      ]
    },
    {
      "cell_type": "code",
      "execution_count": null,
      "metadata": {
        "colab": {
          "base_uri": "https://localhost:8080/"
        },
        "id": "ya0W2GNZ3Yfb",
        "outputId": "f75759d3-22d0-412e-c26f-e1070ad18c66"
      },
      "outputs": [
        {
          "output_type": "stream",
          "name": "stdout",
          "text": [
            "--2025-10-03 04:45:34--  https://drive.google.com/uc?id=1eGAsTN1HBpJAkeVM57_C7ccp7hbgSz3_\n",
            "Resolving drive.google.com (drive.google.com)... 142.250.4.100, 142.250.4.138, 142.250.4.102, ...\n",
            "Connecting to drive.google.com (drive.google.com)|142.250.4.100|:443... connected.\n",
            "HTTP request sent, awaiting response... 303 See Other\n",
            "Location: https://drive.usercontent.google.com/download?id=1eGAsTN1HBpJAkeVM57_C7ccp7hbgSz3_ [following]\n",
            "--2025-10-03 04:45:34--  https://drive.usercontent.google.com/download?id=1eGAsTN1HBpJAkeVM57_C7ccp7hbgSz3_\n",
            "Resolving drive.usercontent.google.com (drive.usercontent.google.com)... 74.125.130.132, 2404:6800:4003:c01::84\n",
            "Connecting to drive.usercontent.google.com (drive.usercontent.google.com)|74.125.130.132|:443... connected.\n",
            "HTTP request sent, awaiting response... 200 OK\n",
            "Length: 20659344 (20M) [application/octet-stream]\n",
            "Saving to: ‘TaipeiSansTCBeta-Regular.ttf’\n",
            "\n",
            "TaipeiSansTCBeta-Re 100%[===================>]  19.70M  --.-KB/s    in 0.1s    \n",
            "\n",
            "2025-10-03 04:45:36 (132 MB/s) - ‘TaipeiSansTCBeta-Regular.ttf’ saved [20659344/20659344]\n",
            "\n"
          ]
        }
      ],
      "source": [
        "# Colab 進行matplotlib繪圖時顯示繁體中文\n",
        "# 下載台北思源黑體並命名taipei_sans_tc_beta.ttf，移至指定路徑\n",
        "!wget -O TaipeiSansTCBeta-Regular.ttf https://drive.google.com/uc?id=1eGAsTN1HBpJAkeVM57_C7ccp7hbgSz3_&export=download\n",
        "\n",
        "import matplotlib\n",
        "\n",
        "# 改style要在改font之前\n",
        "# plt.style.use('seaborn')\n",
        "\n",
        "matplotlib.font_manager.fontManager.addfont('TaipeiSansTCBeta-Regular.ttf')\n",
        "matplotlib.rc('font', family='Taipei Sans TC Beta')"
      ]
    },
    {
      "cell_type": "code",
      "source": [
        "# 前置設定\n",
        "# 匯入必要套件\n",
        "import torch\n",
        "import torch.nn as nn\n",
        "import torch.optim as optim\n",
        "import torch.nn.functional as F\n",
        "from torchvision import datasets, transforms\n",
        "from torch.utils.data import DataLoader, random_split\n",
        "import matplotlib.pyplot as plt\n",
        "import numpy as np\n",
        "import random, time\n",
        "from tqdm import tqdm\n",
        "import torchvision\n",
        "import torchvision.utils as vutils\n",
        "\n",
        "# 設定隨機種子以確保可重現性\n",
        "torch.manual_seed(42)\n",
        "np.random.seed(42)\n",
        "random.seed(42)\n",
        "\n",
        "# 裝置設定\n",
        "device = torch.device('cuda' if torch.cuda.is_available() else 'cpu')\n",
        "\n",
        "# 超參數\n",
        "batch_size = 128\n",
        "image_size = 28\n",
        "channels = 1\n",
        "latent_dim = 20  # 用於 VAE\n",
        "noise_dim = 100  # 用於 GAN 和 cGAN\n",
        "num_classes = 10  # 用於 cGAN\n",
        "epochs_vae = 100\n",
        "epochs_gan = 100\n",
        "epochs_cgan = 100\n",
        "epochs_diffusion = 150  # Diffusion 需要更多 epochs\n",
        "lr_vae = 1e-3\n",
        "lr_gan = 2e-4\n",
        "lr_cgan = 2e-4\n",
        "lr_diffusion = 2e-4\n",
        "beta1 = 0.5  # 用於 GAN 的 Adam\n",
        "patience = 10  # 早停耐心值\n",
        "\n",
        "# 資料載入\n",
        "transform = transforms.Compose([\n",
        "    transforms.ToTensor(),\n",
        "    transforms.Normalize((0.5,), (0.5,))\n",
        "])\n",
        "\n",
        "full_train_dataset = torchvision.datasets.MNIST(root='./data', train=True, download=True, transform=transform)\n",
        "test_dataset = torchvision.datasets.MNIST(root='./data', train=False, download=True, transform=transform)\n",
        "\n",
        "# train/valid split\n",
        "train_size = int(0.8 * len(full_train_dataset))\n",
        "valid_size = len(full_train_dataset) - train_size\n",
        "train_dataset, valid_dataset = random_split(full_train_dataset, [train_size, valid_size])\n",
        "\n",
        "train_loader = DataLoader(train_dataset, batch_size=batch_size, shuffle=True, drop_last=True)\n",
        "valid_loader = DataLoader(valid_dataset, batch_size=batch_size, shuffle=False, drop_last=False)\n",
        "test_loader = DataLoader(test_dataset, batch_size=batch_size, shuffle=False, drop_last=False)\n",
        "\n",
        "# 顯示影像的函數\n",
        "def show_images(images, title, nrow=10):\n",
        "    grid = vutils.make_grid(images, nrow=nrow, normalize=True)\n",
        "    plt.figure(figsize=(10, 10))\n",
        "    plt.imshow(grid.permute(1, 2, 0).cpu().numpy())\n",
        "    plt.title(title)\n",
        "    plt.axis('off')\n",
        "    plt.show()\n"
      ],
      "metadata": {
        "id": "0tVvR79khWWr",
        "colab": {
          "base_uri": "https://localhost:8080/"
        },
        "outputId": "ddc1d50e-8a05-4f40-93de-988bd178f902"
      },
      "execution_count": null,
      "outputs": [
        {
          "output_type": "stream",
          "name": "stderr",
          "text": [
            "100%|██████████| 9.91M/9.91M [00:01<00:00, 4.97MB/s]\n",
            "100%|██████████| 28.9k/28.9k [00:00<00:00, 130kB/s]\n",
            "100%|██████████| 1.65M/1.65M [00:01<00:00, 1.24MB/s]\n",
            "100%|██████████| 4.54k/4.54k [00:00<00:00, 9.02MB/s]\n"
          ]
        }
      ]
    },
    {
      "cell_type": "markdown",
      "metadata": {
        "id": "HvefAMvhugYK"
      },
      "source": [
        "# VAE"
      ]
    },
    {
      "cell_type": "code",
      "execution_count": null,
      "metadata": {
        "colab": {
          "base_uri": "https://localhost:8080/",
          "height": 1000
        },
        "id": "DYp-kV_QucsL",
        "outputId": "eda5c938-e583-42d8-c18d-c46cae97b20b"
      },
      "outputs": [
        {
          "output_type": "stream",
          "name": "stdout",
          "text": [
            "訓練 VAE...\n"
          ]
        },
        {
          "output_type": "stream",
          "name": "stderr",
          "text": [
            "100%|██████████| 375/375 [00:13<00:00, 28.45it/s]\n"
          ]
        },
        {
          "output_type": "stream",
          "name": "stdout",
          "text": [
            "VAE Epoch 1/100, Loss: 1.4917 | Val: 1.1244 | Time: 15.67s\n",
            "儲存最佳模型\n"
          ]
        },
        {
          "output_type": "stream",
          "name": "stderr",
          "text": [
            "100%|██████████| 375/375 [00:11<00:00, 32.10it/s]\n"
          ]
        },
        {
          "output_type": "stream",
          "name": "stdout",
          "text": [
            "VAE Epoch 2/100, Loss: 1.0215 | Val: 0.9464 | Time: 14.12s\n",
            "儲存最佳模型\n"
          ]
        },
        {
          "output_type": "stream",
          "name": "stderr",
          "text": [
            "100%|██████████| 375/375 [00:11<00:00, 31.95it/s]\n"
          ]
        },
        {
          "output_type": "stream",
          "name": "stdout",
          "text": [
            "VAE Epoch 3/100, Loss: 0.9130 | Val: 0.8938 | Time: 14.70s\n",
            "儲存最佳模型\n"
          ]
        },
        {
          "output_type": "stream",
          "name": "stderr",
          "text": [
            "100%|██████████| 375/375 [00:11<00:00, 32.49it/s]\n"
          ]
        },
        {
          "output_type": "stream",
          "name": "stdout",
          "text": [
            "VAE Epoch 4/100, Loss: 0.8727 | Val: 0.8630 | Time: 15.05s\n",
            "儲存最佳模型\n"
          ]
        },
        {
          "output_type": "stream",
          "name": "stderr",
          "text": [
            "100%|██████████| 375/375 [00:11<00:00, 32.60it/s]\n"
          ]
        },
        {
          "output_type": "stream",
          "name": "stdout",
          "text": [
            "VAE Epoch 5/100, Loss: 0.8529 | Val: 0.8495 | Time: 13.83s\n",
            "儲存最佳模型\n"
          ]
        },
        {
          "output_type": "stream",
          "name": "stderr",
          "text": [
            "100%|██████████| 375/375 [00:11<00:00, 32.25it/s]\n"
          ]
        },
        {
          "output_type": "stream",
          "name": "stdout",
          "text": [
            "VAE Epoch 6/100, Loss: 0.8409 | Val: 0.8392 | Time: 14.05s\n",
            "儲存最佳模型\n"
          ]
        },
        {
          "output_type": "stream",
          "name": "stderr",
          "text": [
            "100%|██████████| 375/375 [00:11<00:00, 32.16it/s]\n"
          ]
        },
        {
          "output_type": "stream",
          "name": "stdout",
          "text": [
            "VAE Epoch 7/100, Loss: 0.8323 | Val: 0.8333 | Time: 14.03s\n",
            "儲存最佳模型\n"
          ]
        },
        {
          "output_type": "stream",
          "name": "stderr",
          "text": [
            "100%|██████████| 375/375 [00:12<00:00, 30.63it/s]\n"
          ]
        },
        {
          "output_type": "stream",
          "name": "stdout",
          "text": [
            "VAE Epoch 8/100, Loss: 0.8259 | Val: 0.8317 | Time: 14.80s\n",
            "儲存最佳模型\n"
          ]
        },
        {
          "output_type": "stream",
          "name": "stderr",
          "text": [
            "100%|██████████| 375/375 [00:11<00:00, 33.33it/s]\n"
          ]
        },
        {
          "output_type": "stream",
          "name": "stdout",
          "text": [
            "VAE Epoch 9/100, Loss: 0.8206 | Val: 0.8264 | Time: 14.34s\n",
            "儲存最佳模型\n"
          ]
        },
        {
          "output_type": "stream",
          "name": "stderr",
          "text": [
            "100%|██████████| 375/375 [00:11<00:00, 32.42it/s]\n"
          ]
        },
        {
          "output_type": "stream",
          "name": "stdout",
          "text": [
            "VAE Epoch 10/100, Loss: 0.8169 | Val: 0.8208 | Time: 13.92s\n",
            "儲存最佳模型\n"
          ]
        },
        {
          "output_type": "stream",
          "name": "stderr",
          "text": [
            "100%|██████████| 375/375 [00:11<00:00, 32.45it/s]\n"
          ]
        },
        {
          "output_type": "stream",
          "name": "stdout",
          "text": [
            "VAE Epoch 11/100, Loss: 0.8127 | Val: 0.8199 | Time: 13.89s\n",
            "儲存最佳模型\n"
          ]
        },
        {
          "output_type": "stream",
          "name": "stderr",
          "text": [
            "100%|██████████| 375/375 [00:11<00:00, 32.49it/s]\n"
          ]
        },
        {
          "output_type": "stream",
          "name": "stdout",
          "text": [
            "VAE Epoch 12/100, Loss: 0.8086 | Val: 0.8160 | Time: 13.88s\n",
            "儲存最佳模型\n"
          ]
        },
        {
          "output_type": "stream",
          "name": "stderr",
          "text": [
            "100%|██████████| 375/375 [00:11<00:00, 32.36it/s]\n"
          ]
        },
        {
          "output_type": "stream",
          "name": "stdout",
          "text": [
            "VAE Epoch 13/100, Loss: 0.8063 | Val: 0.8120 | Time: 13.94s\n",
            "儲存最佳模型\n"
          ]
        },
        {
          "output_type": "stream",
          "name": "stderr",
          "text": [
            "100%|██████████| 375/375 [00:11<00:00, 32.41it/s]\n"
          ]
        },
        {
          "output_type": "stream",
          "name": "stdout",
          "text": [
            "VAE Epoch 14/100, Loss: 0.8038 | Val: 0.8111 | Time: 13.94s\n",
            "儲存最佳模型\n"
          ]
        },
        {
          "output_type": "stream",
          "name": "stderr",
          "text": [
            "100%|██████████| 375/375 [00:11<00:00, 32.29it/s]\n"
          ]
        },
        {
          "output_type": "stream",
          "name": "stdout",
          "text": [
            "VAE Epoch 15/100, Loss: 0.8013 | Val: 0.8077 | Time: 14.51s\n",
            "儲存最佳模型\n"
          ]
        },
        {
          "output_type": "stream",
          "name": "stderr",
          "text": [
            "100%|██████████| 375/375 [00:11<00:00, 33.14it/s]\n"
          ]
        },
        {
          "output_type": "stream",
          "name": "stdout",
          "text": [
            "VAE Epoch 16/100, Loss: 0.7989 | Val: 0.8075 | Time: 14.10s\n",
            "儲存最佳模型\n"
          ]
        },
        {
          "output_type": "stream",
          "name": "stderr",
          "text": [
            "100%|██████████| 375/375 [00:11<00:00, 32.42it/s]\n"
          ]
        },
        {
          "output_type": "stream",
          "name": "stdout",
          "text": [
            "VAE Epoch 17/100, Loss: 0.7974 | Val: 0.8059 | Time: 13.92s\n",
            "儲存最佳模型\n"
          ]
        },
        {
          "output_type": "stream",
          "name": "stderr",
          "text": [
            "100%|██████████| 375/375 [00:11<00:00, 32.23it/s]\n"
          ]
        },
        {
          "output_type": "stream",
          "name": "stdout",
          "text": [
            "VAE Epoch 18/100, Loss: 0.7954 | Val: 0.8031 | Time: 13.98s\n",
            "儲存最佳模型\n"
          ]
        },
        {
          "output_type": "stream",
          "name": "stderr",
          "text": [
            "100%|██████████| 375/375 [00:11<00:00, 32.28it/s]\n"
          ]
        },
        {
          "output_type": "stream",
          "name": "stdout",
          "text": [
            "VAE Epoch 19/100, Loss: 0.7944 | Val: 0.8036 | Time: 13.99s\n"
          ]
        },
        {
          "output_type": "stream",
          "name": "stderr",
          "text": [
            "100%|██████████| 375/375 [00:11<00:00, 32.24it/s]\n"
          ]
        },
        {
          "output_type": "stream",
          "name": "stdout",
          "text": [
            "VAE Epoch 20/100, Loss: 0.7926 | Val: 0.8027 | Time: 13.98s\n",
            "儲存最佳模型\n"
          ]
        },
        {
          "output_type": "stream",
          "name": "stderr",
          "text": [
            "100%|██████████| 375/375 [00:11<00:00, 31.87it/s]\n"
          ]
        },
        {
          "output_type": "stream",
          "name": "stdout",
          "text": [
            "VAE Epoch 21/100, Loss: 0.7914 | Val: 0.8011 | Time: 14.44s\n",
            "儲存最佳模型\n"
          ]
        },
        {
          "output_type": "stream",
          "name": "stderr",
          "text": [
            "100%|██████████| 375/375 [00:11<00:00, 32.80it/s]\n"
          ]
        },
        {
          "output_type": "stream",
          "name": "stdout",
          "text": [
            "VAE Epoch 22/100, Loss: 0.7901 | Val: 0.8002 | Time: 14.38s\n",
            "儲存最佳模型\n"
          ]
        },
        {
          "output_type": "stream",
          "name": "stderr",
          "text": [
            "100%|██████████| 375/375 [00:12<00:00, 29.99it/s]\n"
          ]
        },
        {
          "output_type": "stream",
          "name": "stdout",
          "text": [
            "VAE Epoch 23/100, Loss: 0.7889 | Val: 0.7987 | Time: 14.87s\n",
            "儲存最佳模型\n"
          ]
        },
        {
          "output_type": "stream",
          "name": "stderr",
          "text": [
            "100%|██████████| 375/375 [00:11<00:00, 32.55it/s]\n"
          ]
        },
        {
          "output_type": "stream",
          "name": "stdout",
          "text": [
            "VAE Epoch 24/100, Loss: 0.7876 | Val: 0.7978 | Time: 13.86s\n",
            "儲存最佳模型\n"
          ]
        },
        {
          "output_type": "stream",
          "name": "stderr",
          "text": [
            "100%|██████████| 375/375 [00:11<00:00, 32.20it/s]\n"
          ]
        },
        {
          "output_type": "stream",
          "name": "stdout",
          "text": [
            "VAE Epoch 25/100, Loss: 0.7869 | Val: 0.8009 | Time: 14.10s\n"
          ]
        },
        {
          "output_type": "stream",
          "name": "stderr",
          "text": [
            "100%|██████████| 375/375 [00:11<00:00, 32.50it/s]\n"
          ]
        },
        {
          "output_type": "stream",
          "name": "stdout",
          "text": [
            "VAE Epoch 26/100, Loss: 0.7852 | Val: 0.7954 | Time: 13.95s\n",
            "儲存最佳模型\n"
          ]
        },
        {
          "output_type": "stream",
          "name": "stderr",
          "text": [
            "100%|██████████| 375/375 [00:11<00:00, 32.29it/s]\n"
          ]
        },
        {
          "output_type": "stream",
          "name": "stdout",
          "text": [
            "VAE Epoch 27/100, Loss: 0.7847 | Val: 0.7990 | Time: 14.53s\n"
          ]
        },
        {
          "output_type": "stream",
          "name": "stderr",
          "text": [
            "100%|██████████| 375/375 [00:11<00:00, 32.55it/s]\n"
          ]
        },
        {
          "output_type": "stream",
          "name": "stdout",
          "text": [
            "VAE Epoch 28/100, Loss: 0.7838 | Val: 0.7948 | Time: 14.28s\n",
            "儲存最佳模型\n"
          ]
        },
        {
          "output_type": "stream",
          "name": "stderr",
          "text": [
            "100%|██████████| 375/375 [00:11<00:00, 32.53it/s]\n"
          ]
        },
        {
          "output_type": "stream",
          "name": "stdout",
          "text": [
            "VAE Epoch 29/100, Loss: 0.7829 | Val: 0.7955 | Time: 13.96s\n"
          ]
        },
        {
          "output_type": "stream",
          "name": "stderr",
          "text": [
            "100%|██████████| 375/375 [00:11<00:00, 32.26it/s]\n"
          ]
        },
        {
          "output_type": "stream",
          "name": "stdout",
          "text": [
            "VAE Epoch 30/100, Loss: 0.7821 | Val: 0.7918 | Time: 13.95s\n",
            "儲存最佳模型\n"
          ]
        },
        {
          "output_type": "stream",
          "name": "stderr",
          "text": [
            "100%|██████████| 375/375 [00:11<00:00, 32.34it/s]\n"
          ]
        },
        {
          "output_type": "stream",
          "name": "stdout",
          "text": [
            "VAE Epoch 31/100, Loss: 0.7811 | Val: 0.7941 | Time: 13.94s\n"
          ]
        },
        {
          "output_type": "stream",
          "name": "stderr",
          "text": [
            "100%|██████████| 375/375 [00:11<00:00, 32.25it/s]\n"
          ]
        },
        {
          "output_type": "stream",
          "name": "stdout",
          "text": [
            "VAE Epoch 32/100, Loss: 0.7802 | Val: 0.7946 | Time: 13.95s\n"
          ]
        },
        {
          "output_type": "stream",
          "name": "stderr",
          "text": [
            "100%|██████████| 375/375 [00:11<00:00, 32.78it/s]\n"
          ]
        },
        {
          "output_type": "stream",
          "name": "stdout",
          "text": [
            "VAE Epoch 33/100, Loss: 0.7794 | Val: 0.7939 | Time: 14.02s\n"
          ]
        },
        {
          "output_type": "stream",
          "name": "stderr",
          "text": [
            "100%|██████████| 375/375 [00:11<00:00, 32.81it/s]\n"
          ]
        },
        {
          "output_type": "stream",
          "name": "stdout",
          "text": [
            "VAE Epoch 34/100, Loss: 0.7791 | Val: 0.7921 | Time: 14.40s\n"
          ]
        },
        {
          "output_type": "stream",
          "name": "stderr",
          "text": [
            "100%|██████████| 375/375 [00:11<00:00, 32.71it/s]\n"
          ]
        },
        {
          "output_type": "stream",
          "name": "stdout",
          "text": [
            "VAE Epoch 35/100, Loss: 0.7786 | Val: 0.7918 | Time: 13.79s\n",
            "儲存最佳模型\n"
          ]
        },
        {
          "output_type": "stream",
          "name": "stderr",
          "text": [
            "100%|██████████| 375/375 [00:11<00:00, 32.64it/s]\n"
          ]
        },
        {
          "output_type": "stream",
          "name": "stdout",
          "text": [
            "VAE Epoch 36/100, Loss: 0.7771 | Val: 0.7926 | Time: 13.94s\n"
          ]
        },
        {
          "output_type": "stream",
          "name": "stderr",
          "text": [
            "100%|██████████| 375/375 [00:11<00:00, 32.24it/s]\n"
          ]
        },
        {
          "output_type": "stream",
          "name": "stdout",
          "text": [
            "VAE Epoch 37/100, Loss: 0.7769 | Val: 0.7897 | Time: 13.98s\n",
            "儲存最佳模型\n"
          ]
        },
        {
          "output_type": "stream",
          "name": "stderr",
          "text": [
            "100%|██████████| 375/375 [00:12<00:00, 30.77it/s]\n"
          ]
        },
        {
          "output_type": "stream",
          "name": "stdout",
          "text": [
            "VAE Epoch 38/100, Loss: 0.7764 | Val: 0.7917 | Time: 14.64s\n"
          ]
        },
        {
          "output_type": "stream",
          "name": "stderr",
          "text": [
            "100%|██████████| 375/375 [00:11<00:00, 32.38it/s]\n"
          ]
        },
        {
          "output_type": "stream",
          "name": "stdout",
          "text": [
            "VAE Epoch 39/100, Loss: 0.7752 | Val: 0.7892 | Time: 14.19s\n",
            "儲存最佳模型\n"
          ]
        },
        {
          "output_type": "stream",
          "name": "stderr",
          "text": [
            "100%|██████████| 375/375 [00:11<00:00, 33.27it/s]\n"
          ]
        },
        {
          "output_type": "stream",
          "name": "stdout",
          "text": [
            "VAE Epoch 40/100, Loss: 0.7750 | Val: 0.7905 | Time: 14.31s\n"
          ]
        },
        {
          "output_type": "stream",
          "name": "stderr",
          "text": [
            "100%|██████████| 375/375 [00:15<00:00, 24.12it/s]\n"
          ]
        },
        {
          "output_type": "stream",
          "name": "stdout",
          "text": [
            "VAE Epoch 41/100, Loss: 0.7740 | Val: 0.7879 | Time: 17.88s\n",
            "儲存最佳模型\n"
          ]
        },
        {
          "output_type": "stream",
          "name": "stderr",
          "text": [
            "100%|██████████| 375/375 [00:11<00:00, 32.08it/s]\n"
          ]
        },
        {
          "output_type": "stream",
          "name": "stdout",
          "text": [
            "VAE Epoch 42/100, Loss: 0.7742 | Val: 0.7891 | Time: 14.04s\n"
          ]
        },
        {
          "output_type": "stream",
          "name": "stderr",
          "text": [
            "100%|██████████| 375/375 [00:11<00:00, 32.72it/s]\n"
          ]
        },
        {
          "output_type": "stream",
          "name": "stdout",
          "text": [
            "VAE Epoch 43/100, Loss: 0.7734 | Val: 0.7909 | Time: 13.94s\n"
          ]
        },
        {
          "output_type": "stream",
          "name": "stderr",
          "text": [
            "100%|██████████| 375/375 [00:11<00:00, 32.95it/s]\n"
          ]
        },
        {
          "output_type": "stream",
          "name": "stdout",
          "text": [
            "VAE Epoch 44/100, Loss: 0.7729 | Val: 0.7878 | Time: 14.46s\n",
            "儲存最佳模型\n"
          ]
        },
        {
          "output_type": "stream",
          "name": "stderr",
          "text": [
            "100%|██████████| 375/375 [00:11<00:00, 31.44it/s]\n"
          ]
        },
        {
          "output_type": "stream",
          "name": "stdout",
          "text": [
            "VAE Epoch 45/100, Loss: 0.7722 | Val: 0.7887 | Time: 14.26s\n"
          ]
        },
        {
          "output_type": "stream",
          "name": "stderr",
          "text": [
            "100%|██████████| 375/375 [00:11<00:00, 32.03it/s]\n"
          ]
        },
        {
          "output_type": "stream",
          "name": "stdout",
          "text": [
            "VAE Epoch 46/100, Loss: 0.7721 | Val: 0.7892 | Time: 14.09s\n"
          ]
        },
        {
          "output_type": "stream",
          "name": "stderr",
          "text": [
            "100%|██████████| 375/375 [00:11<00:00, 32.99it/s]\n"
          ]
        },
        {
          "output_type": "stream",
          "name": "stdout",
          "text": [
            "VAE Epoch 47/100, Loss: 0.7715 | Val: 0.7869 | Time: 13.71s\n",
            "儲存最佳模型\n"
          ]
        },
        {
          "output_type": "stream",
          "name": "stderr",
          "text": [
            "100%|██████████| 375/375 [00:11<00:00, 32.76it/s]\n"
          ]
        },
        {
          "output_type": "stream",
          "name": "stdout",
          "text": [
            "VAE Epoch 48/100, Loss: 0.7714 | Val: 0.7888 | Time: 13.77s\n"
          ]
        },
        {
          "output_type": "stream",
          "name": "stderr",
          "text": [
            "100%|██████████| 375/375 [00:11<00:00, 32.64it/s]\n"
          ]
        },
        {
          "output_type": "stream",
          "name": "stdout",
          "text": [
            "VAE Epoch 49/100, Loss: 0.7703 | Val: 0.7900 | Time: 13.78s\n"
          ]
        },
        {
          "output_type": "stream",
          "name": "stderr",
          "text": [
            "100%|██████████| 375/375 [00:11<00:00, 32.80it/s]\n"
          ]
        },
        {
          "output_type": "stream",
          "name": "stdout",
          "text": [
            "VAE Epoch 50/100, Loss: 0.7702 | Val: 0.7886 | Time: 14.27s\n"
          ]
        },
        {
          "output_type": "stream",
          "name": "stderr",
          "text": [
            "100%|██████████| 375/375 [00:11<00:00, 33.45it/s]\n"
          ]
        },
        {
          "output_type": "stream",
          "name": "stdout",
          "text": [
            "VAE Epoch 51/100, Loss: 0.7700 | Val: 0.7872 | Time: 13.97s\n"
          ]
        },
        {
          "output_type": "stream",
          "name": "stderr",
          "text": [
            "100%|██████████| 375/375 [00:11<00:00, 32.67it/s]\n"
          ]
        },
        {
          "output_type": "stream",
          "name": "stdout",
          "text": [
            "VAE Epoch 52/100, Loss: 0.7694 | Val: 0.7871 | Time: 13.81s\n"
          ]
        },
        {
          "output_type": "stream",
          "name": "stderr",
          "text": [
            "100%|██████████| 375/375 [00:12<00:00, 30.45it/s]\n"
          ]
        },
        {
          "output_type": "stream",
          "name": "stdout",
          "text": [
            "VAE Epoch 53/100, Loss: 0.7684 | Val: 0.7866 | Time: 14.63s\n",
            "儲存最佳模型\n"
          ]
        },
        {
          "output_type": "stream",
          "name": "stderr",
          "text": [
            "100%|██████████| 375/375 [00:11<00:00, 32.54it/s]\n"
          ]
        },
        {
          "output_type": "stream",
          "name": "stdout",
          "text": [
            "VAE Epoch 54/100, Loss: 0.7686 | Val: 0.7886 | Time: 13.86s\n"
          ]
        },
        {
          "output_type": "stream",
          "name": "stderr",
          "text": [
            "100%|██████████| 375/375 [00:11<00:00, 32.56it/s]\n"
          ]
        },
        {
          "output_type": "stream",
          "name": "stdout",
          "text": [
            "VAE Epoch 55/100, Loss: 0.7681 | Val: 0.7842 | Time: 13.89s\n",
            "儲存最佳模型\n"
          ]
        },
        {
          "output_type": "stream",
          "name": "stderr",
          "text": [
            "100%|██████████| 375/375 [00:11<00:00, 32.72it/s]\n"
          ]
        },
        {
          "output_type": "stream",
          "name": "stdout",
          "text": [
            "VAE Epoch 56/100, Loss: 0.7678 | Val: 0.7850 | Time: 14.07s\n"
          ]
        },
        {
          "output_type": "stream",
          "name": "stderr",
          "text": [
            "100%|██████████| 375/375 [00:11<00:00, 32.93it/s]\n"
          ]
        },
        {
          "output_type": "stream",
          "name": "stdout",
          "text": [
            "VAE Epoch 57/100, Loss: 0.7676 | Val: 0.7846 | Time: 14.27s\n"
          ]
        },
        {
          "output_type": "stream",
          "name": "stderr",
          "text": [
            "100%|██████████| 375/375 [00:11<00:00, 32.64it/s]\n"
          ]
        },
        {
          "output_type": "stream",
          "name": "stdout",
          "text": [
            "VAE Epoch 58/100, Loss: 0.7670 | Val: 0.7851 | Time: 13.81s\n"
          ]
        },
        {
          "output_type": "stream",
          "name": "stderr",
          "text": [
            "100%|██████████| 375/375 [00:11<00:00, 32.58it/s]\n"
          ]
        },
        {
          "output_type": "stream",
          "name": "stdout",
          "text": [
            "VAE Epoch 59/100, Loss: 0.7664 | Val: 0.7860 | Time: 13.87s\n"
          ]
        },
        {
          "output_type": "stream",
          "name": "stderr",
          "text": [
            "100%|██████████| 375/375 [00:11<00:00, 32.45it/s]\n"
          ]
        },
        {
          "output_type": "stream",
          "name": "stdout",
          "text": [
            "VAE Epoch 60/100, Loss: 0.7667 | Val: 0.7839 | Time: 13.87s\n",
            "儲存最佳模型\n"
          ]
        },
        {
          "output_type": "stream",
          "name": "stderr",
          "text": [
            "100%|██████████| 375/375 [00:11<00:00, 32.55it/s]\n"
          ]
        },
        {
          "output_type": "stream",
          "name": "stdout",
          "text": [
            "VAE Epoch 61/100, Loss: 0.7663 | Val: 0.7862 | Time: 13.88s\n"
          ]
        },
        {
          "output_type": "stream",
          "name": "stderr",
          "text": [
            "100%|██████████| 375/375 [00:11<00:00, 32.40it/s]\n"
          ]
        },
        {
          "output_type": "stream",
          "name": "stdout",
          "text": [
            "VAE Epoch 62/100, Loss: 0.7656 | Val: 0.7885 | Time: 13.92s\n"
          ]
        },
        {
          "output_type": "stream",
          "name": "stderr",
          "text": [
            "100%|██████████| 375/375 [00:11<00:00, 32.86it/s]\n"
          ]
        },
        {
          "output_type": "stream",
          "name": "stdout",
          "text": [
            "VAE Epoch 63/100, Loss: 0.7654 | Val: 0.7848 | Time: 14.45s\n"
          ]
        },
        {
          "output_type": "stream",
          "name": "stderr",
          "text": [
            "100%|██████████| 375/375 [00:11<00:00, 33.22it/s]\n"
          ]
        },
        {
          "output_type": "stream",
          "name": "stdout",
          "text": [
            "VAE Epoch 64/100, Loss: 0.7655 | Val: 0.7855 | Time: 13.93s\n"
          ]
        },
        {
          "output_type": "stream",
          "name": "stderr",
          "text": [
            "100%|██████████| 375/375 [00:11<00:00, 32.68it/s]\n"
          ]
        },
        {
          "output_type": "stream",
          "name": "stdout",
          "text": [
            "VAE Epoch 65/100, Loss: 0.7645 | Val: 0.7846 | Time: 13.77s\n"
          ]
        },
        {
          "output_type": "stream",
          "name": "stderr",
          "text": [
            "100%|██████████| 375/375 [00:11<00:00, 32.42it/s]\n"
          ]
        },
        {
          "output_type": "stream",
          "name": "stdout",
          "text": [
            "VAE Epoch 66/100, Loss: 0.7643 | Val: 0.7838 | Time: 13.93s\n",
            "儲存最佳模型\n"
          ]
        },
        {
          "output_type": "stream",
          "name": "stderr",
          "text": [
            "100%|██████████| 375/375 [00:11<00:00, 32.02it/s]\n"
          ]
        },
        {
          "output_type": "stream",
          "name": "stdout",
          "text": [
            "VAE Epoch 67/100, Loss: 0.7643 | Val: 0.7834 | Time: 14.07s\n",
            "儲存最佳模型\n"
          ]
        },
        {
          "output_type": "stream",
          "name": "stderr",
          "text": [
            "100%|██████████| 375/375 [00:11<00:00, 32.41it/s]\n"
          ]
        },
        {
          "output_type": "stream",
          "name": "stdout",
          "text": [
            "VAE Epoch 68/100, Loss: 0.7639 | Val: 0.7845 | Time: 14.62s\n"
          ]
        },
        {
          "output_type": "stream",
          "name": "stderr",
          "text": [
            "100%|██████████| 375/375 [00:11<00:00, 32.17it/s]\n"
          ]
        },
        {
          "output_type": "stream",
          "name": "stdout",
          "text": [
            "VAE Epoch 69/100, Loss: 0.7636 | Val: 0.7837 | Time: 14.66s\n"
          ]
        },
        {
          "output_type": "stream",
          "name": "stderr",
          "text": [
            "100%|██████████| 375/375 [00:11<00:00, 33.37it/s]\n"
          ]
        },
        {
          "output_type": "stream",
          "name": "stdout",
          "text": [
            "VAE Epoch 70/100, Loss: 0.7632 | Val: 0.7824 | Time: 13.90s\n",
            "儲存最佳模型\n"
          ]
        },
        {
          "output_type": "stream",
          "name": "stderr",
          "text": [
            "100%|██████████| 375/375 [00:11<00:00, 32.60it/s]\n"
          ]
        },
        {
          "output_type": "stream",
          "name": "stdout",
          "text": [
            "VAE Epoch 71/100, Loss: 0.7629 | Val: 0.7834 | Time: 13.86s\n"
          ]
        },
        {
          "output_type": "stream",
          "name": "stderr",
          "text": [
            "100%|██████████| 375/375 [00:11<00:00, 32.36it/s]\n"
          ]
        },
        {
          "output_type": "stream",
          "name": "stdout",
          "text": [
            "VAE Epoch 72/100, Loss: 0.7625 | Val: 0.7835 | Time: 14.00s\n"
          ]
        },
        {
          "output_type": "stream",
          "name": "stderr",
          "text": [
            "100%|██████████| 375/375 [00:11<00:00, 32.60it/s]\n"
          ]
        },
        {
          "output_type": "stream",
          "name": "stdout",
          "text": [
            "VAE Epoch 73/100, Loss: 0.7624 | Val: 0.7850 | Time: 13.80s\n"
          ]
        },
        {
          "output_type": "stream",
          "name": "stderr",
          "text": [
            "100%|██████████| 375/375 [00:11<00:00, 32.38it/s]\n"
          ]
        },
        {
          "output_type": "stream",
          "name": "stdout",
          "text": [
            "VAE Epoch 74/100, Loss: 0.7623 | Val: 0.7828 | Time: 13.91s\n"
          ]
        },
        {
          "output_type": "stream",
          "name": "stderr",
          "text": [
            "100%|██████████| 375/375 [00:11<00:00, 32.41it/s]\n"
          ]
        },
        {
          "output_type": "stream",
          "name": "stdout",
          "text": [
            "VAE Epoch 75/100, Loss: 0.7623 | Val: 0.7835 | Time: 14.24s\n"
          ]
        },
        {
          "output_type": "stream",
          "name": "stderr",
          "text": [
            "100%|██████████| 375/375 [00:11<00:00, 33.15it/s]\n"
          ]
        },
        {
          "output_type": "stream",
          "name": "stdout",
          "text": [
            "VAE Epoch 76/100, Loss: 0.7618 | Val: 0.7825 | Time: 14.22s\n"
          ]
        },
        {
          "output_type": "stream",
          "name": "stderr",
          "text": [
            "100%|██████████| 375/375 [00:11<00:00, 32.23it/s]\n"
          ]
        },
        {
          "output_type": "stream",
          "name": "stdout",
          "text": [
            "VAE Epoch 77/100, Loss: 0.7618 | Val: 0.7810 | Time: 13.96s\n",
            "儲存最佳模型\n"
          ]
        },
        {
          "output_type": "stream",
          "name": "stderr",
          "text": [
            "100%|██████████| 375/375 [00:11<00:00, 32.38it/s]\n"
          ]
        },
        {
          "output_type": "stream",
          "name": "stdout",
          "text": [
            "VAE Epoch 78/100, Loss: 0.7612 | Val: 0.7854 | Time: 13.93s\n"
          ]
        },
        {
          "output_type": "stream",
          "name": "stderr",
          "text": [
            "100%|██████████| 375/375 [00:11<00:00, 32.53it/s]\n"
          ]
        },
        {
          "output_type": "stream",
          "name": "stdout",
          "text": [
            "VAE Epoch 79/100, Loss: 0.7613 | Val: 0.7831 | Time: 13.85s\n"
          ]
        },
        {
          "output_type": "stream",
          "name": "stderr",
          "text": [
            "100%|██████████| 375/375 [00:11<00:00, 32.66it/s]\n"
          ]
        },
        {
          "output_type": "stream",
          "name": "stdout",
          "text": [
            "VAE Epoch 80/100, Loss: 0.7607 | Val: 0.7837 | Time: 13.84s\n"
          ]
        },
        {
          "output_type": "stream",
          "name": "stderr",
          "text": [
            "100%|██████████| 375/375 [00:11<00:00, 32.25it/s]\n"
          ]
        },
        {
          "output_type": "stream",
          "name": "stdout",
          "text": [
            "VAE Epoch 81/100, Loss: 0.7607 | Val: 0.7820 | Time: 14.01s\n"
          ]
        },
        {
          "output_type": "stream",
          "name": "stderr",
          "text": [
            "100%|██████████| 375/375 [00:11<00:00, 31.81it/s]\n"
          ]
        },
        {
          "output_type": "stream",
          "name": "stdout",
          "text": [
            "VAE Epoch 82/100, Loss: 0.7603 | Val: 0.7832 | Time: 15.08s\n"
          ]
        },
        {
          "output_type": "stream",
          "name": "stderr",
          "text": [
            "100%|██████████| 375/375 [00:11<00:00, 32.07it/s]\n"
          ]
        },
        {
          "output_type": "stream",
          "name": "stdout",
          "text": [
            "VAE Epoch 83/100, Loss: 0.7600 | Val: 0.7809 | Time: 14.18s\n",
            "儲存最佳模型\n"
          ]
        },
        {
          "output_type": "stream",
          "name": "stderr",
          "text": [
            "100%|██████████| 375/375 [00:12<00:00, 30.60it/s]\n"
          ]
        },
        {
          "output_type": "stream",
          "name": "stdout",
          "text": [
            "VAE Epoch 84/100, Loss: 0.7601 | Val: 0.7817 | Time: 14.62s\n"
          ]
        },
        {
          "output_type": "stream",
          "name": "stderr",
          "text": [
            "100%|██████████| 375/375 [00:11<00:00, 32.17it/s]\n"
          ]
        },
        {
          "output_type": "stream",
          "name": "stdout",
          "text": [
            "VAE Epoch 85/100, Loss: 0.7598 | Val: 0.7823 | Time: 14.03s\n"
          ]
        },
        {
          "output_type": "stream",
          "name": "stderr",
          "text": [
            "100%|██████████| 375/375 [00:11<00:00, 32.61it/s]\n"
          ]
        },
        {
          "output_type": "stream",
          "name": "stdout",
          "text": [
            "VAE Epoch 86/100, Loss: 0.7596 | Val: 0.7830 | Time: 13.86s\n"
          ]
        },
        {
          "output_type": "stream",
          "name": "stderr",
          "text": [
            "100%|██████████| 375/375 [00:11<00:00, 31.96it/s]\n"
          ]
        },
        {
          "output_type": "stream",
          "name": "stdout",
          "text": [
            "VAE Epoch 87/100, Loss: 0.7589 | Val: 0.7831 | Time: 14.42s\n"
          ]
        },
        {
          "output_type": "stream",
          "name": "stderr",
          "text": [
            "100%|██████████| 375/375 [00:11<00:00, 32.16it/s]\n"
          ]
        },
        {
          "output_type": "stream",
          "name": "stdout",
          "text": [
            "VAE Epoch 88/100, Loss: 0.7595 | Val: 0.7838 | Time: 14.54s\n"
          ]
        },
        {
          "output_type": "stream",
          "name": "stderr",
          "text": [
            "100%|██████████| 375/375 [00:11<00:00, 31.80it/s]\n"
          ]
        },
        {
          "output_type": "stream",
          "name": "stdout",
          "text": [
            "VAE Epoch 89/100, Loss: 0.7590 | Val: 0.7810 | Time: 14.21s\n"
          ]
        },
        {
          "output_type": "stream",
          "name": "stderr",
          "text": [
            "100%|██████████| 375/375 [00:11<00:00, 32.01it/s]\n"
          ]
        },
        {
          "output_type": "stream",
          "name": "stdout",
          "text": [
            "VAE Epoch 90/100, Loss: 0.7584 | Val: 0.7814 | Time: 14.09s\n"
          ]
        },
        {
          "output_type": "stream",
          "name": "stderr",
          "text": [
            "100%|██████████| 375/375 [00:11<00:00, 31.97it/s]\n"
          ]
        },
        {
          "output_type": "stream",
          "name": "stdout",
          "text": [
            "VAE Epoch 91/100, Loss: 0.7582 | Val: 0.7821 | Time: 14.09s\n"
          ]
        },
        {
          "output_type": "stream",
          "name": "stderr",
          "text": [
            "100%|██████████| 375/375 [00:11<00:00, 31.79it/s]\n"
          ]
        },
        {
          "output_type": "stream",
          "name": "stdout",
          "text": [
            "VAE Epoch 92/100, Loss: 0.7585 | Val: 0.7832 | Time: 14.22s\n"
          ]
        },
        {
          "output_type": "stream",
          "name": "stderr",
          "text": [
            "100%|██████████| 375/375 [00:11<00:00, 32.24it/s]\n"
          ]
        },
        {
          "output_type": "stream",
          "name": "stdout",
          "text": [
            "VAE Epoch 93/100, Loss: 0.7582 | Val: 0.7842 | Time: 14.37s\n",
            "早停觸發\n",
            "總訓練時間: 1319.10s\n"
          ]
        },
        {
          "output_type": "display_data",
          "data": {
            "text/plain": [
              "<Figure size 1000x1000 with 1 Axes>"
            ],
            "image/png": "[encoded data removed]"
          },
          "metadata": {}
        }
      ],
      "source": [
        "# VAE 模型 - 升級為 CNN 版本\n",
        "class VAE(nn.Module):\n",
        "    def __init__(self):\n",
        "        super(VAE, self).__init__()\n",
        "        # 編碼器\n",
        "        self.encoder = nn.Sequential(\n",
        "            nn.Conv2d(1, 32, kernel_size=3, stride=2, padding=1),\n",
        "            nn.ReLU(),\n",
        "            nn.Conv2d(32, 64, kernel_size=3, stride=2, padding=1),\n",
        "            nn.ReLU(),\n",
        "            nn.Flatten(),\n",
        "            nn.Linear(64 * 7 * 7, 128),\n",
        "            nn.ReLU()\n",
        "        )\n",
        "        self.fc_mu = nn.Linear(128, latent_dim)\n",
        "        self.fc_logvar = nn.Linear(128, latent_dim)\n",
        "\n",
        "        # 解碼器\n",
        "        self.decoder = nn.Sequential(\n",
        "            nn.Linear(latent_dim, 128),\n",
        "            nn.ReLU(),\n",
        "            nn.Linear(128, 64 * 7 * 7),\n",
        "            nn.ReLU(),\n",
        "            nn.Unflatten(1, (64, 7, 7)),\n",
        "            nn.ConvTranspose2d(64, 32, kernel_size=3, stride=2, padding=1, output_padding=1),\n",
        "            nn.ReLU(),\n",
        "            nn.ConvTranspose2d(32, 1, kernel_size=3, stride=2, padding=1, output_padding=1),\n",
        "            nn.Sigmoid()\n",
        "        )\n",
        "\n",
        "    def encode(self, x):\n",
        "        h = self.encoder(x)\n",
        "        return self.fc_mu(h), self.fc_logvar(h)\n",
        "\n",
        "    def reparameterize(self, mu, logvar):\n",
        "        std = torch.exp(0.5 * logvar)\n",
        "        eps = torch.randn_like(std)\n",
        "        return mu + eps * std\n",
        "\n",
        "    def decode(self, z):\n",
        "        return self.decoder(z)\n",
        "\n",
        "    def forward(self, x):\n",
        "        mu, logvar = self.encode(x)\n",
        "        z = self.reparameterize(mu, logvar)\n",
        "        return self.decode(z), mu, logvar\n",
        "\n",
        "# VAE 損失函數\n",
        "def vae_loss(recon_x, x, mu, logvar):\n",
        "    target = (x + 1) / 2\n",
        "    BCE = F.binary_cross_entropy(recon_x, target, reduction='sum')\n",
        "    KLD = -0.5 * torch.sum(1 + logvar - mu.pow(2) - logvar.exp())\n",
        "    return BCE + KLD\n",
        "\n",
        "# 初始化模型\n",
        "vae = VAE().to(device)\n",
        "optimizer_vae = optim.Adam(vae.parameters(), lr=lr_vae)\n",
        "\n",
        "# 訓練 VAE\n",
        "def vae_loss_batch(x):\n",
        "    recon_batch, mu, logvar = vae(x)\n",
        "    loss = vae_loss(recon_batch, x, mu, logvar)\n",
        "    return loss / x.size(0)  # 平均損失\n",
        "\n",
        "best_val = float('inf')\n",
        "early = 0\n",
        "best_model_path = \"vae_best.pth\"\n",
        "train_losses, valid_losses = [], []\n",
        "\n",
        "print(\"訓練 VAE...\")\n",
        "total_start = time.time()\n",
        "for epoch in range(1, epochs_vae + 1):\n",
        "    ep_start = time.time()\n",
        "    vae.train()\n",
        "    train_loss_sum = 0.0\n",
        "    for data, _ in tqdm(train_loader):\n",
        "        data = data.to(device)\n",
        "        loss = vae_loss_batch(data)\n",
        "        optimizer_vae.zero_grad()\n",
        "        loss.backward()\n",
        "        optimizer_vae.step()\n",
        "        train_loss_sum += loss.item()\n",
        "    avg_train = train_loss_sum / len(train_loader.dataset)\n",
        "    train_losses.append(avg_train)\n",
        "\n",
        "    # validation\n",
        "    vae.eval()\n",
        "    val_sum = 0.0\n",
        "    with torch.no_grad():\n",
        "        for data, _ in valid_loader:\n",
        "            data = data.to(device)\n",
        "            val_sum += vae_loss_batch(data).item()\n",
        "    avg_val = val_sum / len(valid_loader.dataset)\n",
        "    valid_losses.append(avg_val)\n",
        "\n",
        "    ep_time = time.time() - ep_start\n",
        "    print(f\"VAE Epoch {epoch}/{epochs_vae}, Loss: {avg_train:.4f} | Val: {avg_val:.4f} | Time: {ep_time:.2f}s\")\n",
        "\n",
        "    if avg_val < best_val:\n",
        "        best_val = avg_val\n",
        "        torch.save(vae.state_dict(), best_model_path)\n",
        "        print(\"儲存最佳模型\")\n",
        "        early = 0\n",
        "    else:\n",
        "        early += 1\n",
        "        if early >= patience:\n",
        "            print(\"早停觸發\")\n",
        "            break\n",
        "\n",
        "total_time = time.time() - total_start\n",
        "print(f\"總訓練時間: {total_time:.2f}s\")\n",
        "\n",
        "# 生成 VAE 影像\n",
        "with torch.no_grad():\n",
        "    z = torch.randn(10, latent_dim).to(device)\n",
        "    vae_samples = vae.decode(z)\n",
        "show_images(vae_samples, \"VAE 生成的影像\", nrow=5)"
      ]
    },
    {
      "cell_type": "markdown",
      "metadata": {
        "id": "UUBLi_rAuqdE"
      },
      "source": [
        "# GAN"
      ]
    },
    {
      "cell_type": "code",
      "execution_count": null,
      "metadata": {
        "colab": {
          "base_uri": "https://localhost:8080/",
          "height": 1000
        },
        "id": "fBvkBRYouqHN",
        "outputId": "805916ce-84dc-40c5-c95f-6845e0e34c3d"
      },
      "outputs": [
        {
          "output_type": "stream",
          "name": "stdout",
          "text": [
            "訓練 GAN...\n"
          ]
        },
        {
          "output_type": "stream",
          "name": "stderr",
          "text": [
            "100%|██████████| 375/375 [00:11<00:00, 31.41it/s]\n"
          ]
        },
        {
          "output_type": "stream",
          "name": "stdout",
          "text": [
            "GAN Epoch 1/100, D Loss: 1.3329, G Loss: 0.8343\n"
          ]
        },
        {
          "output_type": "stream",
          "name": "stderr",
          "text": [
            "100%|██████████| 375/375 [00:11<00:00, 32.28it/s]\n"
          ]
        },
        {
          "output_type": "stream",
          "name": "stdout",
          "text": [
            "GAN Epoch 2/100, D Loss: 1.1033, G Loss: 0.8140\n"
          ]
        },
        {
          "output_type": "stream",
          "name": "stderr",
          "text": [
            "100%|██████████| 375/375 [00:11<00:00, 31.85it/s]\n"
          ]
        },
        {
          "output_type": "stream",
          "name": "stdout",
          "text": [
            "GAN Epoch 3/100, D Loss: 1.1529, G Loss: 0.8451\n"
          ]
        },
        {
          "output_type": "stream",
          "name": "stderr",
          "text": [
            "100%|██████████| 375/375 [00:11<00:00, 32.10it/s]\n"
          ]
        },
        {
          "output_type": "stream",
          "name": "stdout",
          "text": [
            "GAN Epoch 4/100, D Loss: 1.2540, G Loss: 0.9509\n"
          ]
        },
        {
          "output_type": "stream",
          "name": "stderr",
          "text": [
            "100%|██████████| 375/375 [00:11<00:00, 32.20it/s]\n"
          ]
        },
        {
          "output_type": "stream",
          "name": "stdout",
          "text": [
            "GAN Epoch 5/100, D Loss: 1.2740, G Loss: 0.7171\n"
          ]
        },
        {
          "output_type": "stream",
          "name": "stderr",
          "text": [
            "100%|██████████| 375/375 [00:12<00:00, 31.08it/s]\n"
          ]
        },
        {
          "output_type": "stream",
          "name": "stdout",
          "text": [
            "GAN Epoch 6/100, D Loss: 1.1911, G Loss: 0.8415\n"
          ]
        },
        {
          "output_type": "stream",
          "name": "stderr",
          "text": [
            "100%|██████████| 375/375 [00:12<00:00, 30.57it/s]\n"
          ]
        },
        {
          "output_type": "stream",
          "name": "stdout",
          "text": [
            "GAN Epoch 7/100, D Loss: 1.3102, G Loss: 0.6800\n"
          ]
        },
        {
          "output_type": "stream",
          "name": "stderr",
          "text": [
            "100%|██████████| 375/375 [00:12<00:00, 31.18it/s]\n"
          ]
        },
        {
          "output_type": "stream",
          "name": "stdout",
          "text": [
            "GAN Epoch 8/100, D Loss: 1.1892, G Loss: 1.0759\n"
          ]
        },
        {
          "output_type": "stream",
          "name": "stderr",
          "text": [
            "100%|██████████| 375/375 [00:11<00:00, 31.99it/s]\n"
          ]
        },
        {
          "output_type": "stream",
          "name": "stdout",
          "text": [
            "GAN Epoch 9/100, D Loss: 1.2198, G Loss: 0.8625\n"
          ]
        },
        {
          "output_type": "stream",
          "name": "stderr",
          "text": [
            "100%|██████████| 375/375 [00:11<00:00, 32.31it/s]\n"
          ]
        },
        {
          "output_type": "stream",
          "name": "stdout",
          "text": [
            "GAN Epoch 10/100, D Loss: 1.2523, G Loss: 0.6518\n"
          ]
        },
        {
          "output_type": "stream",
          "name": "stderr",
          "text": [
            "100%|██████████| 375/375 [00:11<00:00, 32.16it/s]\n"
          ]
        },
        {
          "output_type": "stream",
          "name": "stdout",
          "text": [
            "GAN Epoch 11/100, D Loss: 1.2421, G Loss: 0.7503\n"
          ]
        },
        {
          "output_type": "stream",
          "name": "stderr",
          "text": [
            "100%|██████████| 375/375 [00:11<00:00, 32.03it/s]\n"
          ]
        },
        {
          "output_type": "stream",
          "name": "stdout",
          "text": [
            "GAN Epoch 12/100, D Loss: 1.2131, G Loss: 0.8655\n"
          ]
        },
        {
          "output_type": "stream",
          "name": "stderr",
          "text": [
            "100%|██████████| 375/375 [00:11<00:00, 31.72it/s]\n"
          ]
        },
        {
          "output_type": "stream",
          "name": "stdout",
          "text": [
            "GAN Epoch 13/100, D Loss: 1.2139, G Loss: 0.6480\n"
          ]
        },
        {
          "output_type": "stream",
          "name": "stderr",
          "text": [
            "100%|██████████| 375/375 [00:11<00:00, 32.18it/s]\n"
          ]
        },
        {
          "output_type": "stream",
          "name": "stdout",
          "text": [
            "GAN Epoch 14/100, D Loss: 1.2111, G Loss: 0.7945\n"
          ]
        },
        {
          "output_type": "stream",
          "name": "stderr",
          "text": [
            "100%|██████████| 375/375 [00:11<00:00, 31.98it/s]\n"
          ]
        },
        {
          "output_type": "stream",
          "name": "stdout",
          "text": [
            "GAN Epoch 15/100, D Loss: 1.2337, G Loss: 0.7715\n"
          ]
        },
        {
          "output_type": "stream",
          "name": "stderr",
          "text": [
            "100%|██████████| 375/375 [00:11<00:00, 32.10it/s]\n"
          ]
        },
        {
          "output_type": "stream",
          "name": "stdout",
          "text": [
            "GAN Epoch 16/100, D Loss: 1.2342, G Loss: 0.9400\n"
          ]
        },
        {
          "output_type": "stream",
          "name": "stderr",
          "text": [
            "100%|██████████| 375/375 [00:11<00:00, 32.08it/s]\n"
          ]
        },
        {
          "output_type": "stream",
          "name": "stdout",
          "text": [
            "GAN Epoch 17/100, D Loss: 1.2892, G Loss: 1.1845\n"
          ]
        },
        {
          "output_type": "stream",
          "name": "stderr",
          "text": [
            "100%|██████████| 375/375 [00:11<00:00, 31.96it/s]\n"
          ]
        },
        {
          "output_type": "stream",
          "name": "stdout",
          "text": [
            "GAN Epoch 18/100, D Loss: 1.2518, G Loss: 0.7347\n"
          ]
        },
        {
          "output_type": "stream",
          "name": "stderr",
          "text": [
            "100%|██████████| 375/375 [00:11<00:00, 31.61it/s]\n"
          ]
        },
        {
          "output_type": "stream",
          "name": "stdout",
          "text": [
            "GAN Epoch 19/100, D Loss: 1.2133, G Loss: 0.7326\n"
          ]
        },
        {
          "output_type": "stream",
          "name": "stderr",
          "text": [
            "100%|██████████| 375/375 [00:11<00:00, 32.00it/s]\n"
          ]
        },
        {
          "output_type": "stream",
          "name": "stdout",
          "text": [
            "GAN Epoch 20/100, D Loss: 1.1846, G Loss: 0.7741\n"
          ]
        },
        {
          "output_type": "stream",
          "name": "stderr",
          "text": [
            "100%|██████████| 375/375 [00:11<00:00, 31.85it/s]\n"
          ]
        },
        {
          "output_type": "stream",
          "name": "stdout",
          "text": [
            "GAN Epoch 21/100, D Loss: 1.1366, G Loss: 0.7817\n"
          ]
        },
        {
          "output_type": "stream",
          "name": "stderr",
          "text": [
            "100%|██████████| 375/375 [00:11<00:00, 31.93it/s]\n"
          ]
        },
        {
          "output_type": "stream",
          "name": "stdout",
          "text": [
            "GAN Epoch 22/100, D Loss: 1.2883, G Loss: 0.5543\n"
          ]
        },
        {
          "output_type": "stream",
          "name": "stderr",
          "text": [
            "100%|██████████| 375/375 [00:11<00:00, 32.12it/s]\n"
          ]
        },
        {
          "output_type": "stream",
          "name": "stdout",
          "text": [
            "GAN Epoch 23/100, D Loss: 1.0110, G Loss: 0.9028\n"
          ]
        },
        {
          "output_type": "stream",
          "name": "stderr",
          "text": [
            "100%|██████████| 375/375 [00:11<00:00, 31.60it/s]\n"
          ]
        },
        {
          "output_type": "stream",
          "name": "stdout",
          "text": [
            "GAN Epoch 24/100, D Loss: 1.2362, G Loss: 0.5764\n"
          ]
        },
        {
          "output_type": "stream",
          "name": "stderr",
          "text": [
            "100%|██████████| 375/375 [00:12<00:00, 30.71it/s]\n"
          ]
        },
        {
          "output_type": "stream",
          "name": "stdout",
          "text": [
            "GAN Epoch 25/100, D Loss: 1.1502, G Loss: 1.1282\n"
          ]
        },
        {
          "output_type": "stream",
          "name": "stderr",
          "text": [
            "100%|██████████| 375/375 [00:11<00:00, 32.16it/s]\n"
          ]
        },
        {
          "output_type": "stream",
          "name": "stdout",
          "text": [
            "GAN Epoch 26/100, D Loss: 1.2002, G Loss: 0.9123\n"
          ]
        },
        {
          "output_type": "stream",
          "name": "stderr",
          "text": [
            "100%|██████████| 375/375 [00:11<00:00, 32.03it/s]\n"
          ]
        },
        {
          "output_type": "stream",
          "name": "stdout",
          "text": [
            "GAN Epoch 27/100, D Loss: 1.0318, G Loss: 1.3005\n"
          ]
        },
        {
          "output_type": "stream",
          "name": "stderr",
          "text": [
            "100%|██████████| 375/375 [00:11<00:00, 32.33it/s]\n"
          ]
        },
        {
          "output_type": "stream",
          "name": "stdout",
          "text": [
            "GAN Epoch 28/100, D Loss: 1.1642, G Loss: 0.7675\n"
          ]
        },
        {
          "output_type": "stream",
          "name": "stderr",
          "text": [
            "100%|██████████| 375/375 [00:11<00:00, 32.10it/s]\n"
          ]
        },
        {
          "output_type": "stream",
          "name": "stdout",
          "text": [
            "GAN Epoch 29/100, D Loss: 1.1752, G Loss: 0.8582\n"
          ]
        },
        {
          "output_type": "stream",
          "name": "stderr",
          "text": [
            "100%|██████████| 375/375 [00:11<00:00, 32.10it/s]\n"
          ]
        },
        {
          "output_type": "stream",
          "name": "stdout",
          "text": [
            "GAN Epoch 30/100, D Loss: 1.2411, G Loss: 1.1449\n"
          ]
        },
        {
          "output_type": "stream",
          "name": "stderr",
          "text": [
            "100%|██████████| 375/375 [00:11<00:00, 32.09it/s]\n"
          ]
        },
        {
          "output_type": "stream",
          "name": "stdout",
          "text": [
            "GAN Epoch 31/100, D Loss: 1.1900, G Loss: 1.0503\n"
          ]
        },
        {
          "output_type": "stream",
          "name": "stderr",
          "text": [
            "100%|██████████| 375/375 [00:11<00:00, 32.44it/s]\n"
          ]
        },
        {
          "output_type": "stream",
          "name": "stdout",
          "text": [
            "GAN Epoch 32/100, D Loss: 1.1905, G Loss: 0.8506\n"
          ]
        },
        {
          "output_type": "stream",
          "name": "stderr",
          "text": [
            "100%|██████████| 375/375 [00:11<00:00, 32.48it/s]\n"
          ]
        },
        {
          "output_type": "stream",
          "name": "stdout",
          "text": [
            "GAN Epoch 33/100, D Loss: 1.1655, G Loss: 0.8107\n"
          ]
        },
        {
          "output_type": "stream",
          "name": "stderr",
          "text": [
            "100%|██████████| 375/375 [00:11<00:00, 32.21it/s]\n"
          ]
        },
        {
          "output_type": "stream",
          "name": "stdout",
          "text": [
            "GAN Epoch 34/100, D Loss: 1.2903, G Loss: 0.6281\n"
          ]
        },
        {
          "output_type": "stream",
          "name": "stderr",
          "text": [
            "100%|██████████| 375/375 [00:11<00:00, 32.66it/s]\n"
          ]
        },
        {
          "output_type": "stream",
          "name": "stdout",
          "text": [
            "GAN Epoch 35/100, D Loss: 1.2285, G Loss: 0.6947\n"
          ]
        },
        {
          "output_type": "stream",
          "name": "stderr",
          "text": [
            "100%|██████████| 375/375 [00:11<00:00, 32.68it/s]\n"
          ]
        },
        {
          "output_type": "stream",
          "name": "stdout",
          "text": [
            "GAN Epoch 36/100, D Loss: 1.1788, G Loss: 0.9287\n"
          ]
        },
        {
          "output_type": "stream",
          "name": "stderr",
          "text": [
            "100%|██████████| 375/375 [00:11<00:00, 32.27it/s]\n"
          ]
        },
        {
          "output_type": "stream",
          "name": "stdout",
          "text": [
            "GAN Epoch 37/100, D Loss: 1.1458, G Loss: 1.0312\n"
          ]
        },
        {
          "output_type": "stream",
          "name": "stderr",
          "text": [
            "100%|██████████| 375/375 [00:11<00:00, 31.70it/s]\n"
          ]
        },
        {
          "output_type": "stream",
          "name": "stdout",
          "text": [
            "GAN Epoch 38/100, D Loss: 1.1745, G Loss: 0.7681\n"
          ]
        },
        {
          "output_type": "stream",
          "name": "stderr",
          "text": [
            "100%|██████████| 375/375 [00:11<00:00, 31.61it/s]\n"
          ]
        },
        {
          "output_type": "stream",
          "name": "stdout",
          "text": [
            "GAN Epoch 39/100, D Loss: 1.2361, G Loss: 1.1739\n"
          ]
        },
        {
          "output_type": "stream",
          "name": "stderr",
          "text": [
            "100%|██████████| 375/375 [00:11<00:00, 31.48it/s]\n"
          ]
        },
        {
          "output_type": "stream",
          "name": "stdout",
          "text": [
            "GAN Epoch 40/100, D Loss: 1.2066, G Loss: 0.7584\n"
          ]
        },
        {
          "output_type": "stream",
          "name": "stderr",
          "text": [
            "100%|██████████| 375/375 [00:11<00:00, 31.65it/s]\n"
          ]
        },
        {
          "output_type": "stream",
          "name": "stdout",
          "text": [
            "GAN Epoch 41/100, D Loss: 1.2159, G Loss: 0.9838\n"
          ]
        },
        {
          "output_type": "stream",
          "name": "stderr",
          "text": [
            "100%|██████████| 375/375 [00:11<00:00, 31.64it/s]\n"
          ]
        },
        {
          "output_type": "stream",
          "name": "stdout",
          "text": [
            "GAN Epoch 42/100, D Loss: 1.2012, G Loss: 1.1274\n"
          ]
        },
        {
          "output_type": "stream",
          "name": "stderr",
          "text": [
            "100%|██████████| 375/375 [00:12<00:00, 29.61it/s]\n"
          ]
        },
        {
          "output_type": "stream",
          "name": "stdout",
          "text": [
            "GAN Epoch 43/100, D Loss: 1.3356, G Loss: 1.2679\n"
          ]
        },
        {
          "output_type": "stream",
          "name": "stderr",
          "text": [
            "100%|██████████| 375/375 [00:11<00:00, 31.81it/s]\n"
          ]
        },
        {
          "output_type": "stream",
          "name": "stdout",
          "text": [
            "GAN Epoch 44/100, D Loss: 1.1493, G Loss: 0.8666\n"
          ]
        },
        {
          "output_type": "stream",
          "name": "stderr",
          "text": [
            "100%|██████████| 375/375 [00:11<00:00, 31.83it/s]\n"
          ]
        },
        {
          "output_type": "stream",
          "name": "stdout",
          "text": [
            "GAN Epoch 45/100, D Loss: 1.2326, G Loss: 0.7940\n"
          ]
        },
        {
          "output_type": "stream",
          "name": "stderr",
          "text": [
            "100%|██████████| 375/375 [00:11<00:00, 32.14it/s]\n"
          ]
        },
        {
          "output_type": "stream",
          "name": "stdout",
          "text": [
            "GAN Epoch 46/100, D Loss: 1.2458, G Loss: 1.0324\n"
          ]
        },
        {
          "output_type": "stream",
          "name": "stderr",
          "text": [
            "100%|██████████| 375/375 [00:11<00:00, 31.97it/s]\n"
          ]
        },
        {
          "output_type": "stream",
          "name": "stdout",
          "text": [
            "GAN Epoch 47/100, D Loss: 1.1374, G Loss: 0.8068\n"
          ]
        },
        {
          "output_type": "stream",
          "name": "stderr",
          "text": [
            "100%|██████████| 375/375 [00:11<00:00, 31.72it/s]\n"
          ]
        },
        {
          "output_type": "stream",
          "name": "stdout",
          "text": [
            "GAN Epoch 48/100, D Loss: 1.2162, G Loss: 0.7851\n"
          ]
        },
        {
          "output_type": "stream",
          "name": "stderr",
          "text": [
            "100%|██████████| 375/375 [00:11<00:00, 32.01it/s]\n"
          ]
        },
        {
          "output_type": "stream",
          "name": "stdout",
          "text": [
            "GAN Epoch 49/100, D Loss: 1.2486, G Loss: 0.8154\n"
          ]
        },
        {
          "output_type": "stream",
          "name": "stderr",
          "text": [
            "100%|██████████| 375/375 [00:11<00:00, 31.71it/s]\n"
          ]
        },
        {
          "output_type": "stream",
          "name": "stdout",
          "text": [
            "GAN Epoch 50/100, D Loss: 1.2452, G Loss: 1.1441\n"
          ]
        },
        {
          "output_type": "stream",
          "name": "stderr",
          "text": [
            "100%|██████████| 375/375 [00:11<00:00, 31.82it/s]\n"
          ]
        },
        {
          "output_type": "stream",
          "name": "stdout",
          "text": [
            "GAN Epoch 51/100, D Loss: 1.2079, G Loss: 0.8184\n"
          ]
        },
        {
          "output_type": "stream",
          "name": "stderr",
          "text": [
            "100%|██████████| 375/375 [00:11<00:00, 31.74it/s]\n"
          ]
        },
        {
          "output_type": "stream",
          "name": "stdout",
          "text": [
            "GAN Epoch 52/100, D Loss: 1.1708, G Loss: 0.7866\n"
          ]
        },
        {
          "output_type": "stream",
          "name": "stderr",
          "text": [
            "100%|██████████| 375/375 [00:11<00:00, 31.64it/s]\n"
          ]
        },
        {
          "output_type": "stream",
          "name": "stdout",
          "text": [
            "GAN Epoch 53/100, D Loss: 1.2403, G Loss: 1.0428\n"
          ]
        },
        {
          "output_type": "stream",
          "name": "stderr",
          "text": [
            "100%|██████████| 375/375 [00:11<00:00, 31.81it/s]\n"
          ]
        },
        {
          "output_type": "stream",
          "name": "stdout",
          "text": [
            "GAN Epoch 54/100, D Loss: 1.1737, G Loss: 0.6597\n"
          ]
        },
        {
          "output_type": "stream",
          "name": "stderr",
          "text": [
            "100%|██████████| 375/375 [00:11<00:00, 31.67it/s]\n"
          ]
        },
        {
          "output_type": "stream",
          "name": "stdout",
          "text": [
            "GAN Epoch 55/100, D Loss: 1.2129, G Loss: 0.8575\n"
          ]
        },
        {
          "output_type": "stream",
          "name": "stderr",
          "text": [
            "100%|██████████| 375/375 [00:11<00:00, 31.76it/s]\n"
          ]
        },
        {
          "output_type": "stream",
          "name": "stdout",
          "text": [
            "GAN Epoch 56/100, D Loss: 1.3139, G Loss: 0.6130\n"
          ]
        },
        {
          "output_type": "stream",
          "name": "stderr",
          "text": [
            "100%|██████████| 375/375 [00:11<00:00, 32.13it/s]\n"
          ]
        },
        {
          "output_type": "stream",
          "name": "stdout",
          "text": [
            "GAN Epoch 57/100, D Loss: 1.2625, G Loss: 0.8429\n"
          ]
        },
        {
          "output_type": "stream",
          "name": "stderr",
          "text": [
            "100%|██████████| 375/375 [00:11<00:00, 31.89it/s]\n"
          ]
        },
        {
          "output_type": "stream",
          "name": "stdout",
          "text": [
            "GAN Epoch 58/100, D Loss: 1.2147, G Loss: 0.7606\n"
          ]
        },
        {
          "output_type": "stream",
          "name": "stderr",
          "text": [
            "100%|██████████| 375/375 [00:11<00:00, 31.95it/s]\n"
          ]
        },
        {
          "output_type": "stream",
          "name": "stdout",
          "text": [
            "GAN Epoch 59/100, D Loss: 1.1924, G Loss: 0.8734\n"
          ]
        },
        {
          "output_type": "stream",
          "name": "stderr",
          "text": [
            "100%|██████████| 375/375 [00:11<00:00, 31.60it/s]\n"
          ]
        },
        {
          "output_type": "stream",
          "name": "stdout",
          "text": [
            "GAN Epoch 60/100, D Loss: 1.1892, G Loss: 0.9710\n"
          ]
        },
        {
          "output_type": "stream",
          "name": "stderr",
          "text": [
            "100%|██████████| 375/375 [00:12<00:00, 29.89it/s]\n"
          ]
        },
        {
          "output_type": "stream",
          "name": "stdout",
          "text": [
            "GAN Epoch 61/100, D Loss: 1.2122, G Loss: 0.9121\n"
          ]
        },
        {
          "output_type": "stream",
          "name": "stderr",
          "text": [
            "100%|██████████| 375/375 [00:11<00:00, 31.77it/s]\n"
          ]
        },
        {
          "output_type": "stream",
          "name": "stdout",
          "text": [
            "GAN Epoch 62/100, D Loss: 1.2064, G Loss: 0.9782\n"
          ]
        },
        {
          "output_type": "stream",
          "name": "stderr",
          "text": [
            "100%|██████████| 375/375 [00:11<00:00, 31.86it/s]\n"
          ]
        },
        {
          "output_type": "stream",
          "name": "stdout",
          "text": [
            "GAN Epoch 63/100, D Loss: 1.1483, G Loss: 0.8458\n"
          ]
        },
        {
          "output_type": "stream",
          "name": "stderr",
          "text": [
            "100%|██████████| 375/375 [00:11<00:00, 31.95it/s]\n"
          ]
        },
        {
          "output_type": "stream",
          "name": "stdout",
          "text": [
            "GAN Epoch 64/100, D Loss: 1.2529, G Loss: 0.6436\n"
          ]
        },
        {
          "output_type": "stream",
          "name": "stderr",
          "text": [
            "100%|██████████| 375/375 [00:11<00:00, 32.43it/s]\n"
          ]
        },
        {
          "output_type": "stream",
          "name": "stdout",
          "text": [
            "GAN Epoch 65/100, D Loss: 1.1983, G Loss: 1.0000\n"
          ]
        },
        {
          "output_type": "stream",
          "name": "stderr",
          "text": [
            "100%|██████████| 375/375 [00:11<00:00, 32.24it/s]\n"
          ]
        },
        {
          "output_type": "stream",
          "name": "stdout",
          "text": [
            "GAN Epoch 66/100, D Loss: 1.1839, G Loss: 0.9613\n"
          ]
        },
        {
          "output_type": "stream",
          "name": "stderr",
          "text": [
            "100%|██████████| 375/375 [00:11<00:00, 32.61it/s]\n"
          ]
        },
        {
          "output_type": "stream",
          "name": "stdout",
          "text": [
            "GAN Epoch 67/100, D Loss: 1.1962, G Loss: 0.8166\n"
          ]
        },
        {
          "output_type": "stream",
          "name": "stderr",
          "text": [
            "100%|██████████| 375/375 [00:11<00:00, 32.93it/s]\n"
          ]
        },
        {
          "output_type": "stream",
          "name": "stdout",
          "text": [
            "GAN Epoch 68/100, D Loss: 1.2079, G Loss: 0.8087\n"
          ]
        },
        {
          "output_type": "stream",
          "name": "stderr",
          "text": [
            "100%|██████████| 375/375 [00:11<00:00, 31.67it/s]\n"
          ]
        },
        {
          "output_type": "stream",
          "name": "stdout",
          "text": [
            "GAN Epoch 69/100, D Loss: 1.2502, G Loss: 1.1218\n"
          ]
        },
        {
          "output_type": "stream",
          "name": "stderr",
          "text": [
            "100%|██████████| 375/375 [00:11<00:00, 32.05it/s]\n"
          ]
        },
        {
          "output_type": "stream",
          "name": "stdout",
          "text": [
            "GAN Epoch 70/100, D Loss: 1.2668, G Loss: 0.9565\n"
          ]
        },
        {
          "output_type": "stream",
          "name": "stderr",
          "text": [
            "100%|██████████| 375/375 [00:11<00:00, 31.91it/s]\n"
          ]
        },
        {
          "output_type": "stream",
          "name": "stdout",
          "text": [
            "GAN Epoch 71/100, D Loss: 1.2284, G Loss: 0.8096\n"
          ]
        },
        {
          "output_type": "stream",
          "name": "stderr",
          "text": [
            "100%|██████████| 375/375 [00:11<00:00, 32.17it/s]\n"
          ]
        },
        {
          "output_type": "stream",
          "name": "stdout",
          "text": [
            "GAN Epoch 72/100, D Loss: 1.2273, G Loss: 0.9193\n"
          ]
        },
        {
          "output_type": "stream",
          "name": "stderr",
          "text": [
            "100%|██████████| 375/375 [00:11<00:00, 31.81it/s]\n"
          ]
        },
        {
          "output_type": "stream",
          "name": "stdout",
          "text": [
            "GAN Epoch 73/100, D Loss: 1.1885, G Loss: 0.8536\n"
          ]
        },
        {
          "output_type": "stream",
          "name": "stderr",
          "text": [
            "100%|██████████| 375/375 [00:11<00:00, 31.49it/s]\n"
          ]
        },
        {
          "output_type": "stream",
          "name": "stdout",
          "text": [
            "GAN Epoch 74/100, D Loss: 1.0835, G Loss: 1.1254\n"
          ]
        },
        {
          "output_type": "stream",
          "name": "stderr",
          "text": [
            "100%|██████████| 375/375 [00:11<00:00, 31.76it/s]\n"
          ]
        },
        {
          "output_type": "stream",
          "name": "stdout",
          "text": [
            "GAN Epoch 75/100, D Loss: 1.2131, G Loss: 1.1255\n"
          ]
        },
        {
          "output_type": "stream",
          "name": "stderr",
          "text": [
            "100%|██████████| 375/375 [00:11<00:00, 31.66it/s]\n"
          ]
        },
        {
          "output_type": "stream",
          "name": "stdout",
          "text": [
            "GAN Epoch 76/100, D Loss: 1.2626, G Loss: 0.7548\n"
          ]
        },
        {
          "output_type": "stream",
          "name": "stderr",
          "text": [
            "100%|██████████| 375/375 [00:11<00:00, 32.13it/s]\n"
          ]
        },
        {
          "output_type": "stream",
          "name": "stdout",
          "text": [
            "GAN Epoch 77/100, D Loss: 1.2176, G Loss: 1.0722\n"
          ]
        },
        {
          "output_type": "stream",
          "name": "stderr",
          "text": [
            "100%|██████████| 375/375 [00:12<00:00, 30.75it/s]\n"
          ]
        },
        {
          "output_type": "stream",
          "name": "stdout",
          "text": [
            "GAN Epoch 78/100, D Loss: 1.1841, G Loss: 0.7902\n"
          ]
        },
        {
          "output_type": "stream",
          "name": "stderr",
          "text": [
            "100%|██████████| 375/375 [00:13<00:00, 28.45it/s]\n"
          ]
        },
        {
          "output_type": "stream",
          "name": "stdout",
          "text": [
            "GAN Epoch 79/100, D Loss: 1.2665, G Loss: 1.1429\n"
          ]
        },
        {
          "output_type": "stream",
          "name": "stderr",
          "text": [
            "100%|██████████| 375/375 [00:12<00:00, 30.26it/s]\n"
          ]
        },
        {
          "output_type": "stream",
          "name": "stdout",
          "text": [
            "GAN Epoch 80/100, D Loss: 1.1801, G Loss: 1.0254\n"
          ]
        },
        {
          "output_type": "stream",
          "name": "stderr",
          "text": [
            "100%|██████████| 375/375 [00:12<00:00, 30.83it/s]\n"
          ]
        },
        {
          "output_type": "stream",
          "name": "stdout",
          "text": [
            "GAN Epoch 81/100, D Loss: 1.2873, G Loss: 1.0736\n"
          ]
        },
        {
          "output_type": "stream",
          "name": "stderr",
          "text": [
            "100%|██████████| 375/375 [00:12<00:00, 30.02it/s]\n"
          ]
        },
        {
          "output_type": "stream",
          "name": "stdout",
          "text": [
            "GAN Epoch 82/100, D Loss: 1.1767, G Loss: 0.8463\n"
          ]
        },
        {
          "output_type": "stream",
          "name": "stderr",
          "text": [
            "100%|██████████| 375/375 [00:12<00:00, 30.44it/s]\n"
          ]
        },
        {
          "output_type": "stream",
          "name": "stdout",
          "text": [
            "GAN Epoch 83/100, D Loss: 1.2144, G Loss: 1.0200\n"
          ]
        },
        {
          "output_type": "stream",
          "name": "stderr",
          "text": [
            "100%|██████████| 375/375 [00:11<00:00, 31.31it/s]\n"
          ]
        },
        {
          "output_type": "stream",
          "name": "stdout",
          "text": [
            "GAN Epoch 84/100, D Loss: 1.2143, G Loss: 0.8058\n"
          ]
        },
        {
          "output_type": "stream",
          "name": "stderr",
          "text": [
            "100%|██████████| 375/375 [00:11<00:00, 31.90it/s]\n"
          ]
        },
        {
          "output_type": "stream",
          "name": "stdout",
          "text": [
            "GAN Epoch 85/100, D Loss: 1.2538, G Loss: 0.9738\n"
          ]
        },
        {
          "output_type": "stream",
          "name": "stderr",
          "text": [
            "100%|██████████| 375/375 [00:11<00:00, 31.67it/s]\n"
          ]
        },
        {
          "output_type": "stream",
          "name": "stdout",
          "text": [
            "GAN Epoch 86/100, D Loss: 1.1986, G Loss: 0.9137\n"
          ]
        },
        {
          "output_type": "stream",
          "name": "stderr",
          "text": [
            "100%|██████████| 375/375 [00:11<00:00, 31.70it/s]\n"
          ]
        },
        {
          "output_type": "stream",
          "name": "stdout",
          "text": [
            "GAN Epoch 87/100, D Loss: 1.2063, G Loss: 0.7584\n"
          ]
        },
        {
          "output_type": "stream",
          "name": "stderr",
          "text": [
            "100%|██████████| 375/375 [00:11<00:00, 31.48it/s]\n"
          ]
        },
        {
          "output_type": "stream",
          "name": "stdout",
          "text": [
            "GAN Epoch 88/100, D Loss: 1.2463, G Loss: 0.6589\n"
          ]
        },
        {
          "output_type": "stream",
          "name": "stderr",
          "text": [
            "100%|██████████| 375/375 [00:12<00:00, 31.15it/s]\n"
          ]
        },
        {
          "output_type": "stream",
          "name": "stdout",
          "text": [
            "GAN Epoch 89/100, D Loss: 1.2174, G Loss: 0.7908\n"
          ]
        },
        {
          "output_type": "stream",
          "name": "stderr",
          "text": [
            "100%|██████████| 375/375 [00:12<00:00, 31.08it/s]\n"
          ]
        },
        {
          "output_type": "stream",
          "name": "stdout",
          "text": [
            "GAN Epoch 90/100, D Loss: 1.2039, G Loss: 0.8246\n"
          ]
        },
        {
          "output_type": "stream",
          "name": "stderr",
          "text": [
            "100%|██████████| 375/375 [00:11<00:00, 31.44it/s]\n"
          ]
        },
        {
          "output_type": "stream",
          "name": "stdout",
          "text": [
            "GAN Epoch 91/100, D Loss: 1.2581, G Loss: 1.0060\n"
          ]
        },
        {
          "output_type": "stream",
          "name": "stderr",
          "text": [
            "100%|██████████| 375/375 [00:11<00:00, 31.51it/s]\n"
          ]
        },
        {
          "output_type": "stream",
          "name": "stdout",
          "text": [
            "GAN Epoch 92/100, D Loss: 1.2114, G Loss: 0.9776\n"
          ]
        },
        {
          "output_type": "stream",
          "name": "stderr",
          "text": [
            "100%|██████████| 375/375 [00:11<00:00, 31.67it/s]\n"
          ]
        },
        {
          "output_type": "stream",
          "name": "stdout",
          "text": [
            "GAN Epoch 93/100, D Loss: 1.1843, G Loss: 0.9083\n"
          ]
        },
        {
          "output_type": "stream",
          "name": "stderr",
          "text": [
            "100%|██████████| 375/375 [00:12<00:00, 31.13it/s]\n"
          ]
        },
        {
          "output_type": "stream",
          "name": "stdout",
          "text": [
            "GAN Epoch 94/100, D Loss: 1.2490, G Loss: 0.6689\n"
          ]
        },
        {
          "output_type": "stream",
          "name": "stderr",
          "text": [
            "100%|██████████| 375/375 [00:11<00:00, 31.28it/s]\n"
          ]
        },
        {
          "output_type": "stream",
          "name": "stdout",
          "text": [
            "GAN Epoch 95/100, D Loss: 1.2923, G Loss: 1.0689\n"
          ]
        },
        {
          "output_type": "stream",
          "name": "stderr",
          "text": [
            "100%|██████████| 375/375 [00:12<00:00, 29.47it/s]\n"
          ]
        },
        {
          "output_type": "stream",
          "name": "stdout",
          "text": [
            "GAN Epoch 96/100, D Loss: 1.1529, G Loss: 0.7863\n"
          ]
        },
        {
          "output_type": "stream",
          "name": "stderr",
          "text": [
            "100%|██████████| 375/375 [00:11<00:00, 31.81it/s]\n"
          ]
        },
        {
          "output_type": "stream",
          "name": "stdout",
          "text": [
            "GAN Epoch 97/100, D Loss: 1.1646, G Loss: 1.0385\n"
          ]
        },
        {
          "output_type": "stream",
          "name": "stderr",
          "text": [
            "100%|██████████| 375/375 [00:11<00:00, 32.00it/s]\n"
          ]
        },
        {
          "output_type": "stream",
          "name": "stdout",
          "text": [
            "GAN Epoch 98/100, D Loss: 1.2024, G Loss: 0.9425\n"
          ]
        },
        {
          "output_type": "stream",
          "name": "stderr",
          "text": [
            "100%|██████████| 375/375 [00:11<00:00, 31.64it/s]\n"
          ]
        },
        {
          "output_type": "stream",
          "name": "stdout",
          "text": [
            "GAN Epoch 99/100, D Loss: 1.2613, G Loss: 0.8584\n"
          ]
        },
        {
          "output_type": "stream",
          "name": "stderr",
          "text": [
            "100%|██████████| 375/375 [00:11<00:00, 31.54it/s]\n"
          ]
        },
        {
          "output_type": "stream",
          "name": "stdout",
          "text": [
            "GAN Epoch 100/100, D Loss: 1.2969, G Loss: 1.0652\n"
          ]
        },
        {
          "output_type": "display_data",
          "data": {
            "text/plain": [
              "<Figure size 1000x1000 with 1 Axes>"
            ],
            "image/png": "[encoded data removed]"
          },
          "metadata": {}
        }
      ],
      "source": [
        "# GAN 模型 - 升級為 CNN 版本\n",
        "class GeneratorGAN(nn.Module):\n",
        "    def __init__(self):\n",
        "        super(GeneratorGAN, self).__init__()\n",
        "        self.model = nn.Sequential(\n",
        "            nn.Linear(noise_dim, 256 * 7 * 7),\n",
        "            nn.Unflatten(1, (256, 7, 7)),\n",
        "            nn.ConvTranspose2d(256, 128, kernel_size=3, stride=2, padding=1, output_padding=1),\n",
        "            nn.BatchNorm2d(128),\n",
        "            nn.LeakyReLU(0.2),\n",
        "            nn.ConvTranspose2d(128, 64, kernel_size=3, stride=2, padding=1, output_padding=1),\n",
        "            nn.BatchNorm2d(64),\n",
        "            nn.LeakyReLU(0.2),\n",
        "            nn.ConvTranspose2d(64, 1, kernel_size=3, stride=1, padding=1),\n",
        "            nn.Tanh()\n",
        "        )\n",
        "\n",
        "    def forward(self, z):\n",
        "        return self.model(z)\n",
        "\n",
        "class DiscriminatorGAN(nn.Module):\n",
        "    def __init__(self):\n",
        "        super(DiscriminatorGAN, self).__init__()\n",
        "        self.model = nn.Sequential(\n",
        "            nn.Conv2d(1, 64, kernel_size=3, stride=2, padding=1),\n",
        "            nn.LeakyReLU(0.2),\n",
        "            nn.Conv2d(64, 128, kernel_size=3, stride=2, padding=1),\n",
        "            nn.LeakyReLU(0.2),\n",
        "            nn.Flatten(),\n",
        "            nn.Linear(128 * 7 * 7, 1),\n",
        "            nn.Sigmoid()\n",
        "        )\n",
        "\n",
        "    def forward(self, x):\n",
        "        return self.model(x)\n",
        "\n",
        "# 初始化\n",
        "generator_gan = GeneratorGAN().to(device)\n",
        "discriminator_gan = DiscriminatorGAN().to(device)\n",
        "optimizer_g = optim.Adam(generator_gan.parameters(), lr=lr_gan, betas=(beta1, 0.999))\n",
        "optimizer_d = optim.Adam(discriminator_gan.parameters(), lr=lr_gan, betas=(beta1, 0.999))\n",
        "criterion = nn.BCELoss()\n",
        "\n",
        "print(\"訓練 GAN...\")\n",
        "for epoch in range(epochs_gan):\n",
        "    for i, (images, _) in enumerate(tqdm(train_loader)):\n",
        "        images = images.to(device)\n",
        "        real = torch.ones(images.size(0), 1).to(device)\n",
        "        fake = torch.zeros(images.size(0), 1).to(device)\n",
        "\n",
        "        # 訓練判別器\n",
        "        optimizer_d.zero_grad()\n",
        "        output_real = discriminator_gan(images)\n",
        "        loss_real = criterion(output_real, real)\n",
        "        z = torch.randn(images.size(0), noise_dim).to(device)\n",
        "        fake_images = generator_gan(z)\n",
        "        output_fake = discriminator_gan(fake_images.detach())\n",
        "        loss_fake = criterion(output_fake, fake)\n",
        "        loss_d = loss_real + loss_fake\n",
        "        loss_d.backward()\n",
        "        optimizer_d.step()\n",
        "\n",
        "        # 訓練生成器\n",
        "        optimizer_g.zero_grad()\n",
        "        output_fake = discriminator_gan(fake_images)\n",
        "        loss_g = criterion(output_fake, real)\n",
        "        loss_g.backward()\n",
        "        optimizer_g.step()\n",
        "\n",
        "    print(f\"GAN Epoch {epoch+1}/{epochs_gan}, D Loss: {loss_d.item():.4f}, G Loss: {loss_g.item():.4f}\")\n",
        "\n",
        "# 生成 GAN 影像\n",
        "with torch.no_grad():\n",
        "    z = torch.randn(10, noise_dim).to(device)\n",
        "    gan_samples = generator_gan(z)\n",
        "show_images(gan_samples, \"GAN 生成的影像\", nrow=5)"
      ]
    },
    {
      "cell_type": "markdown",
      "metadata": {
        "id": "RtNSyMG_u5mY"
      },
      "source": [
        "# cGAN"
      ]
    },
    {
      "cell_type": "code",
      "execution_count": null,
      "metadata": {
        "colab": {
          "base_uri": "https://localhost:8080/",
          "height": 1000
        },
        "id": "NNU8VdAju3vo",
        "outputId": "8beed875-7221-454e-aaef-0b57cfe16328"
      },
      "outputs": [
        {
          "output_type": "stream",
          "name": "stdout",
          "text": [
            "訓練 cGAN...\n"
          ]
        },
        {
          "output_type": "stream",
          "name": "stderr",
          "text": [
            "100%|██████████| 375/375 [00:12<00:00, 31.20it/s]\n"
          ]
        },
        {
          "output_type": "stream",
          "name": "stdout",
          "text": [
            "cGAN Epoch 1/100, D Loss: 1.3589, G Loss: 0.7989\n"
          ]
        },
        {
          "output_type": "stream",
          "name": "stderr",
          "text": [
            "100%|██████████| 375/375 [00:11<00:00, 31.30it/s]\n"
          ]
        },
        {
          "output_type": "stream",
          "name": "stdout",
          "text": [
            "cGAN Epoch 2/100, D Loss: 1.3874, G Loss: 0.8363\n"
          ]
        },
        {
          "output_type": "stream",
          "name": "stderr",
          "text": [
            "100%|██████████| 375/375 [00:11<00:00, 31.31it/s]\n"
          ]
        },
        {
          "output_type": "stream",
          "name": "stdout",
          "text": [
            "cGAN Epoch 3/100, D Loss: 1.3401, G Loss: 0.8294\n"
          ]
        },
        {
          "output_type": "stream",
          "name": "stderr",
          "text": [
            "100%|██████████| 375/375 [00:12<00:00, 30.86it/s]\n"
          ]
        },
        {
          "output_type": "stream",
          "name": "stdout",
          "text": [
            "cGAN Epoch 4/100, D Loss: 1.3086, G Loss: 0.9076\n"
          ]
        },
        {
          "output_type": "stream",
          "name": "stderr",
          "text": [
            "100%|██████████| 375/375 [00:11<00:00, 31.46it/s]\n"
          ]
        },
        {
          "output_type": "stream",
          "name": "stdout",
          "text": [
            "cGAN Epoch 5/100, D Loss: 1.2102, G Loss: 0.9226\n"
          ]
        },
        {
          "output_type": "stream",
          "name": "stderr",
          "text": [
            "100%|██████████| 375/375 [00:12<00:00, 31.22it/s]\n"
          ]
        },
        {
          "output_type": "stream",
          "name": "stdout",
          "text": [
            "cGAN Epoch 6/100, D Loss: 1.3365, G Loss: 0.8209\n"
          ]
        },
        {
          "output_type": "stream",
          "name": "stderr",
          "text": [
            "100%|██████████| 375/375 [00:12<00:00, 31.18it/s]\n"
          ]
        },
        {
          "output_type": "stream",
          "name": "stdout",
          "text": [
            "cGAN Epoch 7/100, D Loss: 1.3010, G Loss: 0.8540\n"
          ]
        },
        {
          "output_type": "stream",
          "name": "stderr",
          "text": [
            "100%|██████████| 375/375 [00:11<00:00, 31.26it/s]\n"
          ]
        },
        {
          "output_type": "stream",
          "name": "stdout",
          "text": [
            "cGAN Epoch 8/100, D Loss: 1.2670, G Loss: 0.8740\n"
          ]
        },
        {
          "output_type": "stream",
          "name": "stderr",
          "text": [
            "100%|██████████| 375/375 [00:12<00:00, 31.00it/s]\n"
          ]
        },
        {
          "output_type": "stream",
          "name": "stdout",
          "text": [
            "cGAN Epoch 9/100, D Loss: 1.3069, G Loss: 0.8452\n"
          ]
        },
        {
          "output_type": "stream",
          "name": "stderr",
          "text": [
            "100%|██████████| 375/375 [00:11<00:00, 31.31it/s]\n"
          ]
        },
        {
          "output_type": "stream",
          "name": "stdout",
          "text": [
            "cGAN Epoch 10/100, D Loss: 1.2407, G Loss: 1.1528\n"
          ]
        },
        {
          "output_type": "stream",
          "name": "stderr",
          "text": [
            "100%|██████████| 375/375 [00:11<00:00, 31.40it/s]\n"
          ]
        },
        {
          "output_type": "stream",
          "name": "stdout",
          "text": [
            "cGAN Epoch 11/100, D Loss: 1.2214, G Loss: 0.9148\n"
          ]
        },
        {
          "output_type": "stream",
          "name": "stderr",
          "text": [
            "100%|██████████| 375/375 [00:12<00:00, 31.09it/s]\n"
          ]
        },
        {
          "output_type": "stream",
          "name": "stdout",
          "text": [
            "cGAN Epoch 12/100, D Loss: 1.4150, G Loss: 0.7334\n"
          ]
        },
        {
          "output_type": "stream",
          "name": "stderr",
          "text": [
            "100%|██████████| 375/375 [00:12<00:00, 31.19it/s]\n"
          ]
        },
        {
          "output_type": "stream",
          "name": "stdout",
          "text": [
            "cGAN Epoch 13/100, D Loss: 1.2326, G Loss: 0.9605\n"
          ]
        },
        {
          "output_type": "stream",
          "name": "stderr",
          "text": [
            "100%|██████████| 375/375 [00:12<00:00, 29.54it/s]\n"
          ]
        },
        {
          "output_type": "stream",
          "name": "stdout",
          "text": [
            "cGAN Epoch 14/100, D Loss: 1.2596, G Loss: 0.9347\n"
          ]
        },
        {
          "output_type": "stream",
          "name": "stderr",
          "text": [
            "100%|██████████| 375/375 [00:11<00:00, 31.35it/s]\n"
          ]
        },
        {
          "output_type": "stream",
          "name": "stdout",
          "text": [
            "cGAN Epoch 15/100, D Loss: 1.1532, G Loss: 1.2087\n"
          ]
        },
        {
          "output_type": "stream",
          "name": "stderr",
          "text": [
            "100%|██████████| 375/375 [00:12<00:00, 30.97it/s]\n"
          ]
        },
        {
          "output_type": "stream",
          "name": "stdout",
          "text": [
            "cGAN Epoch 16/100, D Loss: 1.3090, G Loss: 0.9404\n"
          ]
        },
        {
          "output_type": "stream",
          "name": "stderr",
          "text": [
            "100%|██████████| 375/375 [00:12<00:00, 31.18it/s]\n"
          ]
        },
        {
          "output_type": "stream",
          "name": "stdout",
          "text": [
            "cGAN Epoch 17/100, D Loss: 1.3434, G Loss: 0.9339\n"
          ]
        },
        {
          "output_type": "stream",
          "name": "stderr",
          "text": [
            "100%|██████████| 375/375 [00:12<00:00, 31.16it/s]\n"
          ]
        },
        {
          "output_type": "stream",
          "name": "stdout",
          "text": [
            "cGAN Epoch 18/100, D Loss: 1.4179, G Loss: 1.0363\n"
          ]
        },
        {
          "output_type": "stream",
          "name": "stderr",
          "text": [
            "100%|██████████| 375/375 [00:12<00:00, 30.99it/s]\n"
          ]
        },
        {
          "output_type": "stream",
          "name": "stdout",
          "text": [
            "cGAN Epoch 19/100, D Loss: 1.1347, G Loss: 1.3171\n"
          ]
        },
        {
          "output_type": "stream",
          "name": "stderr",
          "text": [
            "100%|██████████| 375/375 [00:12<00:00, 31.24it/s]\n"
          ]
        },
        {
          "output_type": "stream",
          "name": "stdout",
          "text": [
            "cGAN Epoch 20/100, D Loss: 1.1371, G Loss: 1.0631\n"
          ]
        },
        {
          "output_type": "stream",
          "name": "stderr",
          "text": [
            "100%|██████████| 375/375 [00:12<00:00, 31.08it/s]\n"
          ]
        },
        {
          "output_type": "stream",
          "name": "stdout",
          "text": [
            "cGAN Epoch 21/100, D Loss: 1.2639, G Loss: 1.0908\n"
          ]
        },
        {
          "output_type": "stream",
          "name": "stderr",
          "text": [
            "100%|██████████| 375/375 [00:12<00:00, 31.21it/s]\n"
          ]
        },
        {
          "output_type": "stream",
          "name": "stdout",
          "text": [
            "cGAN Epoch 22/100, D Loss: 1.2182, G Loss: 1.0406\n"
          ]
        },
        {
          "output_type": "stream",
          "name": "stderr",
          "text": [
            "100%|██████████| 375/375 [00:11<00:00, 31.48it/s]\n"
          ]
        },
        {
          "output_type": "stream",
          "name": "stdout",
          "text": [
            "cGAN Epoch 23/100, D Loss: 1.3448, G Loss: 0.9137\n"
          ]
        },
        {
          "output_type": "stream",
          "name": "stderr",
          "text": [
            "100%|██████████| 375/375 [00:12<00:00, 30.82it/s]\n"
          ]
        },
        {
          "output_type": "stream",
          "name": "stdout",
          "text": [
            "cGAN Epoch 24/100, D Loss: 1.1067, G Loss: 1.2733\n"
          ]
        },
        {
          "output_type": "stream",
          "name": "stderr",
          "text": [
            "100%|██████████| 375/375 [00:12<00:00, 30.95it/s]\n"
          ]
        },
        {
          "output_type": "stream",
          "name": "stdout",
          "text": [
            "cGAN Epoch 25/100, D Loss: 1.1895, G Loss: 0.9020\n"
          ]
        },
        {
          "output_type": "stream",
          "name": "stderr",
          "text": [
            "100%|██████████| 375/375 [00:12<00:00, 31.06it/s]\n"
          ]
        },
        {
          "output_type": "stream",
          "name": "stdout",
          "text": [
            "cGAN Epoch 26/100, D Loss: 1.2711, G Loss: 0.9649\n"
          ]
        },
        {
          "output_type": "stream",
          "name": "stderr",
          "text": [
            "100%|██████████| 375/375 [00:12<00:00, 31.00it/s]\n"
          ]
        },
        {
          "output_type": "stream",
          "name": "stdout",
          "text": [
            "cGAN Epoch 27/100, D Loss: 1.4395, G Loss: 1.0741\n"
          ]
        },
        {
          "output_type": "stream",
          "name": "stderr",
          "text": [
            "100%|██████████| 375/375 [00:11<00:00, 31.44it/s]\n"
          ]
        },
        {
          "output_type": "stream",
          "name": "stdout",
          "text": [
            "cGAN Epoch 28/100, D Loss: 1.3491, G Loss: 0.9285\n"
          ]
        },
        {
          "output_type": "stream",
          "name": "stderr",
          "text": [
            "100%|██████████| 375/375 [00:11<00:00, 31.25it/s]\n"
          ]
        },
        {
          "output_type": "stream",
          "name": "stdout",
          "text": [
            "cGAN Epoch 29/100, D Loss: 1.2715, G Loss: 0.8893\n"
          ]
        },
        {
          "output_type": "stream",
          "name": "stderr",
          "text": [
            "100%|██████████| 375/375 [00:12<00:00, 30.94it/s]\n"
          ]
        },
        {
          "output_type": "stream",
          "name": "stdout",
          "text": [
            "cGAN Epoch 30/100, D Loss: 1.1772, G Loss: 1.1477\n"
          ]
        },
        {
          "output_type": "stream",
          "name": "stderr",
          "text": [
            "100%|██████████| 375/375 [00:12<00:00, 30.75it/s]\n"
          ]
        },
        {
          "output_type": "stream",
          "name": "stdout",
          "text": [
            "cGAN Epoch 31/100, D Loss: 1.1226, G Loss: 1.2229\n"
          ]
        },
        {
          "output_type": "stream",
          "name": "stderr",
          "text": [
            "100%|██████████| 375/375 [00:12<00:00, 29.40it/s]\n"
          ]
        },
        {
          "output_type": "stream",
          "name": "stdout",
          "text": [
            "cGAN Epoch 32/100, D Loss: 1.0702, G Loss: 1.1602\n"
          ]
        },
        {
          "output_type": "stream",
          "name": "stderr",
          "text": [
            "100%|██████████| 375/375 [00:11<00:00, 31.31it/s]\n"
          ]
        },
        {
          "output_type": "stream",
          "name": "stdout",
          "text": [
            "cGAN Epoch 33/100, D Loss: 1.2511, G Loss: 0.8870\n"
          ]
        },
        {
          "output_type": "stream",
          "name": "stderr",
          "text": [
            "100%|██████████| 375/375 [00:12<00:00, 30.87it/s]\n"
          ]
        },
        {
          "output_type": "stream",
          "name": "stdout",
          "text": [
            "cGAN Epoch 34/100, D Loss: 0.9684, G Loss: 1.1122\n"
          ]
        },
        {
          "output_type": "stream",
          "name": "stderr",
          "text": [
            "100%|██████████| 375/375 [00:12<00:00, 31.09it/s]\n"
          ]
        },
        {
          "output_type": "stream",
          "name": "stdout",
          "text": [
            "cGAN Epoch 35/100, D Loss: 1.1851, G Loss: 0.9603\n"
          ]
        },
        {
          "output_type": "stream",
          "name": "stderr",
          "text": [
            "100%|██████████| 375/375 [00:11<00:00, 31.38it/s]\n"
          ]
        },
        {
          "output_type": "stream",
          "name": "stdout",
          "text": [
            "cGAN Epoch 36/100, D Loss: 0.9990, G Loss: 1.1211\n"
          ]
        },
        {
          "output_type": "stream",
          "name": "stderr",
          "text": [
            "100%|██████████| 375/375 [00:11<00:00, 31.26it/s]\n"
          ]
        },
        {
          "output_type": "stream",
          "name": "stdout",
          "text": [
            "cGAN Epoch 37/100, D Loss: 1.1545, G Loss: 0.9126\n"
          ]
        },
        {
          "output_type": "stream",
          "name": "stderr",
          "text": [
            "100%|██████████| 375/375 [00:11<00:00, 31.57it/s]\n"
          ]
        },
        {
          "output_type": "stream",
          "name": "stdout",
          "text": [
            "cGAN Epoch 38/100, D Loss: 0.9662, G Loss: 1.3294\n"
          ]
        },
        {
          "output_type": "stream",
          "name": "stderr",
          "text": [
            "100%|██████████| 375/375 [00:11<00:00, 31.34it/s]\n"
          ]
        },
        {
          "output_type": "stream",
          "name": "stdout",
          "text": [
            "cGAN Epoch 39/100, D Loss: 1.1833, G Loss: 1.3852\n"
          ]
        },
        {
          "output_type": "stream",
          "name": "stderr",
          "text": [
            "100%|██████████| 375/375 [00:12<00:00, 31.08it/s]\n"
          ]
        },
        {
          "output_type": "stream",
          "name": "stdout",
          "text": [
            "cGAN Epoch 40/100, D Loss: 1.2051, G Loss: 0.8741\n"
          ]
        },
        {
          "output_type": "stream",
          "name": "stderr",
          "text": [
            "100%|██████████| 375/375 [00:12<00:00, 30.90it/s]\n"
          ]
        },
        {
          "output_type": "stream",
          "name": "stdout",
          "text": [
            "cGAN Epoch 41/100, D Loss: 1.1892, G Loss: 1.0282\n"
          ]
        },
        {
          "output_type": "stream",
          "name": "stderr",
          "text": [
            "100%|██████████| 375/375 [00:12<00:00, 30.97it/s]\n"
          ]
        },
        {
          "output_type": "stream",
          "name": "stdout",
          "text": [
            "cGAN Epoch 42/100, D Loss: 1.0979, G Loss: 1.1286\n"
          ]
        },
        {
          "output_type": "stream",
          "name": "stderr",
          "text": [
            "100%|██████████| 375/375 [00:12<00:00, 30.83it/s]\n"
          ]
        },
        {
          "output_type": "stream",
          "name": "stdout",
          "text": [
            "cGAN Epoch 43/100, D Loss: 1.0701, G Loss: 1.1561\n"
          ]
        },
        {
          "output_type": "stream",
          "name": "stderr",
          "text": [
            "100%|██████████| 375/375 [00:12<00:00, 31.07it/s]\n"
          ]
        },
        {
          "output_type": "stream",
          "name": "stdout",
          "text": [
            "cGAN Epoch 44/100, D Loss: 1.2591, G Loss: 1.4302\n"
          ]
        },
        {
          "output_type": "stream",
          "name": "stderr",
          "text": [
            "100%|██████████| 375/375 [00:12<00:00, 30.93it/s]\n"
          ]
        },
        {
          "output_type": "stream",
          "name": "stdout",
          "text": [
            "cGAN Epoch 45/100, D Loss: 0.9557, G Loss: 1.3453\n"
          ]
        },
        {
          "output_type": "stream",
          "name": "stderr",
          "text": [
            "100%|██████████| 375/375 [00:12<00:00, 31.12it/s]\n"
          ]
        },
        {
          "output_type": "stream",
          "name": "stdout",
          "text": [
            "cGAN Epoch 46/100, D Loss: 1.3079, G Loss: 0.8239\n"
          ]
        },
        {
          "output_type": "stream",
          "name": "stderr",
          "text": [
            "100%|██████████| 375/375 [00:12<00:00, 31.15it/s]\n"
          ]
        },
        {
          "output_type": "stream",
          "name": "stdout",
          "text": [
            "cGAN Epoch 47/100, D Loss: 1.1284, G Loss: 1.0545\n"
          ]
        },
        {
          "output_type": "stream",
          "name": "stderr",
          "text": [
            "100%|██████████| 375/375 [00:12<00:00, 31.18it/s]\n"
          ]
        },
        {
          "output_type": "stream",
          "name": "stdout",
          "text": [
            "cGAN Epoch 48/100, D Loss: 1.2328, G Loss: 1.2143\n"
          ]
        },
        {
          "output_type": "stream",
          "name": "stderr",
          "text": [
            "100%|██████████| 375/375 [00:12<00:00, 29.48it/s]\n"
          ]
        },
        {
          "output_type": "stream",
          "name": "stdout",
          "text": [
            "cGAN Epoch 49/100, D Loss: 1.1003, G Loss: 1.2080\n"
          ]
        },
        {
          "output_type": "stream",
          "name": "stderr",
          "text": [
            "100%|██████████| 375/375 [00:12<00:00, 31.08it/s]\n"
          ]
        },
        {
          "output_type": "stream",
          "name": "stdout",
          "text": [
            "cGAN Epoch 50/100, D Loss: 1.1088, G Loss: 0.9924\n"
          ]
        },
        {
          "output_type": "stream",
          "name": "stderr",
          "text": [
            "100%|██████████| 375/375 [00:12<00:00, 30.85it/s]\n"
          ]
        },
        {
          "output_type": "stream",
          "name": "stdout",
          "text": [
            "cGAN Epoch 51/100, D Loss: 1.1097, G Loss: 1.0973\n"
          ]
        },
        {
          "output_type": "stream",
          "name": "stderr",
          "text": [
            "100%|██████████| 375/375 [00:12<00:00, 31.24it/s]\n"
          ]
        },
        {
          "output_type": "stream",
          "name": "stdout",
          "text": [
            "cGAN Epoch 52/100, D Loss: 1.1821, G Loss: 1.0822\n"
          ]
        },
        {
          "output_type": "stream",
          "name": "stderr",
          "text": [
            "100%|██████████| 375/375 [00:12<00:00, 31.16it/s]\n"
          ]
        },
        {
          "output_type": "stream",
          "name": "stdout",
          "text": [
            "cGAN Epoch 53/100, D Loss: 0.9868, G Loss: 1.1648\n"
          ]
        },
        {
          "output_type": "stream",
          "name": "stderr",
          "text": [
            "100%|██████████| 375/375 [00:12<00:00, 31.06it/s]\n"
          ]
        },
        {
          "output_type": "stream",
          "name": "stdout",
          "text": [
            "cGAN Epoch 54/100, D Loss: 1.1731, G Loss: 1.4456\n"
          ]
        },
        {
          "output_type": "stream",
          "name": "stderr",
          "text": [
            "100%|██████████| 375/375 [00:12<00:00, 31.11it/s]\n"
          ]
        },
        {
          "output_type": "stream",
          "name": "stdout",
          "text": [
            "cGAN Epoch 55/100, D Loss: 0.9644, G Loss: 1.2417\n"
          ]
        },
        {
          "output_type": "stream",
          "name": "stderr",
          "text": [
            "100%|██████████| 375/375 [00:12<00:00, 30.94it/s]\n"
          ]
        },
        {
          "output_type": "stream",
          "name": "stdout",
          "text": [
            "cGAN Epoch 56/100, D Loss: 1.0480, G Loss: 1.2306\n"
          ]
        },
        {
          "output_type": "stream",
          "name": "stderr",
          "text": [
            "100%|██████████| 375/375 [00:12<00:00, 30.70it/s]\n"
          ]
        },
        {
          "output_type": "stream",
          "name": "stdout",
          "text": [
            "cGAN Epoch 57/100, D Loss: 1.1213, G Loss: 1.1355\n"
          ]
        },
        {
          "output_type": "stream",
          "name": "stderr",
          "text": [
            "100%|██████████| 375/375 [00:12<00:00, 30.61it/s]\n"
          ]
        },
        {
          "output_type": "stream",
          "name": "stdout",
          "text": [
            "cGAN Epoch 58/100, D Loss: 0.9792, G Loss: 1.1805\n"
          ]
        },
        {
          "output_type": "stream",
          "name": "stderr",
          "text": [
            "100%|██████████| 375/375 [00:12<00:00, 31.07it/s]\n"
          ]
        },
        {
          "output_type": "stream",
          "name": "stdout",
          "text": [
            "cGAN Epoch 59/100, D Loss: 1.3394, G Loss: 1.4336\n"
          ]
        },
        {
          "output_type": "stream",
          "name": "stderr",
          "text": [
            "100%|██████████| 375/375 [00:12<00:00, 30.90it/s]\n"
          ]
        },
        {
          "output_type": "stream",
          "name": "stdout",
          "text": [
            "cGAN Epoch 60/100, D Loss: 1.2141, G Loss: 1.1539\n"
          ]
        },
        {
          "output_type": "stream",
          "name": "stderr",
          "text": [
            "100%|██████████| 375/375 [00:12<00:00, 30.93it/s]\n"
          ]
        },
        {
          "output_type": "stream",
          "name": "stdout",
          "text": [
            "cGAN Epoch 61/100, D Loss: 1.2872, G Loss: 0.9125\n"
          ]
        },
        {
          "output_type": "stream",
          "name": "stderr",
          "text": [
            "100%|██████████| 375/375 [00:12<00:00, 30.74it/s]\n"
          ]
        },
        {
          "output_type": "stream",
          "name": "stdout",
          "text": [
            "cGAN Epoch 62/100, D Loss: 1.0566, G Loss: 1.0922\n"
          ]
        },
        {
          "output_type": "stream",
          "name": "stderr",
          "text": [
            "100%|██████████| 375/375 [00:12<00:00, 30.70it/s]\n"
          ]
        },
        {
          "output_type": "stream",
          "name": "stdout",
          "text": [
            "cGAN Epoch 63/100, D Loss: 0.8969, G Loss: 1.3361\n"
          ]
        },
        {
          "output_type": "stream",
          "name": "stderr",
          "text": [
            "100%|██████████| 375/375 [00:12<00:00, 30.90it/s]\n"
          ]
        },
        {
          "output_type": "stream",
          "name": "stdout",
          "text": [
            "cGAN Epoch 64/100, D Loss: 0.9242, G Loss: 1.6126\n"
          ]
        },
        {
          "output_type": "stream",
          "name": "stderr",
          "text": [
            "100%|██████████| 375/375 [00:12<00:00, 31.07it/s]\n"
          ]
        },
        {
          "output_type": "stream",
          "name": "stdout",
          "text": [
            "cGAN Epoch 65/100, D Loss: 1.0078, G Loss: 1.1122\n"
          ]
        },
        {
          "output_type": "stream",
          "name": "stderr",
          "text": [
            "100%|██████████| 375/375 [00:11<00:00, 31.32it/s]\n"
          ]
        },
        {
          "output_type": "stream",
          "name": "stdout",
          "text": [
            "cGAN Epoch 66/100, D Loss: 1.1122, G Loss: 1.1157\n"
          ]
        },
        {
          "output_type": "stream",
          "name": "stderr",
          "text": [
            "100%|██████████| 375/375 [00:12<00:00, 28.89it/s]\n"
          ]
        },
        {
          "output_type": "stream",
          "name": "stdout",
          "text": [
            "cGAN Epoch 67/100, D Loss: 0.8115, G Loss: 1.6457\n"
          ]
        },
        {
          "output_type": "stream",
          "name": "stderr",
          "text": [
            "100%|██████████| 375/375 [00:12<00:00, 30.53it/s]\n"
          ]
        },
        {
          "output_type": "stream",
          "name": "stdout",
          "text": [
            "cGAN Epoch 68/100, D Loss: 0.9043, G Loss: 1.5096\n"
          ]
        },
        {
          "output_type": "stream",
          "name": "stderr",
          "text": [
            "100%|██████████| 375/375 [00:12<00:00, 30.78it/s]\n"
          ]
        },
        {
          "output_type": "stream",
          "name": "stdout",
          "text": [
            "cGAN Epoch 69/100, D Loss: 1.0029, G Loss: 1.1594\n"
          ]
        },
        {
          "output_type": "stream",
          "name": "stderr",
          "text": [
            "100%|██████████| 375/375 [00:12<00:00, 30.69it/s]\n"
          ]
        },
        {
          "output_type": "stream",
          "name": "stdout",
          "text": [
            "cGAN Epoch 70/100, D Loss: 1.2078, G Loss: 1.2674\n"
          ]
        },
        {
          "output_type": "stream",
          "name": "stderr",
          "text": [
            "100%|██████████| 375/375 [00:12<00:00, 30.85it/s]\n"
          ]
        },
        {
          "output_type": "stream",
          "name": "stdout",
          "text": [
            "cGAN Epoch 71/100, D Loss: 0.9421, G Loss: 1.3402\n"
          ]
        },
        {
          "output_type": "stream",
          "name": "stderr",
          "text": [
            "100%|██████████| 375/375 [00:12<00:00, 30.77it/s]\n"
          ]
        },
        {
          "output_type": "stream",
          "name": "stdout",
          "text": [
            "cGAN Epoch 72/100, D Loss: 0.9350, G Loss: 1.5480\n"
          ]
        },
        {
          "output_type": "stream",
          "name": "stderr",
          "text": [
            "100%|██████████| 375/375 [00:12<00:00, 30.39it/s]\n"
          ]
        },
        {
          "output_type": "stream",
          "name": "stdout",
          "text": [
            "cGAN Epoch 73/100, D Loss: 0.9555, G Loss: 1.6667\n"
          ]
        },
        {
          "output_type": "stream",
          "name": "stderr",
          "text": [
            "100%|██████████| 375/375 [00:12<00:00, 30.61it/s]\n"
          ]
        },
        {
          "output_type": "stream",
          "name": "stdout",
          "text": [
            "cGAN Epoch 74/100, D Loss: 1.1504, G Loss: 0.9782\n"
          ]
        },
        {
          "output_type": "stream",
          "name": "stderr",
          "text": [
            "100%|██████████| 375/375 [00:12<00:00, 30.52it/s]\n"
          ]
        },
        {
          "output_type": "stream",
          "name": "stdout",
          "text": [
            "cGAN Epoch 75/100, D Loss: 1.0616, G Loss: 1.4583\n"
          ]
        },
        {
          "output_type": "stream",
          "name": "stderr",
          "text": [
            "100%|██████████| 375/375 [00:12<00:00, 30.55it/s]\n"
          ]
        },
        {
          "output_type": "stream",
          "name": "stdout",
          "text": [
            "cGAN Epoch 76/100, D Loss: 1.0713, G Loss: 1.3123\n"
          ]
        },
        {
          "output_type": "stream",
          "name": "stderr",
          "text": [
            "100%|██████████| 375/375 [00:12<00:00, 30.39it/s]\n"
          ]
        },
        {
          "output_type": "stream",
          "name": "stdout",
          "text": [
            "cGAN Epoch 77/100, D Loss: 0.9696, G Loss: 1.3652\n"
          ]
        },
        {
          "output_type": "stream",
          "name": "stderr",
          "text": [
            "100%|██████████| 375/375 [00:12<00:00, 30.32it/s]\n"
          ]
        },
        {
          "output_type": "stream",
          "name": "stdout",
          "text": [
            "cGAN Epoch 78/100, D Loss: 1.0195, G Loss: 1.4248\n"
          ]
        },
        {
          "output_type": "stream",
          "name": "stderr",
          "text": [
            "100%|██████████| 375/375 [00:12<00:00, 30.51it/s]\n"
          ]
        },
        {
          "output_type": "stream",
          "name": "stdout",
          "text": [
            "cGAN Epoch 79/100, D Loss: 0.8703, G Loss: 1.3322\n"
          ]
        },
        {
          "output_type": "stream",
          "name": "stderr",
          "text": [
            "100%|██████████| 375/375 [00:12<00:00, 30.48it/s]\n"
          ]
        },
        {
          "output_type": "stream",
          "name": "stdout",
          "text": [
            "cGAN Epoch 80/100, D Loss: 1.2871, G Loss: 1.5278\n"
          ]
        },
        {
          "output_type": "stream",
          "name": "stderr",
          "text": [
            "100%|██████████| 375/375 [00:12<00:00, 30.68it/s]\n"
          ]
        },
        {
          "output_type": "stream",
          "name": "stdout",
          "text": [
            "cGAN Epoch 81/100, D Loss: 1.0473, G Loss: 1.3496\n"
          ]
        },
        {
          "output_type": "stream",
          "name": "stderr",
          "text": [
            "100%|██████████| 375/375 [00:12<00:00, 30.55it/s]\n"
          ]
        },
        {
          "output_type": "stream",
          "name": "stdout",
          "text": [
            "cGAN Epoch 82/100, D Loss: 0.9596, G Loss: 1.7408\n"
          ]
        },
        {
          "output_type": "stream",
          "name": "stderr",
          "text": [
            "100%|██████████| 375/375 [00:12<00:00, 30.33it/s]\n"
          ]
        },
        {
          "output_type": "stream",
          "name": "stdout",
          "text": [
            "cGAN Epoch 83/100, D Loss: 1.0591, G Loss: 1.3932\n"
          ]
        },
        {
          "output_type": "stream",
          "name": "stderr",
          "text": [
            "100%|██████████| 375/375 [00:12<00:00, 30.80it/s]\n"
          ]
        },
        {
          "output_type": "stream",
          "name": "stdout",
          "text": [
            "cGAN Epoch 84/100, D Loss: 1.0832, G Loss: 1.2136\n"
          ]
        },
        {
          "output_type": "stream",
          "name": "stderr",
          "text": [
            "100%|██████████| 375/375 [00:13<00:00, 28.74it/s]\n"
          ]
        },
        {
          "output_type": "stream",
          "name": "stdout",
          "text": [
            "cGAN Epoch 85/100, D Loss: 0.9633, G Loss: 1.4443\n"
          ]
        },
        {
          "output_type": "stream",
          "name": "stderr",
          "text": [
            "100%|██████████| 375/375 [00:12<00:00, 30.68it/s]\n"
          ]
        },
        {
          "output_type": "stream",
          "name": "stdout",
          "text": [
            "cGAN Epoch 86/100, D Loss: 1.0497, G Loss: 1.0479\n"
          ]
        },
        {
          "output_type": "stream",
          "name": "stderr",
          "text": [
            "100%|██████████| 375/375 [00:12<00:00, 30.78it/s]\n"
          ]
        },
        {
          "output_type": "stream",
          "name": "stdout",
          "text": [
            "cGAN Epoch 87/100, D Loss: 1.4043, G Loss: 0.8750\n"
          ]
        },
        {
          "output_type": "stream",
          "name": "stderr",
          "text": [
            "100%|██████████| 375/375 [00:12<00:00, 30.31it/s]\n"
          ]
        },
        {
          "output_type": "stream",
          "name": "stdout",
          "text": [
            "cGAN Epoch 88/100, D Loss: 0.8696, G Loss: 1.4106\n"
          ]
        },
        {
          "output_type": "stream",
          "name": "stderr",
          "text": [
            "100%|██████████| 375/375 [00:12<00:00, 30.49it/s]\n"
          ]
        },
        {
          "output_type": "stream",
          "name": "stdout",
          "text": [
            "cGAN Epoch 89/100, D Loss: 0.9505, G Loss: 1.3303\n"
          ]
        },
        {
          "output_type": "stream",
          "name": "stderr",
          "text": [
            "100%|██████████| 375/375 [00:12<00:00, 30.58it/s]\n"
          ]
        },
        {
          "output_type": "stream",
          "name": "stdout",
          "text": [
            "cGAN Epoch 90/100, D Loss: 1.0408, G Loss: 1.1607\n"
          ]
        },
        {
          "output_type": "stream",
          "name": "stderr",
          "text": [
            "100%|██████████| 375/375 [00:12<00:00, 30.86it/s]\n"
          ]
        },
        {
          "output_type": "stream",
          "name": "stdout",
          "text": [
            "cGAN Epoch 91/100, D Loss: 0.9306, G Loss: 1.3009\n"
          ]
        },
        {
          "output_type": "stream",
          "name": "stderr",
          "text": [
            "100%|██████████| 375/375 [00:12<00:00, 30.72it/s]\n"
          ]
        },
        {
          "output_type": "stream",
          "name": "stdout",
          "text": [
            "cGAN Epoch 92/100, D Loss: 1.0541, G Loss: 1.7257\n"
          ]
        },
        {
          "output_type": "stream",
          "name": "stderr",
          "text": [
            "100%|██████████| 375/375 [00:12<00:00, 30.54it/s]\n"
          ]
        },
        {
          "output_type": "stream",
          "name": "stdout",
          "text": [
            "cGAN Epoch 93/100, D Loss: 0.9693, G Loss: 1.2632\n"
          ]
        },
        {
          "output_type": "stream",
          "name": "stderr",
          "text": [
            "100%|██████████| 375/375 [00:12<00:00, 30.73it/s]\n"
          ]
        },
        {
          "output_type": "stream",
          "name": "stdout",
          "text": [
            "cGAN Epoch 94/100, D Loss: 1.0791, G Loss: 1.3693\n"
          ]
        },
        {
          "output_type": "stream",
          "name": "stderr",
          "text": [
            "100%|██████████| 375/375 [00:12<00:00, 31.19it/s]\n"
          ]
        },
        {
          "output_type": "stream",
          "name": "stdout",
          "text": [
            "cGAN Epoch 95/100, D Loss: 0.9956, G Loss: 1.1657\n"
          ]
        },
        {
          "output_type": "stream",
          "name": "stderr",
          "text": [
            "100%|██████████| 375/375 [00:12<00:00, 31.06it/s]\n"
          ]
        },
        {
          "output_type": "stream",
          "name": "stdout",
          "text": [
            "cGAN Epoch 96/100, D Loss: 1.0299, G Loss: 1.2175\n"
          ]
        },
        {
          "output_type": "stream",
          "name": "stderr",
          "text": [
            "100%|██████████| 375/375 [00:12<00:00, 30.83it/s]\n"
          ]
        },
        {
          "output_type": "stream",
          "name": "stdout",
          "text": [
            "cGAN Epoch 97/100, D Loss: 1.1602, G Loss: 1.8985\n"
          ]
        },
        {
          "output_type": "stream",
          "name": "stderr",
          "text": [
            "100%|██████████| 375/375 [00:12<00:00, 31.04it/s]\n"
          ]
        },
        {
          "output_type": "stream",
          "name": "stdout",
          "text": [
            "cGAN Epoch 98/100, D Loss: 1.0986, G Loss: 1.4346\n"
          ]
        },
        {
          "output_type": "stream",
          "name": "stderr",
          "text": [
            "100%|██████████| 375/375 [00:12<00:00, 30.83it/s]\n"
          ]
        },
        {
          "output_type": "stream",
          "name": "stdout",
          "text": [
            "cGAN Epoch 99/100, D Loss: 1.0293, G Loss: 1.3181\n"
          ]
        },
        {
          "output_type": "stream",
          "name": "stderr",
          "text": [
            "100%|██████████| 375/375 [00:12<00:00, 30.47it/s]\n"
          ]
        },
        {
          "output_type": "stream",
          "name": "stdout",
          "text": [
            "cGAN Epoch 100/100, D Loss: 0.9568, G Loss: 1.7084\n"
          ]
        },
        {
          "output_type": "display_data",
          "data": {
            "text/plain": [
              "<Figure size 1000x1000 with 1 Axes>"
            ],
            "image/png": "[encoded data removed]"
          },
          "metadata": {}
        }
      ],
      "source": [
        "# cGAN 模型 - 升級為 CNN 版本\n",
        "class GeneratorCGAN(nn.Module):\n",
        "    def __init__(self):\n",
        "        super(GeneratorCGAN, self).__init__()\n",
        "        self.label_emb = nn.Embedding(num_classes, noise_dim)\n",
        "        self.model = nn.Sequential(\n",
        "            nn.Linear(noise_dim * 2, 256 * 7 * 7),\n",
        "            nn.Unflatten(1, (256, 7, 7)),\n",
        "            nn.ConvTranspose2d(256, 128, kernel_size=3, stride=2, padding=1, output_padding=1),\n",
        "            nn.BatchNorm2d(128),\n",
        "            nn.LeakyReLU(0.2),\n",
        "            nn.ConvTranspose2d(128, 64, kernel_size=3, stride=2, padding=1, output_padding=1),\n",
        "            nn.BatchNorm2d(64),\n",
        "            nn.LeakyReLU(0.2),\n",
        "            nn.ConvTranspose2d(64, 1, kernel_size=3, stride=1, padding=1),\n",
        "            nn.Tanh()\n",
        "        )\n",
        "\n",
        "    def forward(self, z, labels):\n",
        "        emb = self.label_emb(labels)\n",
        "        input = torch.cat((z, emb), dim=1)\n",
        "        return self.model(input)\n",
        "\n",
        "class DiscriminatorCGAN(nn.Module):\n",
        "    def __init__(self):\n",
        "        super(DiscriminatorCGAN, self).__init__()\n",
        "        self.label_emb = nn.Embedding(num_classes, 28 * 28)\n",
        "        self.model = nn.Sequential(\n",
        "            nn.Conv2d(2, 64, kernel_size=3, stride=2, padding=1),\n",
        "            nn.LeakyReLU(0.2),\n",
        "            nn.Conv2d(64, 128, kernel_size=3, stride=2, padding=1),\n",
        "            nn.LeakyReLU(0.2),\n",
        "            nn.Flatten(),\n",
        "            nn.Linear(128 * 7 * 7, 1),\n",
        "            nn.Sigmoid()\n",
        "        )\n",
        "\n",
        "    def forward(self, x, labels):\n",
        "        emb = self.label_emb(labels).view(labels.size(0), 1, 28, 28)\n",
        "        input = torch.cat((x, emb), dim=1)\n",
        "        return self.model(input)\n",
        "\n",
        "# 初始化\n",
        "generator_cgan = GeneratorCGAN().to(device)\n",
        "discriminator_cgan = DiscriminatorCGAN().to(device)\n",
        "optimizer_g_c = optim.Adam(generator_cgan.parameters(), lr=lr_cgan, betas=(beta1, 0.999))\n",
        "optimizer_d_c = optim.Adam(discriminator_cgan.parameters(), lr=lr_cgan, betas=(beta1, 0.999))\n",
        "\n",
        "print(\"訓練 cGAN...\")\n",
        "for epoch in range(epochs_cgan):\n",
        "    for i, (images, labels) in enumerate(tqdm(train_loader)):\n",
        "        images, labels = images.to(device), labels.to(device)\n",
        "        real = torch.ones(images.size(0), 1).to(device) * 0.9  # 標籤平滑\n",
        "        fake = torch.zeros(images.size(0), 1).to(device)\n",
        "\n",
        "        # 訓練判別器\n",
        "        optimizer_d_c.zero_grad()\n",
        "        output_real = discriminator_cgan(images, labels)\n",
        "        loss_real = criterion(output_real, real)\n",
        "        z = torch.randn(images.size(0), noise_dim).to(device)\n",
        "        fake_labels = torch.randint(0, num_classes, (images.size(0),)).to(device)\n",
        "        fake_images = generator_cgan(z, fake_labels)\n",
        "        output_fake = discriminator_cgan(fake_images.detach(), fake_labels)\n",
        "        loss_fake = criterion(output_fake, fake)\n",
        "        loss_d = loss_real + loss_fake\n",
        "        loss_d.backward()\n",
        "        optimizer_d_c.step()\n",
        "\n",
        "        # 訓練生成器\n",
        "        optimizer_g_c.zero_grad()\n",
        "        output_fake = discriminator_cgan(fake_images, fake_labels)\n",
        "        loss_g = criterion(output_fake, real)\n",
        "        loss_g.backward()\n",
        "        optimizer_g_c.step()\n",
        "\n",
        "    print(f\"cGAN Epoch {epoch+1}/{epochs_cgan}, D Loss: {loss_d.item():.4f}, G Loss: {loss_g.item():.4f}\")\n",
        "\n",
        "# 生成 cGAN 影像：每個類別 10 張，10x10 格\n",
        "with torch.no_grad():\n",
        "    z = torch.randn(100, noise_dim).to(device)\n",
        "    labels = torch.cat([torch.full((10,), i, dtype=torch.long) for i in range(10)]).to(device)\n",
        "    cgan_samples = generator_cgan(z, labels)\n",
        "show_images(cgan_samples, \"cGAN 生成的影像 (0-9，每個 10 張)\", nrow=10)"
      ]
    },
    {
      "cell_type": "markdown",
      "metadata": {
        "id": "RYsCc1Y5vAx_"
      },
      "source": [
        "# Diffusion Model"
      ]
    },
    {
      "cell_type": "code",
      "execution_count": null,
      "metadata": {
        "colab": {
          "base_uri": "https://localhost:8080/",
          "height": 1000
        },
        "id": "buWVRPuVfPiM",
        "outputId": "d728003e-533f-4e34-8334-c02b6c9582a7"
      },
      "outputs": [
        {
          "output_type": "stream",
          "name": "stdout",
          "text": [
            "訓練 Diffusion 模型...\n"
          ]
        },
        {
          "output_type": "stream",
          "name": "stderr",
          "text": [
            "100%|██████████| 375/375 [00:47<00:00,  7.92it/s]\n"
          ]
        },
        {
          "output_type": "stream",
          "name": "stdout",
          "text": [
            "Diffusion Epoch 1/150, Loss: 0.0009 | Val: 0.0005 | Time: 52.47s\n",
            "儲存最佳模型\n"
          ]
        },
        {
          "output_type": "stream",
          "name": "stderr",
          "text": [
            "100%|██████████| 375/375 [00:46<00:00,  8.07it/s]\n"
          ]
        },
        {
          "output_type": "stream",
          "name": "stdout",
          "text": [
            "Diffusion Epoch 2/150, Loss: 0.0005 | Val: 0.0004 | Time: 51.78s\n",
            "儲存最佳模型\n"
          ]
        },
        {
          "output_type": "stream",
          "name": "stderr",
          "text": [
            "100%|██████████| 375/375 [00:46<00:00,  8.11it/s]\n"
          ]
        },
        {
          "output_type": "stream",
          "name": "stdout",
          "text": [
            "Diffusion Epoch 3/150, Loss: 0.0004 | Val: 0.0004 | Time: 51.68s\n",
            "儲存最佳模型\n"
          ]
        },
        {
          "output_type": "stream",
          "name": "stderr",
          "text": [
            "100%|██████████| 375/375 [00:46<00:00,  8.07it/s]\n"
          ]
        },
        {
          "output_type": "stream",
          "name": "stdout",
          "text": [
            "Diffusion Epoch 4/150, Loss: 0.0004 | Val: 0.0004 | Time: 51.54s\n",
            "儲存最佳模型\n"
          ]
        },
        {
          "output_type": "stream",
          "name": "stderr",
          "text": [
            "100%|██████████| 375/375 [00:46<00:00,  8.04it/s]\n"
          ]
        },
        {
          "output_type": "stream",
          "name": "stdout",
          "text": [
            "Diffusion Epoch 5/150, Loss: 0.0004 | Val: 0.0004 | Time: 51.71s\n"
          ]
        },
        {
          "output_type": "stream",
          "name": "stderr",
          "text": [
            "100%|██████████| 375/375 [00:46<00:00,  8.08it/s]\n"
          ]
        },
        {
          "output_type": "stream",
          "name": "stdout",
          "text": [
            "Diffusion Epoch 6/150, Loss: 0.0004 | Val: 0.0004 | Time: 51.87s\n",
            "儲存最佳模型\n"
          ]
        },
        {
          "output_type": "stream",
          "name": "stderr",
          "text": [
            "100%|██████████| 375/375 [00:46<00:00,  8.11it/s]\n"
          ]
        },
        {
          "output_type": "stream",
          "name": "stdout",
          "text": [
            "Diffusion Epoch 7/150, Loss: 0.0004 | Val: 0.0004 | Time: 51.69s\n",
            "儲存最佳模型\n"
          ]
        },
        {
          "output_type": "stream",
          "name": "stderr",
          "text": [
            "100%|██████████| 375/375 [00:46<00:00,  8.08it/s]\n"
          ]
        },
        {
          "output_type": "stream",
          "name": "stdout",
          "text": [
            "Diffusion Epoch 8/150, Loss: 0.0004 | Val: 0.0003 | Time: 51.57s\n",
            "儲存最佳模型\n"
          ]
        },
        {
          "output_type": "stream",
          "name": "stderr",
          "text": [
            "100%|██████████| 375/375 [00:46<00:00,  8.07it/s]\n"
          ]
        },
        {
          "output_type": "stream",
          "name": "stdout",
          "text": [
            "Diffusion Epoch 9/150, Loss: 0.0003 | Val: 0.0003 | Time: 51.63s\n"
          ]
        },
        {
          "output_type": "stream",
          "name": "stderr",
          "text": [
            "100%|██████████| 375/375 [00:46<00:00,  8.06it/s]\n"
          ]
        },
        {
          "output_type": "stream",
          "name": "stdout",
          "text": [
            "Diffusion Epoch 10/150, Loss: 0.0003 | Val: 0.0003 | Time: 51.98s\n",
            "儲存最佳模型\n"
          ]
        },
        {
          "output_type": "stream",
          "name": "stderr",
          "text": [
            "100%|██████████| 375/375 [00:46<00:00,  8.10it/s]\n"
          ]
        },
        {
          "output_type": "stream",
          "name": "stdout",
          "text": [
            "Diffusion Epoch 11/150, Loss: 0.0003 | Val: 0.0003 | Time: 51.41s\n",
            "儲存最佳模型\n"
          ]
        },
        {
          "output_type": "stream",
          "name": "stderr",
          "text": [
            "100%|██████████| 375/375 [00:46<00:00,  8.09it/s]\n"
          ]
        },
        {
          "output_type": "stream",
          "name": "stdout",
          "text": [
            "Diffusion Epoch 12/150, Loss: 0.0003 | Val: 0.0003 | Time: 51.49s\n"
          ]
        },
        {
          "output_type": "stream",
          "name": "stderr",
          "text": [
            "100%|██████████| 375/375 [00:46<00:00,  8.07it/s]\n"
          ]
        },
        {
          "output_type": "stream",
          "name": "stdout",
          "text": [
            "Diffusion Epoch 13/150, Loss: 0.0003 | Val: 0.0003 | Time: 51.91s\n",
            "儲存最佳模型\n"
          ]
        },
        {
          "output_type": "stream",
          "name": "stderr",
          "text": [
            "100%|██████████| 375/375 [00:46<00:00,  8.08it/s]\n"
          ]
        },
        {
          "output_type": "stream",
          "name": "stdout",
          "text": [
            "Diffusion Epoch 14/150, Loss: 0.0003 | Val: 0.0003 | Time: 51.81s\n"
          ]
        },
        {
          "output_type": "stream",
          "name": "stderr",
          "text": [
            "100%|██████████| 375/375 [00:46<00:00,  8.08it/s]\n"
          ]
        },
        {
          "output_type": "stream",
          "name": "stdout",
          "text": [
            "Diffusion Epoch 15/150, Loss: 0.0003 | Val: 0.0003 | Time: 51.52s\n",
            "儲存最佳模型\n"
          ]
        },
        {
          "output_type": "stream",
          "name": "stderr",
          "text": [
            "100%|██████████| 375/375 [00:46<00:00,  8.08it/s]\n"
          ]
        },
        {
          "output_type": "stream",
          "name": "stdout",
          "text": [
            "Diffusion Epoch 16/150, Loss: 0.0003 | Val: 0.0003 | Time: 51.59s\n",
            "儲存最佳模型\n"
          ]
        },
        {
          "output_type": "stream",
          "name": "stderr",
          "text": [
            "100%|██████████| 375/375 [00:46<00:00,  8.09it/s]\n"
          ]
        },
        {
          "output_type": "stream",
          "name": "stdout",
          "text": [
            "Diffusion Epoch 17/150, Loss: 0.0003 | Val: 0.0003 | Time: 51.86s\n"
          ]
        },
        {
          "output_type": "stream",
          "name": "stderr",
          "text": [
            "100%|██████████| 375/375 [00:46<00:00,  8.03it/s]\n"
          ]
        },
        {
          "output_type": "stream",
          "name": "stdout",
          "text": [
            "Diffusion Epoch 18/150, Loss: 0.0003 | Val: 0.0003 | Time: 51.80s\n",
            "儲存最佳模型\n"
          ]
        },
        {
          "output_type": "stream",
          "name": "stderr",
          "text": [
            "100%|██████████| 375/375 [00:46<00:00,  8.08it/s]\n"
          ]
        },
        {
          "output_type": "stream",
          "name": "stdout",
          "text": [
            "Diffusion Epoch 19/150, Loss: 0.0003 | Val: 0.0003 | Time: 51.55s\n"
          ]
        },
        {
          "output_type": "stream",
          "name": "stderr",
          "text": [
            "100%|██████████| 375/375 [00:46<00:00,  8.09it/s]\n"
          ]
        },
        {
          "output_type": "stream",
          "name": "stdout",
          "text": [
            "Diffusion Epoch 20/150, Loss: 0.0003 | Val: 0.0003 | Time: 51.76s\n",
            "儲存最佳模型\n"
          ]
        },
        {
          "output_type": "stream",
          "name": "stderr",
          "text": [
            "100%|██████████| 375/375 [00:46<00:00,  8.11it/s]\n"
          ]
        },
        {
          "output_type": "stream",
          "name": "stdout",
          "text": [
            "Diffusion Epoch 21/150, Loss: 0.0003 | Val: 0.0003 | Time: 51.64s\n"
          ]
        },
        {
          "output_type": "stream",
          "name": "stderr",
          "text": [
            "100%|██████████| 375/375 [00:46<00:00,  8.07it/s]\n"
          ]
        },
        {
          "output_type": "stream",
          "name": "stdout",
          "text": [
            "Diffusion Epoch 22/150, Loss: 0.0003 | Val: 0.0003 | Time: 51.59s\n"
          ]
        },
        {
          "output_type": "stream",
          "name": "stderr",
          "text": [
            "100%|██████████| 375/375 [00:46<00:00,  8.04it/s]\n"
          ]
        },
        {
          "output_type": "stream",
          "name": "stdout",
          "text": [
            "Diffusion Epoch 23/150, Loss: 0.0003 | Val: 0.0003 | Time: 51.70s\n",
            "儲存最佳模型\n"
          ]
        },
        {
          "output_type": "stream",
          "name": "stderr",
          "text": [
            "100%|██████████| 375/375 [00:46<00:00,  8.05it/s]\n"
          ]
        },
        {
          "output_type": "stream",
          "name": "stdout",
          "text": [
            "Diffusion Epoch 24/150, Loss: 0.0003 | Val: 0.0003 | Time: 52.08s\n",
            "儲存最佳模型\n"
          ]
        },
        {
          "output_type": "stream",
          "name": "stderr",
          "text": [
            "100%|██████████| 375/375 [00:46<00:00,  8.04it/s]\n"
          ]
        },
        {
          "output_type": "stream",
          "name": "stdout",
          "text": [
            "Diffusion Epoch 25/150, Loss: 0.0003 | Val: 0.0003 | Time: 51.85s\n"
          ]
        },
        {
          "output_type": "stream",
          "name": "stderr",
          "text": [
            "100%|██████████| 375/375 [00:46<00:00,  8.05it/s]\n"
          ]
        },
        {
          "output_type": "stream",
          "name": "stdout",
          "text": [
            "Diffusion Epoch 26/150, Loss: 0.0003 | Val: 0.0003 | Time: 51.75s\n"
          ]
        },
        {
          "output_type": "stream",
          "name": "stderr",
          "text": [
            "100%|██████████| 375/375 [00:46<00:00,  8.02it/s]\n"
          ]
        },
        {
          "output_type": "stream",
          "name": "stdout",
          "text": [
            "Diffusion Epoch 27/150, Loss: 0.0003 | Val: 0.0003 | Time: 52.29s\n"
          ]
        },
        {
          "output_type": "stream",
          "name": "stderr",
          "text": [
            "100%|██████████| 375/375 [00:46<00:00,  8.10it/s]\n"
          ]
        },
        {
          "output_type": "stream",
          "name": "stdout",
          "text": [
            "Diffusion Epoch 28/150, Loss: 0.0003 | Val: 0.0003 | Time: 51.66s\n"
          ]
        },
        {
          "output_type": "stream",
          "name": "stderr",
          "text": [
            "100%|██████████| 375/375 [00:46<00:00,  8.05it/s]\n"
          ]
        },
        {
          "output_type": "stream",
          "name": "stdout",
          "text": [
            "Diffusion Epoch 29/150, Loss: 0.0003 | Val: 0.0003 | Time: 51.78s\n"
          ]
        },
        {
          "output_type": "stream",
          "name": "stderr",
          "text": [
            "100%|██████████| 375/375 [00:46<00:00,  8.07it/s]\n"
          ]
        },
        {
          "output_type": "stream",
          "name": "stdout",
          "text": [
            "Diffusion Epoch 30/150, Loss: 0.0003 | Val: 0.0003 | Time: 51.61s\n"
          ]
        },
        {
          "output_type": "stream",
          "name": "stderr",
          "text": [
            "100%|██████████| 375/375 [00:46<00:00,  8.06it/s]\n"
          ]
        },
        {
          "output_type": "stream",
          "name": "stdout",
          "text": [
            "Diffusion Epoch 31/150, Loss: 0.0003 | Val: 0.0003 | Time: 51.96s\n"
          ]
        },
        {
          "output_type": "stream",
          "name": "stderr",
          "text": [
            "100%|██████████| 375/375 [00:46<00:00,  8.02it/s]\n"
          ]
        },
        {
          "output_type": "stream",
          "name": "stdout",
          "text": [
            "Diffusion Epoch 32/150, Loss: 0.0003 | Val: 0.0003 | Time: 51.95s\n"
          ]
        },
        {
          "output_type": "stream",
          "name": "stderr",
          "text": [
            "100%|██████████| 375/375 [00:46<00:00,  8.08it/s]\n"
          ]
        },
        {
          "output_type": "stream",
          "name": "stdout",
          "text": [
            "Diffusion Epoch 33/150, Loss: 0.0003 | Val: 0.0003 | Time: 51.55s\n"
          ]
        },
        {
          "output_type": "stream",
          "name": "stderr",
          "text": [
            "100%|██████████| 375/375 [00:46<00:00,  8.10it/s]\n"
          ]
        },
        {
          "output_type": "stream",
          "name": "stdout",
          "text": [
            "Diffusion Epoch 34/150, Loss: 0.0003 | Val: 0.0003 | Time: 51.69s\n",
            "早停觸發\n",
            "總訓練時間: 1760.37s\n"
          ]
        },
        {
          "output_type": "display_data",
          "data": {
            "text/plain": [
              "<Figure size 1000x1000 with 1 Axes>"
            ],
            "image/png": "[encoded data removed]"
          },
          "metadata": {}
        }
      ],
      "source": [
        "# Diffusion 超參數\n",
        "timesteps = 300\n",
        "betas = torch.linspace(1e-4, 0.02, timesteps).to(device)\n",
        "alphas = 1 - betas\n",
        "alphas_cumprod = torch.cumprod(alphas, dim=0)\n",
        "alphas_cumprod_prev = F.pad(alphas_cumprod[:-1], (1, 0), value=1.0)\n",
        "sqrt_alphas_cumprod = torch.sqrt(alphas_cumprod)\n",
        "sqrt_one_minus_alphas_cumprod = torch.sqrt(1 - alphas_cumprod)\n",
        "sqrt_recip_alphas = torch.sqrt(1.0 / alphas)\n",
        "posterior_variance = betas * (1.0 - alphas_cumprod_prev) / (1.0 - alphas_cumprod)\n",
        "\n",
        "def extract(a, t, x_shape):\n",
        "    b = t.shape[0]\n",
        "    out = a.gather(-1, t).reshape(b, *((1,) * (len(x_shape) - 1)))\n",
        "    return out\n",
        "\n",
        "def q_sample(x0, t, noise=None):\n",
        "    if noise is None:\n",
        "        noise = torch.randn_like(x0)\n",
        "    return extract(sqrt_alphas_cumprod, t, x0.shape) * x0 + extract(sqrt_one_minus_alphas_cumprod, t, x0.shape) * noise\n",
        "\n",
        "# Diffusion 模型\n",
        "class SinusoidalPosEmb(nn.Module):\n",
        "    def __init__(self, dim):\n",
        "        super().__init__()\n",
        "        self.dim = dim\n",
        "\n",
        "    def forward(self, t):\n",
        "        device = t.device\n",
        "        half = self.dim // 2\n",
        "        freqs = torch.exp(\n",
        "            torch.linspace(np.log(1.0), np.log(10000.0), steps=half, device=device)\n",
        "        )\n",
        "        args = t[:, None].float() * freqs[None, :]\n",
        "        emb = torch.cat([torch.sin(args), torch.cos(args)], dim=-1)\n",
        "        return emb\n",
        "\n",
        "class ResBlock(nn.Module):\n",
        "    def __init__(self, in_ch, out_ch, t_emb_dim):\n",
        "        super().__init__()\n",
        "        self.mlp = nn.Sequential(nn.SiLU(), nn.Linear(t_emb_dim, out_ch))\n",
        "        self.block1 = nn.Sequential(\n",
        "            nn.Conv2d(in_ch, out_ch, 3, 1, 1), nn.GroupNorm(8, out_ch), nn.SiLU()\n",
        "        )\n",
        "        self.block2 = nn.Sequential(\n",
        "            nn.Conv2d(out_ch, out_ch, 3, 1, 1), nn.GroupNorm(8, out_ch), nn.SiLU()\n",
        "        )\n",
        "        self.res_conv = nn.Conv2d(in_ch, out_ch, 1) if in_ch != out_ch else nn.Identity()\n",
        "\n",
        "    def forward(self, x, t_emb):\n",
        "        h = self.block1(x)\n",
        "        h += self.mlp(t_emb)[:, :, None, None]\n",
        "        h = self.block2(h)\n",
        "        return h + self.res_conv(x)\n",
        "\n",
        "class TinyUNet(nn.Module):\n",
        "    def __init__(self, in_ch=1, base_ch=64, t_emb_dim=128):\n",
        "        super().__init__()\n",
        "        self.time_mlp = nn.Sequential(\n",
        "            SinusoidalPosEmb(t_emb_dim), nn.Linear(t_emb_dim, t_emb_dim*4), nn.SiLU(),\n",
        "            nn.Linear(t_emb_dim*4, t_emb_dim)\n",
        "        )\n",
        "        # down\n",
        "        self.conv_in = nn.Conv2d(in_ch, base_ch, 3, 1, 1)\n",
        "        self.rb1 = ResBlock(base_ch, base_ch, t_emb_dim)\n",
        "        self.down1 = nn.Conv2d(base_ch, base_ch*2, 4, 2, 1)  # 28->14\n",
        "        self.rb2 = ResBlock(base_ch*2, base_ch*2, t_emb_dim)\n",
        "        self.down2 = nn.Conv2d(base_ch*2, base_ch*4, 4, 2, 1)  # 14->7\n",
        "        self.rb3 = ResBlock(base_ch*4, base_ch*4, t_emb_dim)\n",
        "        # bottleneck\n",
        "        self.rb_mid = ResBlock(base_ch*4, base_ch*4, t_emb_dim)\n",
        "        # up\n",
        "        self.up1 = nn.ConvTranspose2d(base_ch*4, base_ch*2, 4, 2, 1)  # 7->14\n",
        "        self.rb4 = ResBlock(base_ch*4, base_ch*2, t_emb_dim)\n",
        "        self.up2 = nn.ConvTranspose2d(base_ch*2, base_ch, 4, 2, 1)    # 14->28\n",
        "        self.rb5 = ResBlock(base_ch*2, base_ch, t_emb_dim)\n",
        "        self.conv_out = nn.Conv2d(base_ch, in_ch, 3, 1, 1)\n",
        "\n",
        "    def forward(self, x, t):\n",
        "        t_emb = self.time_mlp(t)\n",
        "        h1 = self.conv_in(x); h1 = self.rb1(h1, t_emb)\n",
        "        h2 = self.down1(h1);  h2 = self.rb2(h2, t_emb)\n",
        "        h3 = self.down2(h2);  h3 = self.rb3(h3, t_emb)\n",
        "        h  = self.rb_mid(h3, t_emb)\n",
        "        h  = self.up1(h);     h  = torch.cat([h, h2], dim=1); h = self.rb4(h, t_emb)\n",
        "        h  = self.up2(h);     h  = torch.cat([h, h1], dim=1); h = self.rb5(h, t_emb)\n",
        "        out = self.conv_out(h)\n",
        "        return out  # 預測噪音\n",
        "\n",
        "# 初始化模型\n",
        "model_diff = TinyUNet(in_ch=channels, base_ch=64, t_emb_dim=128).to(device)\n",
        "optimizer_diff = optim.Adam(model_diff.parameters(), lr=lr_diffusion)\n",
        "criterion_diff = nn.MSELoss()\n",
        "\n",
        "# 訓練 Diffusion\n",
        "def diffusion_loss_batch(x0):\n",
        "    b = x0.size(0)\n",
        "    t = torch.randint(0, timesteps, (b,), device=device).long()\n",
        "    noise = torch.randn_like(x0)\n",
        "    xt = q_sample(x0, t, noise)\n",
        "    predicted_noise = model_diff(xt, t)\n",
        "    loss = criterion_diff(predicted_noise, noise)\n",
        "    return loss\n",
        "\n",
        "best_val = float('inf')\n",
        "early = 0\n",
        "best_model_path = \"diffusion_best.pth\"\n",
        "train_losses, valid_losses = [], []\n",
        "\n",
        "print(\"訓練 Diffusion 模型...\")\n",
        "total_start = time.time()\n",
        "for epoch in range(1, epochs_diffusion + 1):\n",
        "    ep_start = time.time()\n",
        "    model_diff.train()\n",
        "    train_loss_sum = 0.0\n",
        "    for data, _ in tqdm(train_loader):\n",
        "        data = data.to(device)\n",
        "        loss = diffusion_loss_batch(data)\n",
        "        optimizer_diff.zero_grad()\n",
        "        loss.backward()\n",
        "        optimizer_diff.step()\n",
        "        train_loss_sum += loss.item()\n",
        "    avg_train = train_loss_sum / len(train_loader.dataset)\n",
        "    train_losses.append(avg_train)\n",
        "\n",
        "    # validation\n",
        "    model_diff.eval()\n",
        "    val_sum = 0.0\n",
        "    with torch.no_grad():\n",
        "        for data, _ in valid_loader:\n",
        "            data = data.to(device)\n",
        "            val_sum += diffusion_loss_batch(data).item()\n",
        "    avg_val = val_sum / len(valid_loader.dataset)\n",
        "    valid_losses.append(avg_val)\n",
        "\n",
        "    ep_time = time.time() - ep_start\n",
        "    print(f\"Diffusion Epoch {epoch}/{epochs_diffusion}, Loss: {avg_train:.4f} | Val: {avg_val:.4f} | Time: {ep_time:.2f}s\")\n",
        "\n",
        "    if avg_val < best_val:\n",
        "        best_val = avg_val\n",
        "        torch.save(model_diff.state_dict(), best_model_path)\n",
        "        print(\"儲存最佳模型\")\n",
        "        early = 0\n",
        "    else:\n",
        "        early += 1\n",
        "        if early >= patience:\n",
        "            print(\"早停觸發\")\n",
        "            break\n",
        "\n",
        "total_time = time.time() - total_start\n",
        "print(f\"總訓練時間: {total_time:.2f}s\")\n",
        "\n",
        "# Diffusion 取樣\n",
        "@torch.no_grad()\n",
        "def sample_diffusion(num_samples):\n",
        "    model_diff.eval()\n",
        "    x = torch.randn(num_samples, channels, image_size, image_size).to(device)\n",
        "    for t in reversed(range(timesteps)):\n",
        "        t_tensor = torch.full((num_samples,), t, dtype=torch.long, device=device)\n",
        "        predicted_noise = model_diff(x, t_tensor)\n",
        "        alpha = alphas[t]\n",
        "        alpha_cumprod = alphas_cumprod[t]\n",
        "        beta = betas[t]\n",
        "        if t > 0:\n",
        "            noise = torch.randn_like(x)\n",
        "        else:\n",
        "            noise = torch.zeros_like(x)\n",
        "        alpha = alpha.expand(num_samples, channels, image_size, image_size)\n",
        "        alpha_cumprod = alpha_cumprod.expand(num_samples, channels, image_size, image_size)\n",
        "        beta = beta.expand(num_samples, channels, image_size, image_size)\n",
        "        x = (1 / torch.sqrt(alpha)) * (x - ((1 - alpha) / torch.sqrt(1 - alpha_cumprod)) * predicted_noise) + torch.sqrt(beta) * noise\n",
        "    return x.clamp(-1, 1)\n",
        "\n",
        "diff_samples = sample_diffusion(10)\n",
        "show_images(diff_samples, \"Diffusion 生成的影像\", nrow=5)"
      ]
    },
    {
      "cell_type": "markdown",
      "metadata": {
        "id": "1xOERBk7vLor"
      },
      "source": [
        "# 比較"
      ]
    },
    {
      "cell_type": "code",
      "execution_count": null,
      "metadata": {
        "id": "ejkzmKKRvOvf",
        "colab": {
          "base_uri": "https://localhost:8080/",
          "height": 373
        },
        "outputId": "fee3b503-16f9-4de9-8b81-0dd1a3b5e275"
      },
      "outputs": [
        {
          "output_type": "display_data",
          "data": {
            "text/plain": [
              "<Figure size 1000x1000 with 1 Axes>"
            ],
            "image/png": "[encoded data removed]"
          },
          "metadata": {}
        }
      ],
      "source": [
        "# 比較\n",
        "# 生成比較用的影像（每個模型隨機 10 張）\n",
        "with torch.no_grad():\n",
        "    z_vae = torch.randn(10, latent_dim).to(device)\n",
        "    vae_comp = vae.decode(z_vae)\n",
        "\n",
        "    z_gan = torch.randn(10, noise_dim).to(device)\n",
        "    gan_comp = generator_gan(z_gan)\n",
        "\n",
        "    z_cgan = torch.randn(10, noise_dim).to(device)\n",
        "    labels_cgan = torch.randint(0, num_classes, (10,)).to(device)\n",
        "    cgan_comp = generator_cgan(z_cgan, labels_cgan)\n",
        "\n",
        "    diff_comp = sample_diffusion(10)\n",
        "\n",
        "# 繪製比較圖\n",
        "comp_images = torch.cat([vae_comp, gan_comp, cgan_comp, diff_comp])\n",
        "show_images(comp_images, \"比較: VAE | GAN | cGAN | Diffusion (由上至下)\", nrow=10)\n",
        "\n",
        "# 注意：分析部分請觀察清晰度、穩定性（GAN 是否有模式崩潰）、可控性（cGAN 可指定類別）、效率（訓練/推理時間）。"
      ]
    }
  ],
  "metadata": {
    "accelerator": "GPU",
    "colab": {
      "gpuType": "T4",
      "provenance": [],
      "include_colab_link": true
    },
    "kernelspec": {
      "display_name": "Python 3",
      "name": "python3"
    },
    "language_info": {
      "name": "python"
    }
  },
  "nbformat": 4,
  "nbformat_minor": 0
}